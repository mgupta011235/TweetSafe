{
 "cells": [
  {
   "cell_type": "code",
   "execution_count": 50,
   "metadata": {
    "collapsed": false
   },
   "outputs": [],
   "source": [
    "from sklearn.feature_extraction.text import TfidfVectorizer\n",
    "import xgboost as xgb\n",
    "import cPickle as pickle\n",
    "from string import punctuation\n",
    "from nltk import word_tokenize\n",
    "from nltk.stem import snowball\n",
    "import numpy as np\n",
    "import pandas as pd\n",
    "import matplotlib.pyplot as plt\n",
    "from nltk.tokenize import PunktSentenceTokenizer\n",
    "import time\n",
    "import seaborn as sb\n",
    "%matplotlib inline\n",
    "\n",
    "\n",
    "stemmer = snowball.SnowballStemmer(\"english\")"
   ]
  },
  {
   "cell_type": "code",
   "execution_count": 29,
   "metadata": {
    "collapsed": true
   },
   "outputs": [],
   "source": [
    "def build_roc(df):\n",
    "    \n",
    "    df['TPR'] = df['recall']\n",
    "    df['FPR'] = df['FP']/(df['FP'] + df['TN'])\n",
    "    \n",
    "#     plt.plot([0,1],[0,1],'k',linewidth=0.5)\n",
    "    plt.figure()\n",
    "    plt.plot(df.FPR.values,df.TPR.values,'r*',markersize=7)\n",
    "    plt.xlabel('FPR')\n",
    "    plt.xlim([0,1])\n",
    "    plt.ylabel('TPR')\n",
    "    plt.ylim([0,1])\n",
    "    titlestr = \"AUC: {}  k = {}\".format(np.trapz(df.TPR.values[::-1],x=df.FPR.values[::-1]),int(df.k.unique()))\n",
    "    plt.title(titlestr)"
   ]
  },
  {
   "cell_type": "code",
   "execution_count": 30,
   "metadata": {
    "collapsed": true
   },
   "outputs": [],
   "source": [
    "resultspath2 = '../../data/gridsearch_modelbase2mini_on_test.csv'\n",
    "df2 = pd.read_csv(resultspath2)"
   ]
  },
  {
   "cell_type": "code",
   "execution_count": 39,
   "metadata": {
    "collapsed": false
   },
   "outputs": [
    {
     "data": {
      "text/html": [
       "<div>\n",
       "<table border=\"1\" class=\"dataframe\">\n",
       "  <thead>\n",
       "    <tr style=\"text-align: right;\">\n",
       "      <th></th>\n",
       "      <th>Unnamed: 0</th>\n",
       "      <th>k</th>\n",
       "      <th>threshold</th>\n",
       "      <th>accuracy</th>\n",
       "      <th>recall</th>\n",
       "      <th>precision</th>\n",
       "      <th>TP</th>\n",
       "      <th>TN</th>\n",
       "      <th>FN</th>\n",
       "      <th>FP</th>\n",
       "    </tr>\n",
       "  </thead>\n",
       "  <tbody>\n",
       "    <tr>\n",
       "      <th>0</th>\n",
       "      <td>0</td>\n",
       "      <td>11</td>\n",
       "      <td>0.1</td>\n",
       "      <td>0.501078</td>\n",
       "      <td>1.000000</td>\n",
       "      <td>0.500958</td>\n",
       "      <td>2091</td>\n",
       "      <td>1</td>\n",
       "      <td>0</td>\n",
       "      <td>2083</td>\n",
       "    </tr>\n",
       "    <tr>\n",
       "      <th>1</th>\n",
       "      <td>1</td>\n",
       "      <td>11</td>\n",
       "      <td>0.2</td>\n",
       "      <td>0.504431</td>\n",
       "      <td>0.999044</td>\n",
       "      <td>0.502647</td>\n",
       "      <td>2089</td>\n",
       "      <td>17</td>\n",
       "      <td>2</td>\n",
       "      <td>2067</td>\n",
       "    </tr>\n",
       "    <tr>\n",
       "      <th>2</th>\n",
       "      <td>2</td>\n",
       "      <td>11</td>\n",
       "      <td>0.3</td>\n",
       "      <td>0.527904</td>\n",
       "      <td>0.994261</td>\n",
       "      <td>0.514859</td>\n",
       "      <td>2079</td>\n",
       "      <td>125</td>\n",
       "      <td>12</td>\n",
       "      <td>1959</td>\n",
       "    </tr>\n",
       "    <tr>\n",
       "      <th>3</th>\n",
       "      <td>3</td>\n",
       "      <td>11</td>\n",
       "      <td>0.4</td>\n",
       "      <td>0.612934</td>\n",
       "      <td>0.958871</td>\n",
       "      <td>0.567185</td>\n",
       "      <td>2005</td>\n",
       "      <td>554</td>\n",
       "      <td>86</td>\n",
       "      <td>1530</td>\n",
       "    </tr>\n",
       "    <tr>\n",
       "      <th>4</th>\n",
       "      <td>4</td>\n",
       "      <td>11</td>\n",
       "      <td>0.5</td>\n",
       "      <td>0.721916</td>\n",
       "      <td>0.889048</td>\n",
       "      <td>0.666786</td>\n",
       "      <td>1859</td>\n",
       "      <td>1155</td>\n",
       "      <td>232</td>\n",
       "      <td>929</td>\n",
       "    </tr>\n",
       "  </tbody>\n",
       "</table>\n",
       "</div>"
      ],
      "text/plain": [
       "   Unnamed: 0   k  threshold  accuracy    recall  precision    TP    TN   FN  \\\n",
       "0           0  11        0.1  0.501078  1.000000   0.500958  2091     1    0   \n",
       "1           1  11        0.2  0.504431  0.999044   0.502647  2089    17    2   \n",
       "2           2  11        0.3  0.527904  0.994261   0.514859  2079   125   12   \n",
       "3           3  11        0.4  0.612934  0.958871   0.567185  2005   554   86   \n",
       "4           4  11        0.5  0.721916  0.889048   0.666786  1859  1155  232   \n",
       "\n",
       "     FP  \n",
       "0  2083  \n",
       "1  2067  \n",
       "2  1959  \n",
       "3  1530  \n",
       "4   929  "
      ]
     },
     "execution_count": 39,
     "metadata": {},
     "output_type": "execute_result"
    }
   ],
   "source": [
    "df2.head()"
   ]
  },
  {
   "cell_type": "code",
   "execution_count": 34,
   "metadata": {
    "collapsed": false
   },
   "outputs": [
    {
     "data": {
      "image/png": "[encoded data removed]",
      "text/plain": [
       "<matplotlib.figure.Figure at 0x7eff65703cd0>"
      ]
     },
     "metadata": {},
     "output_type": "display_data"
    }
   ],
   "source": [
    "build_roc(df2[df2['k']==11])"
   ]
  },
  {
   "cell_type": "code",
   "execution_count": 4,
   "metadata": {
    "collapsed": true
   },
   "outputs": [],
   "source": [
    "resultspath = '../../data/twitter_test_xgboost_doc2vec_results.csv'\n",
    "dresults = pd.read_csv(resultspath)"
   ]
  },
  {
   "cell_type": "code",
   "execution_count": 51,
   "metadata": {
    "collapsed": false
   },
   "outputs": [
    {
     "data": {
      "text/plain": [
       "<matplotlib.text.Text at 0x7eff60dc3c10>"
      ]
     },
     "execution_count": 51,
     "metadata": {},
     "output_type": "execute_result"
    },
    {
     "data": {
      "image/png": "[encoded data removed]",
      "text/plain": [
       "<matplotlib.figure.Figure at 0x7eff60df6b10>"
      ]
     },
     "metadata": {},
     "output_type": "display_data"
    }
   ],
   "source": [
    "plt.figure()\n",
    "\n",
    "yvals = df2['recall']\n",
    "xvals = df2['FP']/(df2['FP'] + df2['TN'])\n",
    "plt.plot(xvals,yvals,'r',linewidth=2,label='doc2vec')\n",
    "\n",
    "plt.plot(FPR,TPR,'b',linewidth=2,label='TFIDF')\n",
    "\n",
    "plt.xlabel('False Postive Rate')\n",
    "plt.xlim([0,1])\n",
    "plt.ylabel('True Positive Rate')\n",
    "plt.ylim([0,1])\n",
    "plt.legend()\n",
    "\n",
    "doc2vecAUC = np.round(np.trapz(yvals[::-1],x=xvals[::-1]),decimals=2)\n",
    "TFIDF_AUC = np.round(np.trapz(TPR[::-1],x=FPR[::-1]),decimals=2)\n",
    "titlestr = \"doc2vec AUC: {} | TFIDF AUC: {}\".format(doc2vecAUC,TFIDF_AUC)\n",
    "plt.title(titlestr)"
   ]
  },
  {
   "cell_type": "code",
   "execution_count": 5,
   "metadata": {
    "collapsed": false
   },
   "outputs": [
    {
     "data": {
      "text/plain": [
       "<matplotlib.text.Text at 0x7eff65a34ed0>"
      ]
     },
     "execution_count": 5,
     "metadata": {},
     "output_type": "execute_result"
    },
    {
     "data": {
      "image/png": "[encoded data removed]",
      "text/plain": [
       "<matplotlib.figure.Figure at 0x7effa8426210>"
      ]
     },
     "metadata": {},
     "output_type": "display_data"
    }
   ],
   "source": [
    "labels = dresults['label'].values\n",
    "TPR = []\n",
    "FPR = []\n",
    "\n",
    "for i in xrange(101):\n",
    "    threshold = i/100.0\n",
    "    predict = dresults['xgboost_predict'].values >= threshold\n",
    "    \n",
    "    TP = sum(predict+labels==2)\n",
    "    TN = sum(predict+labels==0)\n",
    "    FP = sum(predict-labels==1)\n",
    "    FN = sum(predict-labels==-1)\n",
    "    \n",
    "#     print \"accuracy: {} | threshold {}\".format((TP+TN)/float(len(labels)),threshold)\n",
    "    \n",
    "    TPR.append(TP/float(TP+FN))\n",
    "    FPR.append(FP/float(FP+TN))\n",
    "    \n",
    "plt.plot(FPR,TPR,'r*',markersize=7)\n",
    "plt.xlabel('FPR')\n",
    "plt.xlim([0,1])\n",
    "plt.ylabel('TPR')\n",
    "plt.ylim([0,1])\n",
    "titlestr = \"AUC: {}\".format(np.trapz(TPR[::-1],x=FPR[::-1]))\n",
    "plt.title(titlestr) "
   ]
  },
  {
   "cell_type": "code",
   "execution_count": 6,
   "metadata": {
    "collapsed": true
   },
   "outputs": [],
   "source": [
    "#output from test_model.py on test set with k = 11 and threshold = 0.63\n",
    "# accuracy: 0.794011976048\n",
    "# recall: 0.781922525108\n",
    "# precision: 0.801863658656\n",
    "\n",
    "# TP: 1635\n",
    "# TN: 1680\n",
    "\n",
    "# FN: 456\n",
    "# FP: 404\n"
   ]
  },
  {
   "cell_type": "code",
   "execution_count": null,
   "metadata": {
    "collapsed": true
   },
   "outputs": [],
   "source": []
  },
  {
   "cell_type": "code",
   "execution_count": 7,
   "metadata": {
    "collapsed": true
   },
   "outputs": [],
   "source": [
    "def myfunc(x):\n",
    "    #threshold val chosen from cross val set analysis\n",
    "    threshold = 0.41\n",
    "    if x>= threshold:\n",
    "        return 1\n",
    "    else:\n",
    "        return 0"
   ]
  },
  {
   "cell_type": "code",
   "execution_count": 8,
   "metadata": {
    "collapsed": true
   },
   "outputs": [],
   "source": [
    "df = dresults.copy()\n",
    "df['xgbfinal4_predict'] = df['xgboost_predict'].map(lambda x: myfunc(x))"
   ]
  },
  {
   "cell_type": "code",
   "execution_count": 9,
   "metadata": {
    "collapsed": false
   },
   "outputs": [
    {
     "data": {
      "text/html": [
       "<div>\n",
       "<table border=\"1\" class=\"dataframe\">\n",
       "  <thead>\n",
       "    <tr style=\"text-align: right;\">\n",
       "      <th></th>\n",
       "      <th>Unnamed: 0</th>\n",
       "      <th>Unnamed: 0.1</th>\n",
       "      <th>Unnamed: 0.1</th>\n",
       "      <th>tweet_text</th>\n",
       "      <th>label</th>\n",
       "      <th>xgboost_predict</th>\n",
       "      <th>doc2vec_predict</th>\n",
       "      <th>xgbfinal4_predict</th>\n",
       "    </tr>\n",
       "  </thead>\n",
       "  <tbody>\n",
       "    <tr>\n",
       "      <th>0</th>\n",
       "      <td>0</td>\n",
       "      <td>1</td>\n",
       "      <td>1</td>\n",
       "      <td>Fuck dykes</td>\n",
       "      <td>1</td>\n",
       "      <td>0.489720</td>\n",
       "      <td>1.0</td>\n",
       "      <td>1</td>\n",
       "    </tr>\n",
       "    <tr>\n",
       "      <th>1</th>\n",
       "      <td>1</td>\n",
       "      <td>2</td>\n",
       "      <td>2</td>\n",
       "      <td>@sizzurp__ @ILIKECATS74 @yoPapi_chulo @brandon...</td>\n",
       "      <td>1</td>\n",
       "      <td>0.663959</td>\n",
       "      <td>1.0</td>\n",
       "      <td>1</td>\n",
       "    </tr>\n",
       "    <tr>\n",
       "      <th>2</th>\n",
       "      <td>2</td>\n",
       "      <td>3</td>\n",
       "      <td>3</td>\n",
       "      <td>\"@jayswaggkillah: \"@JacklynAnnn: @jayswaggkill...</td>\n",
       "      <td>1</td>\n",
       "      <td>0.501306</td>\n",
       "      <td>1.0</td>\n",
       "      <td>1</td>\n",
       "    </tr>\n",
       "    <tr>\n",
       "      <th>3</th>\n",
       "      <td>3</td>\n",
       "      <td>9</td>\n",
       "      <td>9</td>\n",
       "      <td>I'm tired of people saying I look like my brot...</td>\n",
       "      <td>1</td>\n",
       "      <td>0.684776</td>\n",
       "      <td>1.0</td>\n",
       "      <td>1</td>\n",
       "    </tr>\n",
       "    <tr>\n",
       "      <th>4</th>\n",
       "      <td>4</td>\n",
       "      <td>12</td>\n",
       "      <td>12</td>\n",
       "      <td>I hate faggots like you</td>\n",
       "      <td>1</td>\n",
       "      <td>0.663959</td>\n",
       "      <td>1.0</td>\n",
       "      <td>1</td>\n",
       "    </tr>\n",
       "  </tbody>\n",
       "</table>\n",
       "</div>"
      ],
      "text/plain": [
       "   Unnamed: 0  Unnamed: 0.1  Unnamed: 0.1  \\\n",
       "0           0             1             1   \n",
       "1           1             2             2   \n",
       "2           2             3             3   \n",
       "3           3             9             9   \n",
       "4           4            12            12   \n",
       "\n",
       "                                          tweet_text  label  xgboost_predict  \\\n",
       "0                                         Fuck dykes      1         0.489720   \n",
       "1  @sizzurp__ @ILIKECATS74 @yoPapi_chulo @brandon...      1         0.663959   \n",
       "2  \"@jayswaggkillah: \"@JacklynAnnn: @jayswaggkill...      1         0.501306   \n",
       "3  I'm tired of people saying I look like my brot...      1         0.684776   \n",
       "4                            I hate faggots like you      1         0.663959   \n",
       "\n",
       "   doc2vec_predict  xgbfinal4_predict  \n",
       "0              1.0                  1  \n",
       "1              1.0                  1  \n",
       "2              1.0                  1  \n",
       "3              1.0                  1  \n",
       "4              1.0                  1  "
      ]
     },
     "execution_count": 9,
     "metadata": {},
     "output_type": "execute_result"
    }
   ],
   "source": [
    "df.head()"
   ]
  },
  {
   "cell_type": "code",
   "execution_count": 10,
   "metadata": {
    "collapsed": true
   },
   "outputs": [],
   "source": [
    "df_agree_good = df[(df['label'] + df['xgbfinal4_predict'] + df['doc2vec_predict']) == 0]"
   ]
  },
  {
   "cell_type": "code",
   "execution_count": 18,
   "metadata": {
    "collapsed": false
   },
   "outputs": [
    {
     "name": "stdout",
     "output_type": "stream",
     "text": [
      "1417\n",
      "\n",
      "RT @Fact: Some species of birds have been known to hold funerals for their deceased.\n",
      "\n",
      "I remember Draft prom night, my dress wouldn't zip up and I was bawling my eyes out and screaming I didn't want to go... So funny. Haha.\n",
      "\n",
      "#YouWillNotBeTakenSeriouslyIf you wear shorty shorts and fuzzy boots in negative degree weather.\n",
      "\n",
      "@LastProtestants @stomponato @delschilling You're an idiot.\n",
      "\n",
      "@NFLfantasy @Akbar_Gbaja the last thing he cares about is fantasy owners\n",
      "\n"
     ]
    }
   ],
   "source": [
    "x = df_agree_good['tweet_text'].values\n",
    "print len(x)\n",
    "print \"\"\n",
    "for i in xrange(5):\n",
    "    print x[i]\n",
    "    print \"\""
   ]
  },
  {
   "cell_type": "code",
   "execution_count": 12,
   "metadata": {
    "collapsed": true
   },
   "outputs": [],
   "source": [
    "df_agree_bad = df[(df['label'] + df['xgbfinal4_predict'] + df['doc2vec_predict']) == 3]"
   ]
  },
  {
   "cell_type": "code",
   "execution_count": 19,
   "metadata": {
    "collapsed": false
   },
   "outputs": [
    {
     "name": "stdout",
     "output_type": "stream",
     "text": [
      "1436\n",
      "\n",
      "Fuck dykes\n",
      "\n",
      "@sizzurp__ @ILIKECATS74 @yoPapi_chulo @brandonernandez @bootyacid at least i dont look like jefree starr faggot\n",
      "\n",
      "\"@jayswaggkillah: \"@JacklynAnnn: @jayswaggkillah Is a fag\" jackie jealous\" Neeeee\n",
      "\n",
      "I'm tired of people saying I look like my brother &amp; calling me Deondre' like serious Succ My Ass fag asses\n",
      "\n",
      "I hate faggots like you\n",
      "\n"
     ]
    }
   ],
   "source": [
    "x = df_agree_bad['tweet_text'].values\n",
    "print len(x)\n",
    "print \"\"\n",
    "for i in xrange(5):\n",
    "    print x[i]\n",
    "    print \"\""
   ]
  },
  {
   "cell_type": "code",
   "execution_count": 14,
   "metadata": {
    "collapsed": true
   },
   "outputs": [],
   "source": [
    "df_missed_good = df[(df['label']==0) & (df['xgbfinal4_predict']==1) & (df['doc2vec_predict']==1)]"
   ]
  },
  {
   "cell_type": "code",
   "execution_count": 20,
   "metadata": {
    "collapsed": false
   },
   "outputs": [
    {
     "name": "stdout",
     "output_type": "stream",
     "text": [
      "120\n",
      "\n",
      "I play for keeps you play wit me its gon be yellow tape! #200\n",
      "\n",
      "You Hotep Black women always bashing Black men. You so ashy  https://t.co/EFNK6bohwN\n",
      "\n",
      "@precious_sneed lmao deadass, nah them 9's be ashy af too_�㢉�__ people at my school shits be damn near see through\n",
      "\n",
      "what's spooky blacks instagram _������\n",
      "\n",
      "@bad_chink oh ok Ima look into it thanks_�㢉�_��_\n",
      "\n"
     ]
    }
   ],
   "source": [
    "x = df_missed_good['tweet_text'].values\n",
    "print len(x)\n",
    "print \"\"\n",
    "for i in xrange(5):\n",
    "    print x[i]\n",
    "    print \"\""
   ]
  },
  {
   "cell_type": "code",
   "execution_count": 16,
   "metadata": {
    "collapsed": true
   },
   "outputs": [],
   "source": [
    "df_missed_bad = df[(df['label']==1) & (df['xgbfinal4_predict']==0) & (df['doc2vec_predict']==0)]"
   ]
  },
  {
   "cell_type": "code",
   "execution_count": 21,
   "metadata": {
    "collapsed": false
   },
   "outputs": [
    {
     "name": "stdout",
     "output_type": "stream",
     "text": [
      "196\n",
      "\n",
      "RT @macktology101: \"Sunday funday\" hoe quotes\n",
      "\n",
      "RT @AC_Hussle: I'm not giving these hoes free meals so they can go lay up with the dude they can't get over. Nope.\n",
      "\n",
      "@Independent @JoshuaAssaraf Should check it - He was secretly converted to Islam by Saddamn HouSSein in late 80's. He often says Allah Akbar\n",
      "\n",
      "I literally HATE this generation. Yall lame like damn... Everybody all act alike &amp; it's annoying\n",
      "\n",
      "Women: \"a man should pay the rent and all the bills, I'm traditional\"\n",
      "\n",
      "Men: keep your body count low\n",
      "\n",
      "Women: \"You're a ashy misogynist!\"\n",
      "\n"
     ]
    }
   ],
   "source": [
    "x = df_missed_bad['tweet_text'].values\n",
    "print len(x)\n",
    "print \"\"\n",
    "for i in xrange(5):\n",
    "    print x[i]\n",
    "    print \"\""
   ]
  },
  {
   "cell_type": "code",
   "execution_count": 22,
   "metadata": {
    "collapsed": true
   },
   "outputs": [],
   "source": [
    "df_doc2vec_win = df[(df['label']==df['doc2vec_predict']) & (df['xgbfinal4_predict']!=df['label'])]"
   ]
  },
  {
   "cell_type": "code",
   "execution_count": 26,
   "metadata": {
    "collapsed": false
   },
   "outputs": [
    {
     "name": "stdout",
     "output_type": "stream",
     "text": [
      "462\n",
      "\n",
      "@RiotSupport so I was suspended for a day because of a random lag spikes that force me to close the client and relog and suspended. GG\n",
      "\n",
      "pollo&#128523;&#128523;&#128523;\n",
      "\n",
      "RT @HBCUfessions: You females overlook us geeks. When I take these glasses off, I'm no longer Clark Kent. I go superman in that pussy. - FA&#8230;\n",
      "\n",
      "why is this niggah still tweetn tf !!!!\n",
      "\n",
      "@suarung heheh thanks sua!! And i thought he was making some other game? (I think it had a batler look-alike in it)\n",
      "\n"
     ]
    }
   ],
   "source": [
    "x = df_doc2vec_win['tweet_text'].values\n",
    "print len(x)\n",
    "print \"\"\n",
    "for i in xrange(5):\n",
    "    print x[i]\n",
    "    print \"\""
   ]
  },
  {
   "cell_type": "code",
   "execution_count": 24,
   "metadata": {
    "collapsed": true
   },
   "outputs": [],
   "source": [
    "df_doc2vec_lose = df[(df['label']!=df['doc2vec_predict']) & (df['xgbfinal4_predict']==df['label'])]"
   ]
  },
  {
   "cell_type": "code",
   "execution_count": 28,
   "metadata": {
    "collapsed": false
   },
   "outputs": [
    {
     "name": "stdout",
     "output_type": "stream",
     "text": [
      "544\n",
      "\n",
      "RT @BitchPlsComedy: apparently &#8220;bae&#8221; means &#8220;before anyone else&#8221; i always thought it was a ghetto word for &#8220;babe&#8221;\n",
      "\n",
      "RT @YepillPosts: If I had a dollar for every time I died on flappy bird http://t.co/pj8QSBTe2L\n",
      "\n",
      "MUSLIM IMMIGRANT Chanted �ʉ�Ӊ��Allahu Akbar�ʉ��� While Raping Gas Station Attendent�ʉ��_Refuses To Appear In... https://t.co/QyLqFM60Dj\n",
      "\n",
      "Just smashing a akbar with @TyroneLarkham @LarkhamWilliam @1jamesmitchell @philmaguire3\n",
      "\n",
      "Eyewitness claims Las Vegas vehicle attack carried out by Muslim  screaming 'Allahu Akbar'... media blackout.. https://t.co/6HnWmkIo8d #tcot\n",
      "\n"
     ]
    }
   ],
   "source": [
    "x = df_doc2vec_lose['tweet_text'].values\n",
    "print len(x)\n",
    "print \"\"\n",
    "for i in xrange(5):\n",
    "    print x[i]\n",
    "    print \"\""
   ]
  },
  {
   "cell_type": "code",
   "execution_count": null,
   "metadata": {
    "collapsed": true
   },
   "outputs": [],
   "source": []
  }
 ],
 "metadata": {
  "kernelspec": {
   "display_name": "Python [Root]",
   "language": "python",
   "name": "Python [Root]"
  },
  "language_info": {
   "codemirror_mode": {
    "name": "ipython",
    "version": 2
   },
   "file_extension": ".py",
   "mimetype": "text/x-python",
   "name": "python",
   "nbconvert_exporter": "python",
   "pygments_lexer": "ipython2",
   "version": "2.7.11"
  }
 },
 "nbformat": 4,
 "nbformat_minor": 0
}
