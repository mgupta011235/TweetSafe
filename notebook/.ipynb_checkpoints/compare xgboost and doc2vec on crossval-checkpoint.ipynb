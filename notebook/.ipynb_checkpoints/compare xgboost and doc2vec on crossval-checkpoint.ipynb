{
 "cells": [
  {
   "cell_type": "code",
   "execution_count": 1,
   "metadata": {
    "collapsed": false
   },
   "outputs": [
    {
     "name": "stderr",
     "output_type": "stream",
     "text": [
      "/home/mgupta/anaconda2/lib/python2.7/site-packages/sklearn/cross_validation.py:44: DeprecationWarning: This module was deprecated in version 0.18 in favor of the model_selection module into which all the refactored classes and functions are moved. Also note that the interface of the new CV iterators are different from that of this module. This module will be removed in 0.20.\n",
      "  \"This module will be removed in 0.20.\", DeprecationWarning)\n"
     ]
    }
   ],
   "source": [
    "from sklearn.feature_extraction.text import TfidfVectorizer\n",
    "import xgboost as xgb\n",
    "import cPickle as pickle\n",
    "from string import punctuation\n",
    "from nltk import word_tokenize\n",
    "from nltk.stem import snowball\n",
    "import numpy as np\n",
    "import pandas as pd\n",
    "import matplotlib.pyplot as plt\n",
    "from nltk.tokenize import PunktSentenceTokenizer\n",
    "import time\n",
    "%matplotlib inline\n",
    "stemmer = snowball.SnowballStemmer(\"english\")"
   ]
  },
  {
   "cell_type": "code",
   "execution_count": 2,
   "metadata": {
    "collapsed": true
   },
   "outputs": [],
   "source": [
    "df = pd.read_csv('../../data/twitter_cross_val_xgboost_doc2vec_results.csv')"
   ]
  },
  {
   "cell_type": "code",
   "execution_count": 3,
   "metadata": {
    "collapsed": false
   },
   "outputs": [
    {
     "data": {
      "text/html": [
       "<div>\n",
       "<table border=\"1\" class=\"dataframe\">\n",
       "  <thead>\n",
       "    <tr style=\"text-align: right;\">\n",
       "      <th></th>\n",
       "      <th>Unnamed: 0</th>\n",
       "      <th>Unnamed: 0.1</th>\n",
       "      <th>Unnamed: 0.1</th>\n",
       "      <th>tweet_text</th>\n",
       "      <th>label</th>\n",
       "      <th>xgboost_predict</th>\n",
       "      <th>doc2vec_predict</th>\n",
       "    </tr>\n",
       "  </thead>\n",
       "  <tbody>\n",
       "    <tr>\n",
       "      <th>0</th>\n",
       "      <td>0</td>\n",
       "      <td>12168</td>\n",
       "      <td>12168</td>\n",
       "      <td>I love how Jayden acts like we have no right t...</td>\n",
       "      <td>1</td>\n",
       "      <td>0.409886</td>\n",
       "      <td>0.0</td>\n",
       "    </tr>\n",
       "    <tr>\n",
       "      <th>1</th>\n",
       "      <td>1</td>\n",
       "      <td>13497</td>\n",
       "      <td>13497</td>\n",
       "      <td>I been POPPIN since kindergarten nigga you a l...</td>\n",
       "      <td>1</td>\n",
       "      <td>0.509634</td>\n",
       "      <td>1.0</td>\n",
       "    </tr>\n",
       "    <tr>\n",
       "      <th>2</th>\n",
       "      <td>2</td>\n",
       "      <td>10058</td>\n",
       "      <td>10058</td>\n",
       "      <td>Like a real life mean person could make you cr...</td>\n",
       "      <td>0</td>\n",
       "      <td>0.329897</td>\n",
       "      <td>0.0</td>\n",
       "    </tr>\n",
       "    <tr>\n",
       "      <th>3</th>\n",
       "      <td>3</td>\n",
       "      <td>4559</td>\n",
       "      <td>4559</td>\n",
       "      <td>Which fags are getting down and tributing Xmas...</td>\n",
       "      <td>1</td>\n",
       "      <td>0.527562</td>\n",
       "      <td>0.0</td>\n",
       "    </tr>\n",
       "    <tr>\n",
       "      <th>4</th>\n",
       "      <td>4</td>\n",
       "      <td>5514</td>\n",
       "      <td>5514</td>\n",
       "      <td>From last night...my thoughts on J-Up and what...</td>\n",
       "      <td>0</td>\n",
       "      <td>0.339007</td>\n",
       "      <td>0.0</td>\n",
       "    </tr>\n",
       "  </tbody>\n",
       "</table>\n",
       "</div>"
      ],
      "text/plain": [
       "   Unnamed: 0  Unnamed: 0.1  Unnamed: 0.1  \\\n",
       "0           0         12168         12168   \n",
       "1           1         13497         13497   \n",
       "2           2         10058         10058   \n",
       "3           3          4559          4559   \n",
       "4           4          5514          5514   \n",
       "\n",
       "                                          tweet_text  label  xgboost_predict  \\\n",
       "0  I love how Jayden acts like we have no right t...      1         0.409886   \n",
       "1  I been POPPIN since kindergarten nigga you a l...      1         0.509634   \n",
       "2  Like a real life mean person could make you cr...      0         0.329897   \n",
       "3  Which fags are getting down and tributing Xmas...      1         0.527562   \n",
       "4  From last night...my thoughts on J-Up and what...      0         0.339007   \n",
       "\n",
       "   doc2vec_predict  \n",
       "0              0.0  \n",
       "1              1.0  \n",
       "2              0.0  \n",
       "3              0.0  \n",
       "4              0.0  "
      ]
     },
     "execution_count": 3,
     "metadata": {},
     "output_type": "execute_result"
    }
   ],
   "source": [
    "df.head()"
   ]
  },
  {
   "cell_type": "code",
   "execution_count": 4,
   "metadata": {
    "collapsed": true
   },
   "outputs": [],
   "source": [
    "def myfunc(x):\n",
    "    threshold = 0.41\n",
    "    if x>= threshold:\n",
    "        return 1\n",
    "    else:\n",
    "        return 0"
   ]
  },
  {
   "cell_type": "code",
   "execution_count": 5,
   "metadata": {
    "collapsed": true
   },
   "outputs": [],
   "source": [
    "df['xgbfinal4_predict'] = df['xgboost_predict'].map(lambda x: myfunc(x))"
   ]
  },
  {
   "cell_type": "code",
   "execution_count": 6,
   "metadata": {
    "collapsed": false
   },
   "outputs": [
    {
     "data": {
      "text/html": [
       "<div>\n",
       "<table border=\"1\" class=\"dataframe\">\n",
       "  <thead>\n",
       "    <tr style=\"text-align: right;\">\n",
       "      <th></th>\n",
       "      <th>Unnamed: 0</th>\n",
       "      <th>Unnamed: 0.1</th>\n",
       "      <th>Unnamed: 0.1</th>\n",
       "      <th>tweet_text</th>\n",
       "      <th>label</th>\n",
       "      <th>xgboost_predict</th>\n",
       "      <th>doc2vec_predict</th>\n",
       "      <th>xgbfinal4_predict</th>\n",
       "    </tr>\n",
       "  </thead>\n",
       "  <tbody>\n",
       "    <tr>\n",
       "      <th>0</th>\n",
       "      <td>0</td>\n",
       "      <td>12168</td>\n",
       "      <td>12168</td>\n",
       "      <td>I love how Jayden acts like we have no right t...</td>\n",
       "      <td>1</td>\n",
       "      <td>0.409886</td>\n",
       "      <td>0.0</td>\n",
       "      <td>0</td>\n",
       "    </tr>\n",
       "    <tr>\n",
       "      <th>1</th>\n",
       "      <td>1</td>\n",
       "      <td>13497</td>\n",
       "      <td>13497</td>\n",
       "      <td>I been POPPIN since kindergarten nigga you a l...</td>\n",
       "      <td>1</td>\n",
       "      <td>0.509634</td>\n",
       "      <td>1.0</td>\n",
       "      <td>1</td>\n",
       "    </tr>\n",
       "    <tr>\n",
       "      <th>2</th>\n",
       "      <td>2</td>\n",
       "      <td>10058</td>\n",
       "      <td>10058</td>\n",
       "      <td>Like a real life mean person could make you cr...</td>\n",
       "      <td>0</td>\n",
       "      <td>0.329897</td>\n",
       "      <td>0.0</td>\n",
       "      <td>0</td>\n",
       "    </tr>\n",
       "    <tr>\n",
       "      <th>3</th>\n",
       "      <td>3</td>\n",
       "      <td>4559</td>\n",
       "      <td>4559</td>\n",
       "      <td>Which fags are getting down and tributing Xmas...</td>\n",
       "      <td>1</td>\n",
       "      <td>0.527562</td>\n",
       "      <td>0.0</td>\n",
       "      <td>1</td>\n",
       "    </tr>\n",
       "    <tr>\n",
       "      <th>4</th>\n",
       "      <td>4</td>\n",
       "      <td>5514</td>\n",
       "      <td>5514</td>\n",
       "      <td>From last night...my thoughts on J-Up and what...</td>\n",
       "      <td>0</td>\n",
       "      <td>0.339007</td>\n",
       "      <td>0.0</td>\n",
       "      <td>0</td>\n",
       "    </tr>\n",
       "  </tbody>\n",
       "</table>\n",
       "</div>"
      ],
      "text/plain": [
       "   Unnamed: 0  Unnamed: 0.1  Unnamed: 0.1  \\\n",
       "0           0         12168         12168   \n",
       "1           1         13497         13497   \n",
       "2           2         10058         10058   \n",
       "3           3          4559          4559   \n",
       "4           4          5514          5514   \n",
       "\n",
       "                                          tweet_text  label  xgboost_predict  \\\n",
       "0  I love how Jayden acts like we have no right t...      1         0.409886   \n",
       "1  I been POPPIN since kindergarten nigga you a l...      1         0.509634   \n",
       "2  Like a real life mean person could make you cr...      0         0.329897   \n",
       "3  Which fags are getting down and tributing Xmas...      1         0.527562   \n",
       "4  From last night...my thoughts on J-Up and what...      0         0.339007   \n",
       "\n",
       "   doc2vec_predict  xgbfinal4_predict  \n",
       "0              0.0                  0  \n",
       "1              1.0                  1  \n",
       "2              0.0                  0  \n",
       "3              0.0                  1  \n",
       "4              0.0                  0  "
      ]
     },
     "execution_count": 6,
     "metadata": {},
     "output_type": "execute_result"
    }
   ],
   "source": [
    "df.head()"
   ]
  },
  {
   "cell_type": "code",
   "execution_count": 12,
   "metadata": {
    "collapsed": true
   },
   "outputs": [],
   "source": [
    "\n",
    "\n",
    "df['doc2vec_predict'] = df['doc2vec_predict'].map(lambda x: bool(x))"
   ]
  },
  {
   "cell_type": "code",
   "execution_count": 13,
   "metadata": {
    "collapsed": false
   },
   "outputs": [],
   "source": [
    "df_agree_good = df[(df['label'] + df['xgbfinal4_predict'] + df['doc2vec_predict']) == 0]"
   ]
  },
  {
   "cell_type": "code",
   "execution_count": 25,
   "metadata": {
    "collapsed": false
   },
   "outputs": [
    {
     "name": "stdout",
     "output_type": "stream",
     "text": [
      "Like a real life mean person could make you cry right now\n",
      "\n",
      "From last night...my thoughts on J-Up and what I'd give him as a free agent. https://t.co/NwzUJlvn1v\n",
      "\n",
      "You're truly amiable @Harry_Styles.\n",
      "2 days until Christmas, may you please\n",
      "follow @hsviola to make it exquisite? Stay well pal.. x1\n",
      "\n",
      "@paranoiapupz never said it was haha\n",
      "\n",
      "@shailenewoodley are you writing a book?\n",
      "\n"
     ]
    }
   ],
   "source": [
    "x = df_agree_good['tweet_text'].values\n",
    "for i in xrange(5):\n",
    "    print x[i]\n",
    "    print \"\""
   ]
  },
  {
   "cell_type": "code",
   "execution_count": 14,
   "metadata": {
    "collapsed": false
   },
   "outputs": [],
   "source": [
    "df_agree_bad = df[(df['label'] + df['xgbfinal4_predict'] + df['doc2vec_predict']) == 3]"
   ]
  },
  {
   "cell_type": "code",
   "execution_count": 26,
   "metadata": {
    "collapsed": false
   },
   "outputs": [
    {
     "name": "stdout",
     "output_type": "stream",
     "text": [
      "I been POPPIN since kindergarten nigga you a lame to me �_�__崁��\n",
      "\n",
      "@Brady_Cutler What're you a fuckin' faggot?\n",
      "\n",
      "Haha bitch i will never forgive the faggots who betray me #neverforgive2015 #sandrabland https://t.co/4qty8ZPPAs\n",
      "\n",
      "@AddictedtoPesos twitter bash of the faggots\n",
      "\n",
      "I just had a back and forth with someone who actually tweeted 'I hate fat bitches'.....conclusion: I am an idiot\n",
      "\n"
     ]
    }
   ],
   "source": [
    "x = df_agree_bad['tweet_text'].values\n",
    "for i in xrange(5):\n",
    "    print x[i]\n",
    "    print \"\""
   ]
  },
  {
   "cell_type": "code",
   "execution_count": 35,
   "metadata": {
    "collapsed": false
   },
   "outputs": [],
   "source": [
    "df_missed_good = df[(df['label']==0) & (df['xgbfinal4_predict']==1) & (df['doc2vec_predict']==1)]"
   ]
  },
  {
   "cell_type": "code",
   "execution_count": 36,
   "metadata": {
    "collapsed": false
   },
   "outputs": [
    {
     "name": "stdout",
     "output_type": "stream",
     "text": [
      "@wolfmikey_ WOW UPDATE SHES LEAVING AND HE CALLED HER WHITE TRASH AND SAID WHERE R U GOING LMAO\n",
      "\n",
      "He looks so damn hot help https://t.co/oh6iYfz5d0\n",
      "\n",
      "@BDUTT @sardesairajdeep would tweet like \"Haha..All is under control \" \n",
      "but the chinks in the armour quite visible https://t.co/sYnBIqUa7G\n",
      "\n",
      "Going to miss my first LSU basketball game tonight in a long time tonight. I blame the weather.\n",
      "\n",
      "I WAKE UP WITH THA BONG NEXT TO MY BED LIKE A TRUE WHITE BOY\n",
      "\n"
     ]
    }
   ],
   "source": [
    "x = df_missed_good['tweet_text'].values\n",
    "for i in xrange(5):\n",
    "    print x[i]\n",
    "    print \"\""
   ]
  },
  {
   "cell_type": "code",
   "execution_count": 37,
   "metadata": {
    "collapsed": true
   },
   "outputs": [],
   "source": [
    "df_missed_bad = df[(df['label']==1) & (df['xgbfinal4_predict']==0) & (df['doc2vec_predict']==0)]"
   ]
  },
  {
   "cell_type": "code",
   "execution_count": 38,
   "metadata": {
    "collapsed": false
   },
   "outputs": [
    {
     "name": "stdout",
     "output_type": "stream",
     "text": [
      "I love how Jayden acts like we have no right to be mad and we are \"to far up Ashton's ass\"\n",
      "\n",
      "When people act gay and say no homo _�㢉�_�ۢ https://t.co/DMpGWqWt7B\n",
      "\n",
      "@hemant_batra Because Dubai is full of Indians Saudi is the hot destination for #TortureTourism @SushmaSwaraj @dhanyarajendran\n",
      "\n",
      "I don't trust dykes\n",
      "\n",
      "hyporcrits who bash queers but pretend to be about lgbt if it pisses the gop off. rape culture fans etc @SedaryRaymaker @scootey @KailiJoy\n",
      "\n"
     ]
    }
   ],
   "source": [
    "x = df_missed_bad['tweet_text'].values\n",
    "for i in xrange(5):\n",
    "    print x[i]\n",
    "    print \"\""
   ]
  },
  {
   "cell_type": "code",
   "execution_count": 43,
   "metadata": {
    "collapsed": true
   },
   "outputs": [],
   "source": [
    "df_doc2vec_win = df[(df['label']==df['doc2vec_predict']) & (df['xgbfinal4_predict']!=df['label'])]"
   ]
  },
  {
   "cell_type": "code",
   "execution_count": 44,
   "metadata": {
    "collapsed": false
   },
   "outputs": [
    {
     "name": "stdout",
     "output_type": "stream",
     "text": [
      "I be cuffin these hoes, I don't be smashing these hoes.\n",
      "\n",
      "it's just dark and the stuff on the chair is white rip\n",
      "\n",
      "Cuffin these hoes thats where u went bad at\n",
      "\n",
      "@Visit_Wakefield He looks nothing like him!\n",
      "\n",
      "The chinks in the mall great at repair _�㢉ۢ���\n",
      "\n"
     ]
    }
   ],
   "source": [
    "x = df_doc2vec_win['tweet_text'].values\n",
    "for i in xrange(5):\n",
    "    print x[i]\n",
    "    print \"\""
   ]
  },
  {
   "cell_type": "code",
   "execution_count": 45,
   "metadata": {
    "collapsed": true
   },
   "outputs": [],
   "source": [
    "df_doc2vec_lose = df[(df['label']!=df['doc2vec_predict']) & (df['xgbfinal4_predict']==df['label'])]"
   ]
  },
  {
   "cell_type": "code",
   "execution_count": 46,
   "metadata": {
    "collapsed": false
   },
   "outputs": [
    {
     "name": "stdout",
     "output_type": "stream",
     "text": [
      "Which fags are getting down and tributing Xmas presents! Prove urself that u wanna be owned Hey look at: https://t.co/owhnInz7cJ @Amazon\n",
      "\n",
      "I hate when u know something is wrong but they won't tell u. You just feel so unhelpful\n",
      "\n",
      "@thehill @freegalt Hillary is the EPITOME of WHITE TRASH!\n",
      "\n",
      "so all these fucking adults are like \"fuck yeah! snakes and shit!\" so off we go\n",
      "\n",
      "s/o to the undercover cop in shorewood for pulling me over to give me a Dunkin' giftcard���_�̪叁��_�̪� https://t.co/LwazeDTYhS\n",
      "\n"
     ]
    }
   ],
   "source": [
    "x = df_doc2vec_lose['tweet_text'].values\n",
    "for i in xrange(5):\n",
    "    print x[i]\n",
    "    print \"\""
   ]
  },
  {
   "cell_type": "code",
   "execution_count": null,
   "metadata": {
    "collapsed": true
   },
   "outputs": [],
   "source": []
  },
  {
   "cell_type": "code",
   "execution_count": null,
   "metadata": {
    "collapsed": true
   },
   "outputs": [],
   "source": []
  }
 ],
 "metadata": {
  "kernelspec": {
   "display_name": "Python [Root]",
   "language": "python",
   "name": "Python [Root]"
  },
  "language_info": {
   "codemirror_mode": {
    "name": "ipython",
    "version": 2
   },
   "file_extension": ".py",
   "mimetype": "text/x-python",
   "name": "python",
   "nbconvert_exporter": "python",
   "pygments_lexer": "ipython2",
   "version": "2.7.11"
  }
 },
 "nbformat": 4,
 "nbformat_minor": 0
}
