{
 "cells": [
  {
   "cell_type": "code",
   "execution_count": 45,
   "metadata": {
    "collapsed": false
   },
   "outputs": [],
   "source": [
    "from sklearn.feature_extraction.text import TfidfVectorizer\n",
    "import xgboost as xgb\n",
    "import cPickle as pickle\n",
    "from string import punctuation\n",
    "from nltk import word_tokenize\n",
    "from nltk.stem import snowball\n",
    "import numpy as np\n",
    "import pandas as pd\n",
    "import matplotlib.pyplot as plt\n",
    "%matplotlib inline\n",
    "import gensim\n",
    "from nltk.tokenize import PunktSentenceTokenizer\n",
    "from sklearn.manifold import TSNE\n",
    "from mpl_toolkits.mplot3d import Axes3D"
   ]
  },
  {
   "cell_type": "code",
   "execution_count": 2,
   "metadata": {
    "collapsed": true
   },
   "outputs": [],
   "source": [
    "###########################################################################\n",
    "# tokenization code\n",
    "\n",
    "def seperatePunct(incomingString):\n",
    "    '''\n",
    "    Input:str,\n",
    "    Output: str with all puncuations seperated by spaces\n",
    "    '''\n",
    "    outstr = ''\n",
    "    characters = set(['!','@','#','$',\"%\",\"^\",\"&\",\"*\",\":\",\"\\\\\",\n",
    "                  \"(\",\")\",\"+\",\"=\",\"?\",\"\\'\",\"\\\"\",\";\",\"/\",\n",
    "                  \"{\",\"}\",\"[\",\"]\",\"<\",\">\",\"~\",\"`\",\"|\"])\n",
    "\n",
    "    for char in incomingString:\n",
    "        if char in characters:\n",
    "            outstr = outstr + ' ' + char + ' '\n",
    "        else:\n",
    "            outstr = outstr + char\n",
    "\n",
    "    return outstr\n",
    "\n",
    "def hasNumbers(inputString):\n",
    "    '''\n",
    "    Input: str\n",
    "    Output: returns a 1 if the string contains a number\n",
    "    '''\n",
    "    return any(char.isdigit() for char in inputString)\n",
    "\n",
    "def text_cleaner(wordList):\n",
    "    '''\n",
    "    INPUT: List of words to be tokenized\n",
    "    OUTPUT: List of tokenized words\n",
    "    '''\n",
    "\n",
    "    tokenziedList = []\n",
    "\n",
    "    for word in wordList:\n",
    "\n",
    "        #remove these substrings from the word\n",
    "        word = word.replace('[deleted]','')\n",
    "        word = word.replace('&gt','')\n",
    "\n",
    "        #if link, replace with linktag\n",
    "        if 'http' in word:\n",
    "            tokenziedList.append('LINK_TAG')\n",
    "            continue\n",
    "\n",
    "        #if reference to subreddit, replace with reddittag\n",
    "        if '/r/' in word:\n",
    "            tokenziedList.append('SUBREDDIT_TAG')\n",
    "            continue\n",
    "\n",
    "        #if reference to reddit user, replace with usertag\n",
    "        if '/u/' in word:\n",
    "            tokenziedList.append('USER_TAG')\n",
    "            continue\n",
    "\n",
    "        #if reference to twitter user, replace with usertag\n",
    "        if '@' in word:\n",
    "            tokenziedList.append('USER_TAG')\n",
    "            continue\n",
    "\n",
    "        #if number, replace with numtag\n",
    "        #m8 is a word, 5'10\" and 54-59, 56:48 are numbers\n",
    "        if hasNumbers(word) and not any(char.isalpha() for char in word):\n",
    "            tokenziedList.append('NUM_TAG')\n",
    "            continue\n",
    "\n",
    "        #seperate puncuations and add to tokenizedList\n",
    "        newwords = seperatePunct(word).split(\" \")\n",
    "        tokenziedList.extend(newwords)\n",
    "\n",
    "    return tokenziedList\n",
    "\n",
    "def mytokenizer(comment):\n",
    "    '''\n",
    "    Input: takes in a reddit comment as a str or unicode and tokenizes it\n",
    "    Output: a tokenized list\n",
    "    '''\n",
    "    tokenizer = PunktSentenceTokenizer()\n",
    "    sentenceList = tokenizer.tokenize(comment)\n",
    "    wordList = []\n",
    "    for sentence in sentenceList:\n",
    "        wordList.extend(sentence.split(\" \"))\n",
    "\n",
    "    return text_cleaner(wordList)"
   ]
  },
  {
   "cell_type": "code",
   "execution_count": 3,
   "metadata": {
    "collapsed": true
   },
   "outputs": [],
   "source": [
    "def mostSimilarDoc(model,comment,k,threshold):\n",
    "    '''\n",
    "    Input: doc2vec model, comment is a str, k = number of similar doc vecs\n",
    "    Output: an int indicating hate (1) or not hate (0),most similar subreddit\n",
    "    '''\n",
    "\n",
    "    docvecs = model.docvecs\n",
    "    numdocvec = len(docvecs)\n",
    "    simVals = np.zeros((numdocvec, ))\n",
    "\n",
    "    #tokenize comment\n",
    "    wordTokens = mytokenizer(comment)\n",
    "\n",
    "    #create vector of tokenized comment\n",
    "    #avg over 100 vectors\n",
    "    finalVec = np.zeros((300, ))\n",
    "    for i in xrange(100):\n",
    "        finalVec = finalVec + model.infer_vector(wordTokens)\n",
    "    commentVec = finalVec/100.0\n",
    "\n",
    "    #compute similarity of comment to each subreddit\n",
    "    for vec_ind in xrange(len(docvecs)):\n",
    "        simVals[vec_ind] = 1 - cosine(commentVec,docvecs[vec_ind])\n",
    "\n",
    "    mostSimVecInd = np.argsort(simVals)[-k:]\n",
    "    hatecount = 0\n",
    "\n",
    "    #count how many hates there are\n",
    "    for index in mostSimVecInd:\n",
    "        hatecount += ishateful(docvecs.index_to_doctag(index))\n",
    "\n",
    "    #majority vote to determine hateful/nothateful\n",
    "    if hatecount>=threshold*len(mostSimVecInd):\n",
    "        prediction = 1\n",
    "    else:\n",
    "        prediction = 0\n",
    "\n",
    "    #find most similar subreddit\n",
    "    mostSimSubreddit = docvecs.index_to_doctag(mostSimVecInd[0])\n",
    "\n",
    "    return prediction,mostSimSubreddit\n",
    "\n",
    "##############################################################################\n",
    "#hate/NotHate code\n",
    "\n",
    "def ishateful(subreddit):\n",
    "    '''\n",
    "    Input: str subreddit\n",
    "    Output: int 1 if hateful subreddit, 0 otherwise\n",
    "    '''\n",
    "\n",
    "    # List of not hateful subreddits\n",
    "    final_nothate_srs = ['politics', 'worldnews', 'history', 'blackladies', 'lgbt',\n",
    "                         'TransSpace', 'women', 'TwoXChromosomes', 'DebateReligion',\n",
    "                         'religion', 'islam', 'Judaism', 'BodyAcceptance', 'fatlogic'\n",
    "                         'gaybros','AskMen','AskWomen']\n",
    "    # List of hateful subreddits\n",
    "    final_hateful_srs = ['CoonTown', 'WhiteRights', 'Trans_fags', 'SlutJustice',\n",
    "                         'TheRedPill', 'KotakuInAction', 'IslamUnveiled', 'GasTheKikes',\n",
    "                         'AntiPOZi', 'fatpeoplehate', 'TalesofFatHate','hamplanethatred',\n",
    "                         'shitniggerssay','neofag','altright']\n",
    "\n",
    "    if subreddit in final_hateful_srs:\n",
    "        return 1\n",
    "    else:\n",
    "        return 0"
   ]
  },
  {
   "cell_type": "code",
   "execution_count": 4,
   "metadata": {
    "collapsed": true
   },
   "outputs": [],
   "source": [
    "modelPath = '../../doc2vec_models/basemodel2/basemodel2.doc2vec'\n",
    "model = gensim.models.Doc2Vec.load(modelPath)"
   ]
  },
  {
   "cell_type": "code",
   "execution_count": 11,
   "metadata": {
    "collapsed": true
   },
   "outputs": [],
   "source": [
    "df = pd.read_csv('../../data/twitter_cross_val.csv')"
   ]
  },
  {
   "cell_type": "code",
   "execution_count": 10,
   "metadata": {
    "collapsed": true
   },
   "outputs": [],
   "source": [
    "docvecs = model.docvecs"
   ]
  },
  {
   "cell_type": "code",
   "execution_count": 13,
   "metadata": {
    "collapsed": false
   },
   "outputs": [
    {
     "data": {
      "text/plain": [
       "26"
      ]
     },
     "execution_count": 13,
     "metadata": {},
     "output_type": "execute_result"
    }
   ],
   "source": [
    "len(docvecs)"
   ]
  },
  {
   "cell_type": "code",
   "execution_count": 19,
   "metadata": {
    "collapsed": false
   },
   "outputs": [
    {
     "data": {
      "text/plain": [
       "'TheRedPill'"
      ]
     },
     "execution_count": 19,
     "metadata": {},
     "output_type": "execute_result"
    }
   ],
   "source": [
    "docvecs.index_to_doctag(4)"
   ]
  },
  {
   "cell_type": "code",
   "execution_count": 22,
   "metadata": {
    "collapsed": true
   },
   "outputs": [],
   "source": [
    "subredditvecs = np.zeros((26,300))\n",
    "colors = []"
   ]
  },
  {
   "cell_type": "code",
   "execution_count": 23,
   "metadata": {
    "collapsed": false
   },
   "outputs": [
    {
     "data": {
      "text/plain": [
       "(300,)"
      ]
     },
     "execution_count": 23,
     "metadata": {},
     "output_type": "execute_result"
    }
   ],
   "source": [
    "np.shape(docvecs[0])"
   ]
  },
  {
   "cell_type": "code",
   "execution_count": 24,
   "metadata": {
    "collapsed": false
   },
   "outputs": [],
   "source": [
    "for i in xrange(26):\n",
    "    subredditvecs[i,:] = docvecs[i]\n",
    "\n",
    "    "
   ]
  },
  {
   "cell_type": "code",
   "execution_count": 59,
   "metadata": {
    "collapsed": false
   },
   "outputs": [],
   "source": [
    "ts = TSNE(2)\n",
    "reduced_vecs = ts.fit_transform(subredditvecs)"
   ]
  },
  {
   "cell_type": "code",
   "execution_count": 60,
   "metadata": {
    "collapsed": false
   },
   "outputs": [
    {
     "data": {
      "image/png": "[encoded data removed]",
      "text/plain": [
       "<matplotlib.figure.Figure at 0x7fbd9c0a19d0>"
      ]
     },
     "metadata": {},
     "output_type": "display_data"
    }
   ],
   "source": [
    "for i in xrange(26):\n",
    "    if ishateful(docvecs.index_to_doctag(i)):\n",
    "        color = 'r'\n",
    "    else:\n",
    "        color = 'b'\n",
    "        \n",
    "    plt.plot(reduced_vecs[i,0], reduced_vecs[i,1],marker='o', color=color, markersize=8)"
   ]
  },
  {
   "cell_type": "code",
   "execution_count": 61,
   "metadata": {
    "collapsed": true
   },
   "outputs": [],
   "source": [
    "ts3 = TSNE(3)\n",
    "reduced_vecs3 = ts3.fit_transform(subredditvecs)"
   ]
  },
  {
   "cell_type": "code",
   "execution_count": 62,
   "metadata": {
    "collapsed": false
   },
   "outputs": [
    {
     "data": {
      "image/png": "[encoded data removed]",
      "text/plain": [
       "<matplotlib.figure.Figure at 0x7fbd9cc8cb50>"
      ]
     },
     "metadata": {},
     "output_type": "display_data"
    }
   ],
   "source": [
    "fig = plt.figure()\n",
    "ax = fig.add_subplot(111, projection='3d')\n",
    "\n",
    "for i in xrange(26):\n",
    "    if ishateful(docvecs.index_to_doctag(i)):\n",
    "        color = 'r'\n",
    "    else:\n",
    "        color = 'b'\n",
    "        \n",
    "    ax.scatter(reduced_vecs3[i,0], reduced_vecs3[i,1],reduced_vecs3[i,2], color=color)\n",
    "    "
   ]
  },
  {
   "cell_type": "code",
   "execution_count": 53,
   "metadata": {
    "collapsed": false
   },
   "outputs": [
    {
     "data": {
      "text/plain": [
       "(26, 3)"
      ]
     },
     "execution_count": 53,
     "metadata": {},
     "output_type": "execute_result"
    }
   ],
   "source": [
    "reduced_vecs3.shape"
   ]
  },
  {
   "cell_type": "code",
   "execution_count": null,
   "metadata": {
    "collapsed": true
   },
   "outputs": [],
   "source": []
  }
 ],
 "metadata": {
  "kernelspec": {
   "display_name": "Python [Root]",
   "language": "python",
   "name": "Python [Root]"
  },
  "language_info": {
   "codemirror_mode": {
    "name": "ipython",
    "version": 2
   },
   "file_extension": ".py",
   "mimetype": "text/x-python",
   "name": "python",
   "nbconvert_exporter": "python",
   "pygments_lexer": "ipython2",
   "version": "2.7.11"
  }
 },
 "nbformat": 4,
 "nbformat_minor": 0
}
