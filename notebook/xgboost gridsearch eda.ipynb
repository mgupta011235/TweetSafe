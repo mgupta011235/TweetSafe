{
 "cells": [
  {
   "cell_type": "code",
   "execution_count": 1,
   "metadata": {
    "collapsed": true
   },
   "outputs": [],
   "source": [
    "import pandas as pd\n",
    "import numpy as np\n",
    "import matplotlib.pyplot as plt\n",
    "import seaborn as sb\n",
    "%matplotlib inline"
   ]
  },
  {
   "cell_type": "code",
   "execution_count": 3,
   "metadata": {
    "collapsed": true
   },
   "outputs": [],
   "source": [
    "results = {'eval': {'auc': [0.499306, 0.494721, 0.488865, 0.478342, 0.5674]},\n",
    " 'train': {'auc': [0.557143, 0.632473, 0.715275, 0.74478, 0.780549]}}\n",
    "\n",
    "labels = ['max_depth','eta','num_rounds','eval_reslts']\n",
    "data = [[3,0.1,100,results],[3,0.1,100,results],[3,0.1,100,results]]\n",
    "df = pd.DataFrame(data=data,columns=labels)"
   ]
  },
  {
   "cell_type": "code",
   "execution_count": 4,
   "metadata": {
    "collapsed": false
   },
   "outputs": [
    {
     "data": {
      "text/html": [
       "<div>\n",
       "<table border=\"1\" class=\"dataframe\">\n",
       "  <thead>\n",
       "    <tr style=\"text-align: right;\">\n",
       "      <th></th>\n",
       "      <th>max_depth</th>\n",
       "      <th>eta</th>\n",
       "      <th>num_rounds</th>\n",
       "      <th>eval_reslts</th>\n",
       "    </tr>\n",
       "  </thead>\n",
       "  <tbody>\n",
       "    <tr>\n",
       "      <th>0</th>\n",
       "      <td>3</td>\n",
       "      <td>0.1</td>\n",
       "      <td>100</td>\n",
       "      <td>{u'train': {u'auc': [0.557143, 0.632473, 0.715...</td>\n",
       "    </tr>\n",
       "    <tr>\n",
       "      <th>1</th>\n",
       "      <td>3</td>\n",
       "      <td>0.1</td>\n",
       "      <td>100</td>\n",
       "      <td>{u'train': {u'auc': [0.557143, 0.632473, 0.715...</td>\n",
       "    </tr>\n",
       "    <tr>\n",
       "      <th>2</th>\n",
       "      <td>3</td>\n",
       "      <td>0.1</td>\n",
       "      <td>100</td>\n",
       "      <td>{u'train': {u'auc': [0.557143, 0.632473, 0.715...</td>\n",
       "    </tr>\n",
       "  </tbody>\n",
       "</table>\n",
       "</div>"
      ],
      "text/plain": [
       "   max_depth  eta  num_rounds  \\\n",
       "0          3  0.1         100   \n",
       "1          3  0.1         100   \n",
       "2          3  0.1         100   \n",
       "\n",
       "                                         eval_reslts  \n",
       "0  {u'train': {u'auc': [0.557143, 0.632473, 0.715...  \n",
       "1  {u'train': {u'auc': [0.557143, 0.632473, 0.715...  \n",
       "2  {u'train': {u'auc': [0.557143, 0.632473, 0.715...  "
      ]
     },
     "execution_count": 4,
     "metadata": {},
     "output_type": "execute_result"
    }
   ],
   "source": [
    "df"
   ]
  },
  {
   "cell_type": "code",
   "execution_count": 20,
   "metadata": {
    "collapsed": true
   },
   "outputs": [],
   "source": [
    "def myfunc(x):\n",
    "    \n",
    "    val = np.array(x['eval']['auc'])\n",
    "    maxInd = np.argmax(val)\n",
    "    maxVal = val[maxInd]\n",
    "    \n",
    "    return (maxInd,maxVal)\n",
    "    "
   ]
  },
  {
   "cell_type": "code",
   "execution_count": 21,
   "metadata": {
    "collapsed": false
   },
   "outputs": [
    {
     "name": "stdout",
     "output_type": "stream",
     "text": [
      "<built-in method values of dict object at 0x7fc0bbb6d168>\n"
     ]
    }
   ],
   "source": [
    "test = df['eval_reslts'].loc[0]\n",
    "print test['eval'].values"
   ]
  },
  {
   "cell_type": "code",
   "execution_count": 22,
   "metadata": {
    "collapsed": false
   },
   "outputs": [
    {
     "data": {
      "text/plain": [
       "(4, 0.56740000000000002)"
      ]
     },
     "execution_count": 22,
     "metadata": {},
     "output_type": "execute_result"
    }
   ],
   "source": [
    "test = df['eval_reslts'].loc[0]\n",
    "myfunc(test)"
   ]
  },
  {
   "cell_type": "code",
   "execution_count": 24,
   "metadata": {
    "collapsed": false
   },
   "outputs": [],
   "source": [
    "df['eval_auc'] = df['eval_reslts'].map(lambda x: myfunc(x))"
   ]
  },
  {
   "cell_type": "code",
   "execution_count": 25,
   "metadata": {
    "collapsed": false
   },
   "outputs": [
    {
     "data": {
      "text/html": [
       "<div>\n",
       "<table border=\"1\" class=\"dataframe\">\n",
       "  <thead>\n",
       "    <tr style=\"text-align: right;\">\n",
       "      <th></th>\n",
       "      <th>max_depth</th>\n",
       "      <th>eta</th>\n",
       "      <th>num_rounds</th>\n",
       "      <th>eval_reslts</th>\n",
       "      <th>eval_auc</th>\n",
       "    </tr>\n",
       "  </thead>\n",
       "  <tbody>\n",
       "    <tr>\n",
       "      <th>0</th>\n",
       "      <td>3</td>\n",
       "      <td>0.1</td>\n",
       "      <td>100</td>\n",
       "      <td>{u'train': {u'auc': [0.557143, 0.632473, 0.715...</td>\n",
       "      <td>(4, 0.5674)</td>\n",
       "    </tr>\n",
       "    <tr>\n",
       "      <th>1</th>\n",
       "      <td>3</td>\n",
       "      <td>0.1</td>\n",
       "      <td>100</td>\n",
       "      <td>{u'train': {u'auc': [0.557143, 0.632473, 0.715...</td>\n",
       "      <td>(4, 0.5674)</td>\n",
       "    </tr>\n",
       "    <tr>\n",
       "      <th>2</th>\n",
       "      <td>3</td>\n",
       "      <td>0.1</td>\n",
       "      <td>100</td>\n",
       "      <td>{u'train': {u'auc': [0.557143, 0.632473, 0.715...</td>\n",
       "      <td>(4, 0.5674)</td>\n",
       "    </tr>\n",
       "  </tbody>\n",
       "</table>\n",
       "</div>"
      ],
      "text/plain": [
       "   max_depth  eta  num_rounds  \\\n",
       "0          3  0.1         100   \n",
       "1          3  0.1         100   \n",
       "2          3  0.1         100   \n",
       "\n",
       "                                         eval_reslts     eval_auc  \n",
       "0  {u'train': {u'auc': [0.557143, 0.632473, 0.715...  (4, 0.5674)  \n",
       "1  {u'train': {u'auc': [0.557143, 0.632473, 0.715...  (4, 0.5674)  \n",
       "2  {u'train': {u'auc': [0.557143, 0.632473, 0.715...  (4, 0.5674)  "
      ]
     },
     "execution_count": 25,
     "metadata": {},
     "output_type": "execute_result"
    }
   ],
   "source": [
    "df"
   ]
  },
  {
   "cell_type": "code",
   "execution_count": 2,
   "metadata": {
    "collapsed": true
   },
   "outputs": [],
   "source": [
    "def build_roc(df):\n",
    "    \n",
    "    df['TPR'] = df['recall']\n",
    "    df['FPR'] = df['FP']/(df['FP'] + df['TN'])\n",
    "    \n",
    "#     plt.plot([0,1],[0,1],'k',linewidth=0.5)\n",
    "    plt.figure()\n",
    "    plt.plot(df.FPR.values,df.TPR.values,'r*',markersize=7)\n",
    "    plt.xlabel('FPR')\n",
    "    plt.xlim([0,1])\n",
    "    plt.ylabel('TPR')\n",
    "    plt.ylim([0,1])\n",
    "    titlestr = \"AUC: {}  k = {}\".format(np.trapz(df.TPR.values[::-1],x=df.FPR.values[::-1]),int(df.k.unique()))\n",
    "    plt.title(titlestr)"
   ]
  },
  {
   "cell_type": "code",
   "execution_count": null,
   "metadata": {
    "collapsed": true
   },
   "outputs": [],
   "source": [
    "for k in df.k.unique():\n",
    "    build_roc(df[df['k']==k])"
   ]
  }
 ],
 "metadata": {
  "kernelspec": {
   "display_name": "Python [Root]",
   "language": "python",
   "name": "Python [Root]"
  },
  "language_info": {
   "codemirror_mode": {
    "name": "ipython",
    "version": 2
   },
   "file_extension": ".py",
   "mimetype": "text/x-python",
   "name": "python",
   "nbconvert_exporter": "python",
   "pygments_lexer": "ipython2",
   "version": "2.7.11"
  }
 },
 "nbformat": 4,
 "nbformat_minor": 0
}
