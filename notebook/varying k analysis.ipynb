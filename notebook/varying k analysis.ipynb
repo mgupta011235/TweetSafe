{
 "cells": [
  {
   "cell_type": "code",
   "execution_count": 3,
   "metadata": {
    "collapsed": true
   },
   "outputs": [],
   "source": [
    "import numpy as np\n",
    "import random \n",
    "import pandas as pd\n",
    "import matplotlib.pyplot as plt\n",
    "import seaborn as sb\n",
    "%matplotlib inline"
   ]
  },
  {
   "cell_type": "code",
   "execution_count": 4,
   "metadata": {
    "collapsed": false
   },
   "outputs": [
    {
     "name": "stdout",
     "output_type": "stream",
     "text": [
      "[27 53 11 96 72 88 96 71 75 77]\n"
     ]
    }
   ],
   "source": [
    "randnums = np.random.randint(100,size=(10,))\n",
    "print randnums"
   ]
  },
  {
   "cell_type": "code",
   "execution_count": 5,
   "metadata": {
    "collapsed": false
   },
   "outputs": [
    {
     "name": "stdout",
     "output_type": "stream",
     "text": [
      "[2 0 1 7 4 8 9 5 3 6]\n"
     ]
    }
   ],
   "source": [
    "sortind = np.argsort(randnums)\n",
    "print sortind"
   ]
  },
  {
   "cell_type": "code",
   "execution_count": 6,
   "metadata": {
    "collapsed": false
   },
   "outputs": [
    {
     "data": {
      "text/plain": [
       "array([5, 3, 6])"
      ]
     },
     "execution_count": 6,
     "metadata": {},
     "output_type": "execute_result"
    }
   ],
   "source": [
    "sortind[-3:]"
   ]
  },
  {
   "cell_type": "code",
   "execution_count": 7,
   "metadata": {
    "collapsed": false
   },
   "outputs": [
    {
     "data": {
      "text/plain": [
       "array([88, 96, 96])"
      ]
     },
     "execution_count": 7,
     "metadata": {},
     "output_type": "execute_result"
    }
   ],
   "source": [
    "randnums[sortind[-3:]]"
   ]
  },
  {
   "cell_type": "code",
   "execution_count": 8,
   "metadata": {
    "collapsed": true
   },
   "outputs": [],
   "source": [
    "data = [1, 0.5,0.5,0.5,100,200,300,400]\n",
    "labels = ['k','accuracy','recall','precision','TP','TN','FN','FP']"
   ]
  },
  {
   "cell_type": "code",
   "execution_count": 9,
   "metadata": {
    "collapsed": false
   },
   "outputs": [],
   "source": [
    "ser1 = pd.DataFrame(data=data,index=labels).T"
   ]
  },
  {
   "cell_type": "code",
   "execution_count": 10,
   "metadata": {
    "collapsed": false
   },
   "outputs": [
    {
     "name": "stdout",
     "output_type": "stream",
     "text": [
      "     k  accuracy  recall  precision     TP     TN     FN     FP\n",
      "0  1.0       0.5     0.5        0.5  100.0  200.0  300.0  400.0\n"
     ]
    }
   ],
   "source": [
    "print ser1\n"
   ]
  },
  {
   "cell_type": "code",
   "execution_count": 11,
   "metadata": {
    "collapsed": false
   },
   "outputs": [
    {
     "name": "stdout",
     "output_type": "stream",
     "text": [
      "    k  accuracy  recall  precision  TP  TN  FN  FP\n",
      "0 NaN       NaN     NaN        NaN NaN NaN NaN NaN\n"
     ]
    }
   ],
   "source": [
    "df = pd.DataFrame()\n",
    "for i in xrange(5):\n",
    "    df = df.add(ser1)\n",
    "    \n",
    "print df"
   ]
  },
  {
   "cell_type": "code",
   "execution_count": 12,
   "metadata": {
    "collapsed": false
   },
   "outputs": [
    {
     "name": "stdout",
     "output_type": "stream",
     "text": [
      "     k  accuracy  recall  precision     TP     TN     FN     FP\n",
      "0  1.0       0.5     0.5        0.5  100.0  200.0  300.0  400.0\n",
      "1  1.0       0.5     0.5        0.5  100.0  200.0  300.0  400.0\n",
      "2  1.0       0.5     0.5        0.5  100.0  200.0  300.0  400.0\n",
      "3  1.0       0.5     0.5        0.5  100.0  200.0  300.0  400.0\n",
      "4  1.0       0.5     0.5        0.5  100.0  200.0  300.0  400.0\n"
     ]
    }
   ],
   "source": [
    "df = pd.DataFrame(columns=labels)\n",
    "for i in xrange(5):\n",
    "    df.loc[i] = data\n",
    "    \n",
    "print df"
   ]
  },
  {
   "cell_type": "code",
   "execution_count": 13,
   "metadata": {
    "collapsed": true
   },
   "outputs": [],
   "source": [
    "path = '../../data/varying_K_on_cross_val.csv'\n",
    "df = pd.read_csv(path)"
   ]
  },
  {
   "cell_type": "code",
   "execution_count": 14,
   "metadata": {
    "collapsed": false
   },
   "outputs": [
    {
     "data": {
      "text/plain": [
       "Index([u'Unnamed: 0', u'k', u'accuracy', u'recall', u'precision', u'TP', u'TN',\n",
       "       u'FN', u'FP'],\n",
       "      dtype='object')"
      ]
     },
     "execution_count": 14,
     "metadata": {},
     "output_type": "execute_result"
    }
   ],
   "source": [
    "df.columns"
   ]
  },
  {
   "cell_type": "code",
   "execution_count": 15,
   "metadata": {
    "collapsed": false
   },
   "outputs": [],
   "source": [
    "df.drop(labels='Unnamed: 0',axis=1,inplace=True)"
   ]
  },
  {
   "cell_type": "code",
   "execution_count": 16,
   "metadata": {
    "collapsed": false
   },
   "outputs": [
    {
     "data": {
      "text/html": [
       "<div>\n",
       "<table border=\"1\" class=\"dataframe\">\n",
       "  <thead>\n",
       "    <tr style=\"text-align: right;\">\n",
       "      <th></th>\n",
       "      <th>k</th>\n",
       "      <th>accuracy</th>\n",
       "      <th>recall</th>\n",
       "      <th>precision</th>\n",
       "      <th>TP</th>\n",
       "      <th>TN</th>\n",
       "      <th>FN</th>\n",
       "      <th>FP</th>\n",
       "    </tr>\n",
       "  </thead>\n",
       "  <tbody>\n",
       "    <tr>\n",
       "      <th>0</th>\n",
       "      <td>0.0</td>\n",
       "      <td>0.4966</td>\n",
       "      <td>0.000000</td>\n",
       "      <td>NaN</td>\n",
       "      <td>0.0</td>\n",
       "      <td>4966.0</td>\n",
       "      <td>5034.0</td>\n",
       "      <td>0.0</td>\n",
       "    </tr>\n",
       "    <tr>\n",
       "      <th>1</th>\n",
       "      <td>1.0</td>\n",
       "      <td>0.5611</td>\n",
       "      <td>0.879420</td>\n",
       "      <td>0.539286</td>\n",
       "      <td>4427.0</td>\n",
       "      <td>1184.0</td>\n",
       "      <td>607.0</td>\n",
       "      <td>3782.0</td>\n",
       "    </tr>\n",
       "    <tr>\n",
       "      <th>2</th>\n",
       "      <td>2.0</td>\n",
       "      <td>0.6462</td>\n",
       "      <td>0.697855</td>\n",
       "      <td>0.635262</td>\n",
       "      <td>3513.0</td>\n",
       "      <td>2949.0</td>\n",
       "      <td>1521.0</td>\n",
       "      <td>2017.0</td>\n",
       "    </tr>\n",
       "    <tr>\n",
       "      <th>3</th>\n",
       "      <td>3.0</td>\n",
       "      <td>0.6726</td>\n",
       "      <td>0.543107</td>\n",
       "      <td>0.737325</td>\n",
       "      <td>2734.0</td>\n",
       "      <td>3992.0</td>\n",
       "      <td>2300.0</td>\n",
       "      <td>974.0</td>\n",
       "    </tr>\n",
       "    <tr>\n",
       "      <th>4</th>\n",
       "      <td>4.0</td>\n",
       "      <td>0.6537</td>\n",
       "      <td>0.408621</td>\n",
       "      <td>0.808887</td>\n",
       "      <td>2057.0</td>\n",
       "      <td>4480.0</td>\n",
       "      <td>2977.0</td>\n",
       "      <td>486.0</td>\n",
       "    </tr>\n",
       "    <tr>\n",
       "      <th>5</th>\n",
       "      <td>5.0</td>\n",
       "      <td>0.6307</td>\n",
       "      <td>0.309893</td>\n",
       "      <td>0.876897</td>\n",
       "      <td>1560.0</td>\n",
       "      <td>4747.0</td>\n",
       "      <td>3474.0</td>\n",
       "      <td>219.0</td>\n",
       "    </tr>\n",
       "    <tr>\n",
       "      <th>6</th>\n",
       "      <td>6.0</td>\n",
       "      <td>0.5935</td>\n",
       "      <td>0.213945</td>\n",
       "      <td>0.908861</td>\n",
       "      <td>1077.0</td>\n",
       "      <td>4858.0</td>\n",
       "      <td>3957.0</td>\n",
       "      <td>108.0</td>\n",
       "    </tr>\n",
       "    <tr>\n",
       "      <th>7</th>\n",
       "      <td>7.0</td>\n",
       "      <td>0.5595</td>\n",
       "      <td>0.132499</td>\n",
       "      <td>0.946099</td>\n",
       "      <td>667.0</td>\n",
       "      <td>4928.0</td>\n",
       "      <td>4367.0</td>\n",
       "      <td>38.0</td>\n",
       "    </tr>\n",
       "    <tr>\n",
       "      <th>8</th>\n",
       "      <td>8.0</td>\n",
       "      <td>0.5334</td>\n",
       "      <td>0.075487</td>\n",
       "      <td>0.969388</td>\n",
       "      <td>380.0</td>\n",
       "      <td>4954.0</td>\n",
       "      <td>4654.0</td>\n",
       "      <td>12.0</td>\n",
       "    </tr>\n",
       "    <tr>\n",
       "      <th>9</th>\n",
       "      <td>9.0</td>\n",
       "      <td>0.5156</td>\n",
       "      <td>0.038141</td>\n",
       "      <td>0.989691</td>\n",
       "      <td>192.0</td>\n",
       "      <td>4964.0</td>\n",
       "      <td>4842.0</td>\n",
       "      <td>2.0</td>\n",
       "    </tr>\n",
       "    <tr>\n",
       "      <th>10</th>\n",
       "      <td>10.0</td>\n",
       "      <td>0.5045</td>\n",
       "      <td>0.016091</td>\n",
       "      <td>0.975904</td>\n",
       "      <td>81.0</td>\n",
       "      <td>4964.0</td>\n",
       "      <td>4953.0</td>\n",
       "      <td>2.0</td>\n",
       "    </tr>\n",
       "    <tr>\n",
       "      <th>11</th>\n",
       "      <td>11.0</td>\n",
       "      <td>0.4981</td>\n",
       "      <td>0.002980</td>\n",
       "      <td>1.000000</td>\n",
       "      <td>15.0</td>\n",
       "      <td>4966.0</td>\n",
       "      <td>5019.0</td>\n",
       "      <td>0.0</td>\n",
       "    </tr>\n",
       "    <tr>\n",
       "      <th>12</th>\n",
       "      <td>12.0</td>\n",
       "      <td>0.4966</td>\n",
       "      <td>0.000000</td>\n",
       "      <td>NaN</td>\n",
       "      <td>0.0</td>\n",
       "      <td>4966.0</td>\n",
       "      <td>5034.0</td>\n",
       "      <td>0.0</td>\n",
       "    </tr>\n",
       "    <tr>\n",
       "      <th>13</th>\n",
       "      <td>13.0</td>\n",
       "      <td>0.4966</td>\n",
       "      <td>0.000000</td>\n",
       "      <td>NaN</td>\n",
       "      <td>0.0</td>\n",
       "      <td>4966.0</td>\n",
       "      <td>5034.0</td>\n",
       "      <td>0.0</td>\n",
       "    </tr>\n",
       "    <tr>\n",
       "      <th>14</th>\n",
       "      <td>14.0</td>\n",
       "      <td>0.4966</td>\n",
       "      <td>0.000000</td>\n",
       "      <td>NaN</td>\n",
       "      <td>0.0</td>\n",
       "      <td>4966.0</td>\n",
       "      <td>5034.0</td>\n",
       "      <td>0.0</td>\n",
       "    </tr>\n",
       "    <tr>\n",
       "      <th>15</th>\n",
       "      <td>15.0</td>\n",
       "      <td>0.4966</td>\n",
       "      <td>0.000000</td>\n",
       "      <td>NaN</td>\n",
       "      <td>0.0</td>\n",
       "      <td>4966.0</td>\n",
       "      <td>5034.0</td>\n",
       "      <td>0.0</td>\n",
       "    </tr>\n",
       "    <tr>\n",
       "      <th>16</th>\n",
       "      <td>16.0</td>\n",
       "      <td>0.4966</td>\n",
       "      <td>0.000000</td>\n",
       "      <td>NaN</td>\n",
       "      <td>0.0</td>\n",
       "      <td>4966.0</td>\n",
       "      <td>5034.0</td>\n",
       "      <td>0.0</td>\n",
       "    </tr>\n",
       "    <tr>\n",
       "      <th>17</th>\n",
       "      <td>17.0</td>\n",
       "      <td>0.4966</td>\n",
       "      <td>0.000000</td>\n",
       "      <td>NaN</td>\n",
       "      <td>0.0</td>\n",
       "      <td>4966.0</td>\n",
       "      <td>5034.0</td>\n",
       "      <td>0.0</td>\n",
       "    </tr>\n",
       "    <tr>\n",
       "      <th>18</th>\n",
       "      <td>18.0</td>\n",
       "      <td>0.4966</td>\n",
       "      <td>0.000000</td>\n",
       "      <td>NaN</td>\n",
       "      <td>0.0</td>\n",
       "      <td>4966.0</td>\n",
       "      <td>5034.0</td>\n",
       "      <td>0.0</td>\n",
       "    </tr>\n",
       "    <tr>\n",
       "      <th>19</th>\n",
       "      <td>19.0</td>\n",
       "      <td>0.4966</td>\n",
       "      <td>0.000000</td>\n",
       "      <td>NaN</td>\n",
       "      <td>0.0</td>\n",
       "      <td>4966.0</td>\n",
       "      <td>5034.0</td>\n",
       "      <td>0.0</td>\n",
       "    </tr>\n",
       "    <tr>\n",
       "      <th>20</th>\n",
       "      <td>20.0</td>\n",
       "      <td>0.4966</td>\n",
       "      <td>0.000000</td>\n",
       "      <td>NaN</td>\n",
       "      <td>0.0</td>\n",
       "      <td>4966.0</td>\n",
       "      <td>5034.0</td>\n",
       "      <td>0.0</td>\n",
       "    </tr>\n",
       "    <tr>\n",
       "      <th>21</th>\n",
       "      <td>21.0</td>\n",
       "      <td>0.4966</td>\n",
       "      <td>0.000000</td>\n",
       "      <td>NaN</td>\n",
       "      <td>0.0</td>\n",
       "      <td>4966.0</td>\n",
       "      <td>5034.0</td>\n",
       "      <td>0.0</td>\n",
       "    </tr>\n",
       "    <tr>\n",
       "      <th>22</th>\n",
       "      <td>22.0</td>\n",
       "      <td>0.4966</td>\n",
       "      <td>0.000000</td>\n",
       "      <td>NaN</td>\n",
       "      <td>0.0</td>\n",
       "      <td>4966.0</td>\n",
       "      <td>5034.0</td>\n",
       "      <td>0.0</td>\n",
       "    </tr>\n",
       "    <tr>\n",
       "      <th>23</th>\n",
       "      <td>23.0</td>\n",
       "      <td>0.4966</td>\n",
       "      <td>0.000000</td>\n",
       "      <td>NaN</td>\n",
       "      <td>0.0</td>\n",
       "      <td>4966.0</td>\n",
       "      <td>5034.0</td>\n",
       "      <td>0.0</td>\n",
       "    </tr>\n",
       "    <tr>\n",
       "      <th>24</th>\n",
       "      <td>24.0</td>\n",
       "      <td>0.4966</td>\n",
       "      <td>0.000000</td>\n",
       "      <td>NaN</td>\n",
       "      <td>0.0</td>\n",
       "      <td>4966.0</td>\n",
       "      <td>5034.0</td>\n",
       "      <td>0.0</td>\n",
       "    </tr>\n",
       "    <tr>\n",
       "      <th>25</th>\n",
       "      <td>25.0</td>\n",
       "      <td>0.4966</td>\n",
       "      <td>0.000000</td>\n",
       "      <td>NaN</td>\n",
       "      <td>0.0</td>\n",
       "      <td>4966.0</td>\n",
       "      <td>5034.0</td>\n",
       "      <td>0.0</td>\n",
       "    </tr>\n",
       "  </tbody>\n",
       "</table>\n",
       "</div>"
      ],
      "text/plain": [
       "       k  accuracy    recall  precision      TP      TN      FN      FP\n",
       "0    0.0    0.4966  0.000000        NaN     0.0  4966.0  5034.0     0.0\n",
       "1    1.0    0.5611  0.879420   0.539286  4427.0  1184.0   607.0  3782.0\n",
       "2    2.0    0.6462  0.697855   0.635262  3513.0  2949.0  1521.0  2017.0\n",
       "3    3.0    0.6726  0.543107   0.737325  2734.0  3992.0  2300.0   974.0\n",
       "4    4.0    0.6537  0.408621   0.808887  2057.0  4480.0  2977.0   486.0\n",
       "5    5.0    0.6307  0.309893   0.876897  1560.0  4747.0  3474.0   219.0\n",
       "6    6.0    0.5935  0.213945   0.908861  1077.0  4858.0  3957.0   108.0\n",
       "7    7.0    0.5595  0.132499   0.946099   667.0  4928.0  4367.0    38.0\n",
       "8    8.0    0.5334  0.075487   0.969388   380.0  4954.0  4654.0    12.0\n",
       "9    9.0    0.5156  0.038141   0.989691   192.0  4964.0  4842.0     2.0\n",
       "10  10.0    0.5045  0.016091   0.975904    81.0  4964.0  4953.0     2.0\n",
       "11  11.0    0.4981  0.002980   1.000000    15.0  4966.0  5019.0     0.0\n",
       "12  12.0    0.4966  0.000000        NaN     0.0  4966.0  5034.0     0.0\n",
       "13  13.0    0.4966  0.000000        NaN     0.0  4966.0  5034.0     0.0\n",
       "14  14.0    0.4966  0.000000        NaN     0.0  4966.0  5034.0     0.0\n",
       "15  15.0    0.4966  0.000000        NaN     0.0  4966.0  5034.0     0.0\n",
       "16  16.0    0.4966  0.000000        NaN     0.0  4966.0  5034.0     0.0\n",
       "17  17.0    0.4966  0.000000        NaN     0.0  4966.0  5034.0     0.0\n",
       "18  18.0    0.4966  0.000000        NaN     0.0  4966.0  5034.0     0.0\n",
       "19  19.0    0.4966  0.000000        NaN     0.0  4966.0  5034.0     0.0\n",
       "20  20.0    0.4966  0.000000        NaN     0.0  4966.0  5034.0     0.0\n",
       "21  21.0    0.4966  0.000000        NaN     0.0  4966.0  5034.0     0.0\n",
       "22  22.0    0.4966  0.000000        NaN     0.0  4966.0  5034.0     0.0\n",
       "23  23.0    0.4966  0.000000        NaN     0.0  4966.0  5034.0     0.0\n",
       "24  24.0    0.4966  0.000000        NaN     0.0  4966.0  5034.0     0.0\n",
       "25  25.0    0.4966  0.000000        NaN     0.0  4966.0  5034.0     0.0"
      ]
     },
     "execution_count": 16,
     "metadata": {},
     "output_type": "execute_result"
    }
   ],
   "source": [
    "df"
   ]
  },
  {
   "cell_type": "code",
   "execution_count": 66,
   "metadata": {
    "collapsed": false
   },
   "outputs": [
    {
     "data": {
      "text/plain": [
       "<matplotlib.text.Text at 0x7f74b03d5c50>"
      ]
     },
     "execution_count": 66,
     "metadata": {},
     "output_type": "execute_result"
    },
    {
     "data": {
      "image/png": "[encoded data removed]",
      "text/plain": [
       "<matplotlib.figure.Figure at 0x7f74b0497b10>"
      ]
     },
     "metadata": {},
     "output_type": "display_data"
    }
   ],
   "source": [
    "x = df.k.values[1:12]\n",
    "\n",
    "for col in df.columns[1:4]:\n",
    "    plt.plot(x,df[col].values[1:12],'*',label=col,markersize=8)\n",
    "\n",
    "plt.legend()\n",
    "plt.xlabel('k')\n",
    "plt.ylabel('%')"
   ]
  },
  {
   "cell_type": "code",
   "execution_count": 67,
   "metadata": {
    "collapsed": false
   },
   "outputs": [
    {
     "data": {
      "text/plain": [
       "<matplotlib.text.Text at 0x7f74b0332710>"
      ]
     },
     "execution_count": 67,
     "metadata": {},
     "output_type": "execute_result"
    },
    {
     "data": {
      "image/png": "[encoded data removed]",
      "text/plain": [
       "<matplotlib.figure.Figure at 0x7f74b03f4490>"
      ]
     },
     "metadata": {},
     "output_type": "display_data"
    }
   ],
   "source": [
    "for col in df.columns[4:]:\n",
    "    plt.plot(x,df[col].values[1:12],'*',label=col,markersize=8)\n",
    "\n",
    "plt.legend()\n",
    "plt.xlabel('k')\n",
    "plt.ylabel('%')"
   ]
  },
  {
   "cell_type": "code",
   "execution_count": 67,
   "metadata": {
    "collapsed": true
   },
   "outputs": [],
   "source": [
    "def build_roc(df):\n",
    "    \n",
    "    df['TPR'] = df['recall']\n",
    "    df['FPR'] = df['FP']/(df['FP'] + df['TN'])\n",
    "    \n",
    "    plt.plot([0,1],[0,1],'k',linewidth=0.5)\n",
    "    \n",
    "    plt.plot(df.FPR.values,df.TPR.values,'r*',markersize=7)\n",
    "    plt.xlabel('FPR')\n",
    "    plt.xlim([0,1])\n",
    "    plt.ylabel('TPR')\n",
    "    plt.ylim([0,1])\n",
    "    titlestr = \"AUC: {}\".format(np.trapz(df.TPR.values[::-1],x=df.FPR.values[::-1]))\n",
    "    plt.title(titlestr)\n",
    "    \n",
    "#     print \"TPR: \",df.TPR\n",
    "#     print \"FPR: \",df.FPR\n",
    "    \n",
    "    "
   ]
  },
  {
   "cell_type": "code",
   "execution_count": 73,
   "metadata": {
    "collapsed": false
   },
   "outputs": [
    {
     "name": "stderr",
     "output_type": "stream",
     "text": [
      "/home/mgupta/anaconda2/lib/python2.7/site-packages/ipykernel/__main__.py:3: SettingWithCopyWarning: \n",
      "A value is trying to be set on a copy of a slice from a DataFrame.\n",
      "Try using .loc[row_indexer,col_indexer] = value instead\n",
      "\n",
      "See the caveats in the documentation: http://pandas.pydata.org/pandas-docs/stable/indexing.html#indexing-view-versus-copy\n",
      "  app.launch_new_instance()\n",
      "/home/mgupta/anaconda2/lib/python2.7/site-packages/ipykernel/__main__.py:4: SettingWithCopyWarning: \n",
      "A value is trying to be set on a copy of a slice from a DataFrame.\n",
      "Try using .loc[row_indexer,col_indexer] = value instead\n",
      "\n",
      "See the caveats in the documentation: http://pandas.pydata.org/pandas-docs/stable/indexing.html#indexing-view-versus-copy\n"
     ]
    },
    {
     "data": {
      "image/png": "[encoded data removed]",
      "text/plain": [
       "<matplotlib.figure.Figure at 0x7f179283a190>"
      ]
     },
     "metadata": {},
     "output_type": "display_data"
    }
   ],
   "source": [
    "build_roc(df.loc[1:,:])"
   ]
  },
  {
   "cell_type": "code",
   "execution_count": 51,
   "metadata": {
    "collapsed": false
   },
   "outputs": [
    {
     "ename": "AttributeError",
     "evalue": "'DataFrame' object has no attribute 'TPR'",
     "output_type": "error",
     "traceback": [
      "\u001b[1;31m---------------------------------------------------------------------------\u001b[0m",
      "\u001b[1;31mAttributeError\u001b[0m                            Traceback (most recent call last)",
      "\u001b[1;32m<ipython-input-51-9beb07bbaf2a>\u001b[0m in \u001b[0;36m<module>\u001b[1;34m()\u001b[0m\n\u001b[1;32m----> 1\u001b[1;33m \u001b[0mdf\u001b[0m\u001b[1;33m.\u001b[0m\u001b[0mTPR\u001b[0m\u001b[1;33m.\u001b[0m\u001b[0mvalues\u001b[0m\u001b[1;33m[\u001b[0m\u001b[1;33m:\u001b[0m\u001b[1;33m:\u001b[0m\u001b[1;33m-\u001b[0m\u001b[1;36m1\u001b[0m\u001b[1;33m]\u001b[0m\u001b[1;33m\u001b[0m\u001b[0m\n\u001b[0m",
      "\u001b[1;32m/home/mgupta/anaconda2/lib/python2.7/site-packages/pandas/core/generic.pyc\u001b[0m in \u001b[0;36m__getattr__\u001b[1;34m(self, name)\u001b[0m\n\u001b[0;32m   2670\u001b[0m             \u001b[1;32mif\u001b[0m \u001b[0mname\u001b[0m \u001b[1;32min\u001b[0m \u001b[0mself\u001b[0m\u001b[1;33m.\u001b[0m\u001b[0m_info_axis\u001b[0m\u001b[1;33m:\u001b[0m\u001b[1;33m\u001b[0m\u001b[0m\n\u001b[0;32m   2671\u001b[0m                 \u001b[1;32mreturn\u001b[0m \u001b[0mself\u001b[0m\u001b[1;33m[\u001b[0m\u001b[0mname\u001b[0m\u001b[1;33m]\u001b[0m\u001b[1;33m\u001b[0m\u001b[0m\n\u001b[1;32m-> 2672\u001b[1;33m             \u001b[1;32mreturn\u001b[0m \u001b[0mobject\u001b[0m\u001b[1;33m.\u001b[0m\u001b[0m__getattribute__\u001b[0m\u001b[1;33m(\u001b[0m\u001b[0mself\u001b[0m\u001b[1;33m,\u001b[0m \u001b[0mname\u001b[0m\u001b[1;33m)\u001b[0m\u001b[1;33m\u001b[0m\u001b[0m\n\u001b[0m\u001b[0;32m   2673\u001b[0m \u001b[1;33m\u001b[0m\u001b[0m\n\u001b[0;32m   2674\u001b[0m     \u001b[1;32mdef\u001b[0m \u001b[0m__setattr__\u001b[0m\u001b[1;33m(\u001b[0m\u001b[0mself\u001b[0m\u001b[1;33m,\u001b[0m \u001b[0mname\u001b[0m\u001b[1;33m,\u001b[0m \u001b[0mvalue\u001b[0m\u001b[1;33m)\u001b[0m\u001b[1;33m:\u001b[0m\u001b[1;33m\u001b[0m\u001b[0m\n",
      "\u001b[1;31mAttributeError\u001b[0m: 'DataFrame' object has no attribute 'TPR'"
     ]
    }
   ],
   "source": [
    "df.TPR.values[::-1]"
   ]
  },
  {
   "cell_type": "code",
   "execution_count": 71,
   "metadata": {
    "collapsed": true
   },
   "outputs": [],
   "source": [
    "def seperatePunct(incomingString):\n",
    "    newstring = incomingString\n",
    "    newstring = newstring.replace(\"!\",\" ! \")\n",
    "    newstring = newstring.replace(\"@\",\" @ \")\n",
    "    newstring = newstring.replace(\"#\",\" # \")\n",
    "    newstring = newstring.replace(\"$\",\" $ \")\n",
    "    newstring = newstring.replace(\"%\",\" % \")\n",
    "    newstring = newstring.replace(\"^\",\" ^ \")\n",
    "    newstring = newstring.replace(\"&\",\" & \")\n",
    "    newstring = newstring.replace(\"*\",\" * \")\n",
    "    newstring = newstring.replace(\"(\",\" ( \")\n",
    "    newstring = newstring.replace(\")\",\" ) \")\n",
    "    newstring = newstring.replace(\"+\",\" + \")\n",
    "    newstring = newstring.replace(\"=\",\" = \")\n",
    "    newstring = newstring.replace(\"?\",\" ? \")\n",
    "    newstring = newstring.replace(\"\\'\",\" \\' \")\n",
    "    newstring = newstring.replace(\"\\\"\",\" \\\" \")\n",
    "    newstring = newstring.replace(\"{\",\" { \")\n",
    "    newstring = newstring.replace(\"}\",\" } \")\n",
    "    newstring = newstring.replace(\"[\",\" [ \")\n",
    "    newstring = newstring.replace(\"]\",\" ] \")\n",
    "    newstring = newstring.replace(\"<\",\" < \")\n",
    "    newstring = newstring.replace(\">\",\" > \")\n",
    "    newstring = newstring.replace(\"~\",\" ~ \")\n",
    "    newstring = newstring.replace(\"`\",\" ` \")\n",
    "    newstring = newstring.replace(\":\",\" : \")\n",
    "    newstring = newstring.replace(\";\",\" ; \")\n",
    "    newstring = newstring.replace(\"|\",\" | \")\n",
    "    newstring = newstring.replace(\"\\\\\",\" \\\\ \")\n",
    "    newstring = newstring.replace(\"/\",\" / \")\n",
    "    return newstring"
   ]
  },
  {
   "cell_type": "code",
   "execution_count": 72,
   "metadata": {
    "collapsed": true
   },
   "outputs": [],
   "source": [
    "def seperatePunct2(incomingString):\n",
    "    outstr = ''\n",
    "    characters = set(['!','@','#','$',\"%\",\"^\",\"&\",\"*\",\":\",\"\\\\\",\n",
    "                  \"(\",\")\",\"+\",\"=\",\"?\",\"\\'\",\"\\\"\",\";\",\"/\",\n",
    "                  \"{\",\"}\",\"[\",\"]\",\"<\",\">\",\"~\",\"`\",\"|\"])\n",
    "    \n",
    "    for char in incomingString:\n",
    "        if char in characters:\n",
    "            outstr = outstr + ' ' + char + ' '\n",
    "        else:\n",
    "            outstr = outstr + char\n",
    "            \n",
    "    return outstr"
   ]
  },
  {
   "cell_type": "code",
   "execution_count": 76,
   "metadata": {
    "collapsed": false
   },
   "outputs": [
    {
     "name": "stdout",
     "output_type": "stream",
     "text": [
      "['dsfj', '\"', 'kfl']\n",
      "\n",
      "['', '\"', 'lsfkd']\n",
      "\n",
      "['fldsjfk', '\"', '']\n",
      "\n",
      "['lsfjdksf', '\"', '', '\"', 'fjdslf']\n",
      "\n",
      "['', '\"', 'lsfkd']\n",
      "\n",
      "['fldsjfk', '\"', '']\n",
      "\n",
      "['dsfj', '\"', 'kfl', '', '\"', 'lsfkd', 'fldsjfk', '\"', '', 'lsfjdksf', '\"', '', '\"', 'fjdslf', '', '', '\"', 'lsfkd', 'fldsjfk', '\"', '']\n",
      "\n"
     ]
    }
   ],
   "source": [
    "cases = ['dsfj\"kfl', '\"lsfkd','fldsjfk\"','lsfjdksf\"\"fjdslf', '\"lsfkd','fldsjfk\"', \n",
    "        'dsfj\"kfl \"lsfkd fldsjfk\" lsfjdksf\"\"fjdslf  \"lsfkd fldsjfk\"',]\n",
    "\n",
    "for case in cases:\n",
    "    print seperatePunct2(case).split(' ')\n",
    "    print \"\""
   ]
  },
  {
   "cell_type": "code",
   "execution_count": null,
   "metadata": {
    "collapsed": true
   },
   "outputs": [],
   "source": []
  }
 ],
 "metadata": {
  "kernelspec": {
   "display_name": "Python [Root]",
   "language": "python",
   "name": "Python [Root]"
  },
  "language_info": {
   "codemirror_mode": {
    "name": "ipython",
    "version": 2
   },
   "file_extension": ".py",
   "mimetype": "text/x-python",
   "name": "python",
   "nbconvert_exporter": "python",
   "pygments_lexer": "ipython2",
   "version": "2.7.11"
  }
 },
 "nbformat": 4,
 "nbformat_minor": 0
}
