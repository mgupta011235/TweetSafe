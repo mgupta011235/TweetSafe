{
 "cells": [
  {
   "cell_type": "code",
   "execution_count": 16,
   "metadata": {
    "collapsed": false
   },
   "outputs": [],
   "source": [
    "from sklearn.feature_extraction.text import TfidfVectorizer\n",
    "import xgboost as xgb\n",
    "import cPickle as pickle\n",
    "from string import punctuation\n",
    "from nltk import word_tokenize\n",
    "from nltk.stem import snowball\n",
    "import numpy as np\n",
    "import pandas as pd\n",
    "import matplotlib.pyplot as plt\n",
    "from nltk.tokenize import PunktSentenceTokenizer\n",
    "import time\n",
    "import seaborn as sb\n",
    "%matplotlib inline\n",
    "\n",
    "\n",
    "stemmer = snowball.SnowballStemmer(\"english\")"
   ]
  },
  {
   "cell_type": "code",
   "execution_count": 2,
   "metadata": {
    "collapsed": true
   },
   "outputs": [],
   "source": [
    "def load_data(filename):\n",
    "    '''\n",
    "    Load data into a data frame for use in running model\n",
    "    '''\n",
    "    return pickle.load(open(filename, 'rb'))\n",
    "\n",
    "\n",
    "def stem_tokens(tokens, stemmer):\n",
    "    '''Stem the tokens.'''\n",
    "    stemmed = []\n",
    "    for item in tokens:\n",
    "        stemmed.append(stemmer.stem(item))\n",
    "    return stemmed\n",
    "\n",
    "\n",
    "def OHStokenize(text):\n",
    "    '''Tokenize & stem. Stems automatically for now.\n",
    "    Leaving \"stemmer\" out of function call, so it works with TfidfVectorizer'''\n",
    "    tokens = word_tokenize(text)\n",
    "    stems = stem_tokens(tokens, stemmer)\n",
    "    return stems"
   ]
  },
  {
   "cell_type": "code",
   "execution_count": 3,
   "metadata": {
    "collapsed": true
   },
   "outputs": [],
   "source": [
    "fscorepath = '../../data/f1_score_dataframe.csv'\n",
    "resultspath = '../../data/twitter_cross_val_xgboost_results.csv'"
   ]
  },
  {
   "cell_type": "code",
   "execution_count": 4,
   "metadata": {
    "collapsed": false
   },
   "outputs": [
    {
     "name": "stderr",
     "output_type": "stream",
     "text": [
      "/home/mgupta/anaconda2/lib/python2.7/site-packages/sklearn/base.py:315: UserWarning: Trying to unpickle estimator TfidfTransformer from version pre-0.18 when using version 0.18. This might lead to breaking code or invalid results. Use at your own risk.\n",
      "  UserWarning)\n",
      "/home/mgupta/anaconda2/lib/python2.7/site-packages/sklearn/base.py:315: UserWarning: Trying to unpickle estimator TfidfVectorizer from version pre-0.18 when using version 0.18. This might lead to breaking code or invalid results. Use at your own risk.\n",
      "  UserWarning)\n"
     ]
    }
   ],
   "source": [
    "vect = pickle.load(open('../../xgb_models/xgbfinal4/vect.p', 'rb'))"
   ]
  },
  {
   "cell_type": "code",
   "execution_count": 5,
   "metadata": {
    "collapsed": false
   },
   "outputs": [],
   "source": [
    "vocab = vect.get_feature_names()"
   ]
  },
  {
   "cell_type": "code",
   "execution_count": 6,
   "metadata": {
    "collapsed": false
   },
   "outputs": [
    {
     "data": {
      "text/plain": [
       "u'fat'"
      ]
     },
     "execution_count": 6,
     "metadata": {},
     "output_type": "execute_result"
    }
   ],
   "source": [
    "vocab[273851]"
   ]
  },
  {
   "cell_type": "code",
   "execution_count": 7,
   "metadata": {
    "collapsed": true
   },
   "outputs": [],
   "source": [
    "dfscore = pd.read_csv(fscorepath)\n",
    "dresults = pd.read_csv(resultspath)"
   ]
  },
  {
   "cell_type": "code",
   "execution_count": 8,
   "metadata": {
    "collapsed": false
   },
   "outputs": [
    {
     "name": "stderr",
     "output_type": "stream",
     "text": [
      "/home/mgupta/anaconda2/lib/python2.7/site-packages/ipykernel/__main__.py:1: FutureWarning: sort(columns=....) is deprecated, use sort_values(by=.....)\n",
      "  if __name__ == '__main__':\n"
     ]
    },
    {
     "data": {
      "text/plain": [
       "<matplotlib.text.Text at 0x7f00d7befe90>"
      ]
     },
     "execution_count": 8,
     "metadata": {},
     "output_type": "execute_result"
    },
    {
     "data": {
      "image/png": "[encoded data removed]",
      "text/plain": [
       "<matplotlib.figure.Figure at 0x7f0125d9fe90>"
      ]
     },
     "metadata": {},
     "output_type": "display_data"
    }
   ],
   "source": [
    "dfscore = dfscore.sort('f1_score',ascending=False)\n",
    "dfscore[:20].plot(kind='barh')\n",
    "plt.xlabel(\"F1 Score\")\n",
    "plt.ylabel(\"Features\")\n",
    "plt.title(\"Feature Importances\")"
   ]
  },
  {
   "cell_type": "code",
   "execution_count": 20,
   "metadata": {
    "collapsed": false
   },
   "outputs": [
    {
     "data": {
      "text/html": [
       "<div>\n",
       "<table border=\"1\" class=\"dataframe\">\n",
       "  <thead>\n",
       "    <tr style=\"text-align: right;\">\n",
       "      <th></th>\n",
       "      <th>Unnamed: 0</th>\n",
       "      <th>f1_score</th>\n",
       "    </tr>\n",
       "  </thead>\n",
       "  <tbody>\n",
       "    <tr>\n",
       "      <th>642</th>\n",
       "      <td>f273851</td>\n",
       "      <td>77</td>\n",
       "    </tr>\n",
       "    <tr>\n",
       "      <th>541</th>\n",
       "      <td>f27584</td>\n",
       "      <td>55</td>\n",
       "    </tr>\n",
       "    <tr>\n",
       "      <th>121</th>\n",
       "      <td>f24667</td>\n",
       "      <td>52</td>\n",
       "    </tr>\n",
       "    <tr>\n",
       "      <th>155</th>\n",
       "      <td>f287435</td>\n",
       "      <td>47</td>\n",
       "    </tr>\n",
       "    <tr>\n",
       "      <th>331</th>\n",
       "      <td>f516816</td>\n",
       "      <td>30</td>\n",
       "    </tr>\n",
       "    <tr>\n",
       "      <th>357</th>\n",
       "      <td>f369474</td>\n",
       "      <td>28</td>\n",
       "    </tr>\n",
       "    <tr>\n",
       "      <th>78</th>\n",
       "      <td>f284867</td>\n",
       "      <td>27</td>\n",
       "    </tr>\n",
       "    <tr>\n",
       "      <th>244</th>\n",
       "      <td>f374639</td>\n",
       "      <td>23</td>\n",
       "    </tr>\n",
       "    <tr>\n",
       "      <th>291</th>\n",
       "      <td>f513901</td>\n",
       "      <td>23</td>\n",
       "    </tr>\n",
       "    <tr>\n",
       "      <th>437</th>\n",
       "      <td>f290982</td>\n",
       "      <td>23</td>\n",
       "    </tr>\n",
       "  </tbody>\n",
       "</table>\n",
       "</div>"
      ],
      "text/plain": [
       "    Unnamed: 0  f1_score\n",
       "642    f273851        77\n",
       "541     f27584        55\n",
       "121     f24667        52\n",
       "155    f287435        47\n",
       "331    f516816        30\n",
       "357    f369474        28\n",
       "78     f284867        27\n",
       "244    f374639        23\n",
       "291    f513901        23\n",
       "437    f290982        23"
      ]
     },
     "execution_count": 20,
     "metadata": {},
     "output_type": "execute_result"
    }
   ],
   "source": [
    "dfscore[:10]"
   ]
  },
  {
   "cell_type": "code",
   "execution_count": 10,
   "metadata": {
    "collapsed": false
   },
   "outputs": [
    {
     "data": {
      "text/plain": [
       "[<matplotlib.lines.Line2D at 0x7f140640a350>]"
      ]
     },
     "execution_count": 10,
     "metadata": {},
     "output_type": "execute_result"
    },
    {
     "data": {
      "image/png": "[encoded data removed]",
      "text/plain": [
       "<matplotlib.figure.Figure at 0x7f140a171dd0>"
      ]
     },
     "metadata": {},
     "output_type": "display_data"
    }
   ],
   "source": [
    "plt.plot(dfscore['f1_score'],'*')"
   ]
  },
  {
   "cell_type": "code",
   "execution_count": 10,
   "metadata": {
    "collapsed": false
   },
   "outputs": [
    {
     "name": "stdout",
     "output_type": "stream",
     "text": [
      "[77, 55, 52, 47, 30, 28, 27, 23, 23, 23]\n",
      "[u'fat', u'.', u',', u'game', u'women', u\"n't\", u'fuck', u'gg', u'white', u'nigger']\n"
     ]
    }
   ],
   "source": [
    "vals = []\n",
    "features = []\n",
    "numfeatures = 10\n",
    "df = dfscore[:numfeatures]\n",
    "df.reset_index(inplace=True)\n",
    "\n",
    "for row in xrange(numfeatures):\n",
    "    vals.append(df.ix[row]['f1_score'])\n",
    "    features.append(vocab[int(df.ix[row]['Unnamed: 0'][1:])])\n",
    "    \n",
    "print vals\n",
    "print features\n",
    "    "
   ]
  },
  {
   "cell_type": "code",
   "execution_count": 11,
   "metadata": {
    "collapsed": false
   },
   "outputs": [],
   "source": [
    "def myfunc(x):\n",
    "    return str(vocab[int(x[1:])])"
   ]
  },
  {
   "cell_type": "code",
   "execution_count": 12,
   "metadata": {
    "collapsed": false
   },
   "outputs": [],
   "source": [
    "dfscore['token'] = dfscore['Unnamed: 0'].map(lambda x: myfunc(x))"
   ]
  },
  {
   "cell_type": "code",
   "execution_count": 13,
   "metadata": {
    "collapsed": false
   },
   "outputs": [
    {
     "data": {
      "text/html": [
       "<div>\n",
       "<table border=\"1\" class=\"dataframe\">\n",
       "  <thead>\n",
       "    <tr style=\"text-align: right;\">\n",
       "      <th></th>\n",
       "      <th>Unnamed: 0</th>\n",
       "      <th>f1_score</th>\n",
       "      <th>token</th>\n",
       "    </tr>\n",
       "  </thead>\n",
       "  <tbody>\n",
       "    <tr>\n",
       "      <th>642</th>\n",
       "      <td>f273851</td>\n",
       "      <td>77</td>\n",
       "      <td>fat</td>\n",
       "    </tr>\n",
       "    <tr>\n",
       "      <th>541</th>\n",
       "      <td>f27584</td>\n",
       "      <td>55</td>\n",
       "      <td>.</td>\n",
       "    </tr>\n",
       "    <tr>\n",
       "      <th>121</th>\n",
       "      <td>f24667</td>\n",
       "      <td>52</td>\n",
       "      <td>,</td>\n",
       "    </tr>\n",
       "    <tr>\n",
       "      <th>155</th>\n",
       "      <td>f287435</td>\n",
       "      <td>47</td>\n",
       "      <td>game</td>\n",
       "    </tr>\n",
       "    <tr>\n",
       "      <th>331</th>\n",
       "      <td>f516816</td>\n",
       "      <td>30</td>\n",
       "      <td>women</td>\n",
       "    </tr>\n",
       "    <tr>\n",
       "      <th>357</th>\n",
       "      <td>f369474</td>\n",
       "      <td>28</td>\n",
       "      <td>n't</td>\n",
       "    </tr>\n",
       "    <tr>\n",
       "      <th>78</th>\n",
       "      <td>f284867</td>\n",
       "      <td>27</td>\n",
       "      <td>fuck</td>\n",
       "    </tr>\n",
       "    <tr>\n",
       "      <th>437</th>\n",
       "      <td>f290982</td>\n",
       "      <td>23</td>\n",
       "      <td>gg</td>\n",
       "    </tr>\n",
       "    <tr>\n",
       "      <th>291</th>\n",
       "      <td>f513901</td>\n",
       "      <td>23</td>\n",
       "      <td>white</td>\n",
       "    </tr>\n",
       "    <tr>\n",
       "      <th>244</th>\n",
       "      <td>f374639</td>\n",
       "      <td>23</td>\n",
       "      <td>nigger</td>\n",
       "    </tr>\n",
       "    <tr>\n",
       "      <th>12</th>\n",
       "      <td>f274789</td>\n",
       "      <td>21</td>\n",
       "      <td>fatti</td>\n",
       "    </tr>\n",
       "    <tr>\n",
       "      <th>581</th>\n",
       "      <td>f396732</td>\n",
       "      <td>20</td>\n",
       "      <td>peopl</td>\n",
       "    </tr>\n",
       "    <tr>\n",
       "      <th>619</th>\n",
       "      <td>f357155</td>\n",
       "      <td>18</td>\n",
       "      <td>men</td>\n",
       "    </tr>\n",
       "    <tr>\n",
       "      <th>547</th>\n",
       "      <td>f208200</td>\n",
       "      <td>18</td>\n",
       "      <td>black</td>\n",
       "    </tr>\n",
       "    <tr>\n",
       "      <th>66</th>\n",
       "      <td>f511721</td>\n",
       "      <td>17</td>\n",
       "      <td>weight</td>\n",
       "    </tr>\n",
       "    <tr>\n",
       "      <th>661</th>\n",
       "      <td>f287679</td>\n",
       "      <td>17</td>\n",
       "      <td>gamerg</td>\n",
       "    </tr>\n",
       "    <tr>\n",
       "      <th>60</th>\n",
       "      <td>f276298</td>\n",
       "      <td>16</td>\n",
       "      <td>femin</td>\n",
       "    </tr>\n",
       "    <tr>\n",
       "      <th>158</th>\n",
       "      <td>f276419</td>\n",
       "      <td>15</td>\n",
       "      <td>feminist</td>\n",
       "    </tr>\n",
       "    <tr>\n",
       "      <th>257</th>\n",
       "      <td>f259888</td>\n",
       "      <td>14</td>\n",
       "      <td>eat</td>\n",
       "    </tr>\n",
       "    <tr>\n",
       "      <th>252</th>\n",
       "      <td>f423386</td>\n",
       "      <td>14</td>\n",
       "      <td>reddit</td>\n",
       "    </tr>\n",
       "  </tbody>\n",
       "</table>\n",
       "</div>"
      ],
      "text/plain": [
       "    Unnamed: 0  f1_score     token\n",
       "642    f273851        77       fat\n",
       "541     f27584        55         .\n",
       "121     f24667        52         ,\n",
       "155    f287435        47      game\n",
       "331    f516816        30     women\n",
       "357    f369474        28       n't\n",
       "78     f284867        27      fuck\n",
       "437    f290982        23        gg\n",
       "291    f513901        23     white\n",
       "244    f374639        23    nigger\n",
       "12     f274789        21     fatti\n",
       "581    f396732        20     peopl\n",
       "619    f357155        18       men\n",
       "547    f208200        18     black\n",
       "66     f511721        17    weight\n",
       "661    f287679        17    gamerg\n",
       "60     f276298        16     femin\n",
       "158    f276419        15  feminist\n",
       "257    f259888        14       eat\n",
       "252    f423386        14    reddit"
      ]
     },
     "execution_count": 13,
     "metadata": {},
     "output_type": "execute_result"
    }
   ],
   "source": [
    "dfscore.head(20)"
   ]
  },
  {
   "cell_type": "code",
   "execution_count": 14,
   "metadata": {
    "collapsed": true
   },
   "outputs": [],
   "source": [
    "dfscore.index = dfscore['token']"
   ]
  },
  {
   "cell_type": "code",
   "execution_count": 21,
   "metadata": {
    "collapsed": false
   },
   "outputs": [
    {
     "data": {
      "image/png": "[encoded data removed]",
      "text/plain": [
       "<matplotlib.figure.Figure at 0x7f00d6841ed0>"
      ]
     },
     "metadata": {},
     "output_type": "display_data"
    }
   ],
   "source": [
    "dfscore[:20].plot(kind='barh',legend=False,)\n",
    "plt.xlabel(\"F1 Score\")\n",
    "plt.ylabel(\"Features\")\n",
    "plt.title(\"TF-IDF Feature Importances\")\n",
    "plt.gca().invert_yaxis()\n",
    "plt.savefig('Feature_Importance.jpg')"
   ]
  },
  {
   "cell_type": "code",
   "execution_count": 66,
   "metadata": {
    "collapsed": true
   },
   "outputs": [],
   "source": [
    "# dfscore.to_csv(fscorepath)"
   ]
  },
  {
   "cell_type": "code",
   "execution_count": 13,
   "metadata": {
    "collapsed": false
   },
   "outputs": [
    {
     "data": {
      "text/html": [
       "<div>\n",
       "<table border=\"1\" class=\"dataframe\">\n",
       "  <thead>\n",
       "    <tr style=\"text-align: right;\">\n",
       "      <th></th>\n",
       "      <th>Unnamed: 0</th>\n",
       "      <th>Unnamed: 0.1</th>\n",
       "      <th>tweet_text</th>\n",
       "      <th>label</th>\n",
       "      <th>xgboost_predict</th>\n",
       "    </tr>\n",
       "  </thead>\n",
       "  <tbody>\n",
       "    <tr>\n",
       "      <th>0</th>\n",
       "      <td>0</td>\n",
       "      <td>12168</td>\n",
       "      <td>I love how Jayden acts like we have no right t...</td>\n",
       "      <td>1</td>\n",
       "      <td>0.409886</td>\n",
       "    </tr>\n",
       "    <tr>\n",
       "      <th>1</th>\n",
       "      <td>1</td>\n",
       "      <td>13497</td>\n",
       "      <td>I been POPPIN since kindergarten nigga you a l...</td>\n",
       "      <td>1</td>\n",
       "      <td>0.509634</td>\n",
       "    </tr>\n",
       "    <tr>\n",
       "      <th>2</th>\n",
       "      <td>2</td>\n",
       "      <td>10058</td>\n",
       "      <td>Like a real life mean person could make you cr...</td>\n",
       "      <td>0</td>\n",
       "      <td>0.329897</td>\n",
       "    </tr>\n",
       "    <tr>\n",
       "      <th>3</th>\n",
       "      <td>3</td>\n",
       "      <td>4559</td>\n",
       "      <td>Which fags are getting down and tributing Xmas...</td>\n",
       "      <td>1</td>\n",
       "      <td>0.527562</td>\n",
       "    </tr>\n",
       "    <tr>\n",
       "      <th>4</th>\n",
       "      <td>4</td>\n",
       "      <td>5514</td>\n",
       "      <td>From last night...my thoughts on J-Up and what...</td>\n",
       "      <td>0</td>\n",
       "      <td>0.339007</td>\n",
       "    </tr>\n",
       "  </tbody>\n",
       "</table>\n",
       "</div>"
      ],
      "text/plain": [
       "   Unnamed: 0  Unnamed: 0.1  \\\n",
       "0           0         12168   \n",
       "1           1         13497   \n",
       "2           2         10058   \n",
       "3           3          4559   \n",
       "4           4          5514   \n",
       "\n",
       "                                          tweet_text  label  xgboost_predict  \n",
       "0  I love how Jayden acts like we have no right t...      1         0.409886  \n",
       "1  I been POPPIN since kindergarten nigga you a l...      1         0.509634  \n",
       "2  Like a real life mean person could make you cr...      0         0.329897  \n",
       "3  Which fags are getting down and tributing Xmas...      1         0.527562  \n",
       "4  From last night...my thoughts on J-Up and what...      0         0.339007  "
      ]
     },
     "execution_count": 13,
     "metadata": {},
     "output_type": "execute_result"
    }
   ],
   "source": [
    "dresults.head()"
   ]
  },
  {
   "cell_type": "code",
   "execution_count": 22,
   "metadata": {
    "collapsed": false
   },
   "outputs": [
    {
     "data": {
      "image/png": "[encoded data removed]",
      "text/plain": [
       "<matplotlib.figure.Figure at 0x7f00d8037810>"
      ]
     },
     "metadata": {},
     "output_type": "display_data"
    }
   ],
   "source": [
    "labels = dresults['label'].values\n",
    "TPR = []\n",
    "FPR = []\n",
    "\n",
    "for i in xrange(101):\n",
    "    threshold = i/100.0\n",
    "    predict = dresults['xgboost_predict'].values >= threshold\n",
    "    \n",
    "    TP = sum(predict+labels==2)\n",
    "    TN = sum(predict+labels==0)\n",
    "    FP = sum(predict-labels==1)\n",
    "    FN = sum(predict-labels==-1)\n",
    "    \n",
    "#     print \"accuracy: {} | threshold {}\".format((TP+TN)/float(len(labels)),threshold)\n",
    "    \n",
    "    TPR.append(TP/float(TP+FN))\n",
    "    FPR.append(FP/float(FP+TN))\n",
    "    \n",
    "plt.plot(FPR,TPR,'r',linewidth=2)\n",
    "plt.xlabel('False Positive Rate')\n",
    "plt.xlim([0,1])\n",
    "plt.ylabel('True Positive Rate')\n",
    "plt.ylim([0,1])\n",
    "titlestr = \"TF-IDF ROC Curve\".format(np.trapz(TPR[::-1],x=FPR[::-1]))\n",
    "plt.title(titlestr)  \n",
    "plt.savefig('TFIDFROC.jpg')"
   ]
  },
  {
   "cell_type": "code",
   "execution_count": null,
   "metadata": {
    "collapsed": true
   },
   "outputs": [],
   "source": []
  }
 ],
 "metadata": {
  "kernelspec": {
   "display_name": "Python [Root]",
   "language": "python",
   "name": "Python [Root]"
  },
  "language_info": {
   "codemirror_mode": {
    "name": "ipython",
    "version": 2
   },
   "file_extension": ".py",
   "mimetype": "text/x-python",
   "name": "python",
   "nbconvert_exporter": "python",
   "pygments_lexer": "ipython2",
   "version": "2.7.11"
  }
 },
 "nbformat": 4,
 "nbformat_minor": 0
}
