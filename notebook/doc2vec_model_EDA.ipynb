{
 "cells": [
  {
   "cell_type": "code",
   "execution_count": 14,
   "metadata": {
    "collapsed": false
   },
   "outputs": [],
   "source": [
    "import gensim\n",
    "import pandas as pd\n",
    "import random\n",
    "import numpy as np\n",
    "import matplotlib.pyplot as plt\n",
    "import cPickle as pickle\n",
    "from scipy.spatial.distance import cosine\n",
    "from nltk.tokenize import PunktSentenceTokenizer"
   ]
  },
  {
   "cell_type": "code",
   "execution_count": 2,
   "metadata": {
    "collapsed": true
   },
   "outputs": [],
   "source": [
    "def seperatePunct(incomingString):\n",
    "    newstring = incomingString\n",
    "    newstring = newstring.replace(\"!\",\" ! \")\n",
    "    newstring = newstring.replace(\"@\",\" @ \")\n",
    "    newstring = newstring.replace(\"#\",\" # \")\n",
    "    newstring = newstring.replace(\"$\",\" $ \")\n",
    "    newstring = newstring.replace(\"%\",\" % \")\n",
    "    newstring = newstring.replace(\"^\",\" ^ \")\n",
    "    newstring = newstring.replace(\"&\",\" & \")\n",
    "    newstring = newstring.replace(\"*\",\" * \")\n",
    "    newstring = newstring.replace(\"(\",\" ( \")\n",
    "    newstring = newstring.replace(\")\",\" ) \")\n",
    "    newstring = newstring.replace(\"+\",\" + \")\n",
    "    newstring = newstring.replace(\"=\",\" = \")\n",
    "    newstring = newstring.replace(\"?\",\" ? \")\n",
    "    newstring = newstring.replace(\"\\'\",\" \\' \")\n",
    "    newstring = newstring.replace(\"\\\"\",\" \\\" \")\n",
    "    newstring = newstring.replace(\"{\",\" { \")\n",
    "    newstring = newstring.replace(\"}\",\" } \")\n",
    "    newstring = newstring.replace(\"[\",\" [ \")\n",
    "    newstring = newstring.replace(\"]\",\" ] \")\n",
    "    newstring = newstring.replace(\"<\",\" < \")\n",
    "    newstring = newstring.replace(\">\",\" > \")\n",
    "    newstring = newstring.replace(\"~\",\" ~ \")\n",
    "    newstring = newstring.replace(\"`\",\" ` \")\n",
    "    newstring = newstring.replace(\":\",\" : \")\n",
    "    newstring = newstring.replace(\";\",\" ; \")\n",
    "    newstring = newstring.replace(\"|\",\" | \")\n",
    "    newstring = newstring.replace(\"\\\\\",\" \\\\ \")\n",
    "    newstring = newstring.replace(\"/\",\" / \")\n",
    "    return newstring\n",
    "\n",
    "def hasNumbers(inputString):\n",
    "     return any(char.isdigit() for char in inputString)\n",
    "\n",
    "def text_cleaner(wordList):\n",
    "    '''\n",
    "    INPUT: List of words to be tokenized\n",
    "    OUTPUT: List of tokenized words\n",
    "    '''\n",
    "\n",
    "    tokenziedList = []\n",
    "\n",
    "    for word in wordList:\n",
    "\n",
    "        #remove these substrings from the word\n",
    "        word = word.replace('[deleted]','')\n",
    "        word = word.replace('&gt','')\n",
    "\n",
    "        #if link, replace with linktag\n",
    "        if 'http://' in word:\n",
    "            tokenziedList.append('LINK_TAG')\n",
    "            continue\n",
    "\n",
    "        #if reference to subreddit, replace with reddittag\n",
    "        if '/r/' in word:\n",
    "            tokenziedList.append('SUBREDDIT_TAG')\n",
    "            continue\n",
    "\n",
    "        #if reference to reddit user, replace with usertag\n",
    "        if '/u/' in word:\n",
    "            tokenziedList.append('USER_TAG')\n",
    "            continue\n",
    "\n",
    "        #if number, replace with numtag\n",
    "        #m8 is a word, 5'10\" and 54-59, 56:48 are numbers\n",
    "        if hasNumbers(word) and not any(char.isalpha() for char in word):\n",
    "            tokenziedList.append('NUM_TAG')\n",
    "            continue\n",
    "\n",
    "        #seperate puncuations and add to tokenizedList\n",
    "        newwords = seperatePunct(word).split(\" \")\n",
    "        tokenziedList.extend(newwords)\n",
    "\n",
    "    return tokenziedList\n",
    "\n",
    "def mytokenizer(comment):\n",
    "    '''\n",
    "    Input: takes in a reddit comment as a str or unicode and tokenizes it\n",
    "    Output: a tokenized list\n",
    "    '''\n",
    "    tokenizer = PunktSentenceTokenizer()\n",
    "    sentenceList = tokenizer.tokenize(comment)\n",
    "    wordList = []\n",
    "    for sentence in sentenceList:\n",
    "        wordList.extend(sentence.split(\" \"))\n",
    "\n",
    "    return text_cleaner(wordList)"
   ]
  },
  {
   "cell_type": "code",
   "execution_count": 3,
   "metadata": {
    "collapsed": true
   },
   "outputs": [],
   "source": [
    "path1 = '../../data/labeledRedditComments.p'\n",
    "path2 = '../../data/twitter-hate-speech-classifier.csv'\n",
    "path3 = '../../data/RedditMay2015Comments.sqlite'"
   ]
  },
  {
   "cell_type": "code",
   "execution_count": 4,
   "metadata": {
    "collapsed": true
   },
   "outputs": [],
   "source": [
    "df = pickle.load(open(path1, 'rb'))\n"
   ]
  },
  {
   "cell_type": "code",
   "execution_count": 39,
   "metadata": {
    "collapsed": true
   },
   "outputs": [],
   "source": [
    "    # List of not hateful subreddits\n",
    "final_nothate_srs = ['politics', 'worldnews', 'history', 'blackladies', 'lgbt',\n",
    "                     'TransSpace', 'women', 'TwoXChromosomes', 'DebateReligion',\n",
    "                     'religion', 'islam', 'Judaism', 'BodyAcceptance', 'fatlogic'\n",
    "                     'gaybros','AskMen','AskWomen']\n",
    "    # List of hateful subreddits\n",
    "final_hateful_srs = ['CoonTown', 'WhiteRights', 'Trans_fags', 'SlutJustice',\n",
    "                     'TheRedPill', 'KotakuInAction', 'IslamUnveiled', 'GasTheKikes',\n",
    "                     'AntiPOZi', 'fatpeoplehate', 'TalesofFatHate','hamplanethatred'\n",
    "                     'shitniggerssay','neofag','altright']"
   ]
  },
  {
   "cell_type": "code",
   "execution_count": 40,
   "metadata": {
    "collapsed": false
   },
   "outputs": [
    {
     "data": {
      "text/plain": [
       "['CoonTown',\n",
       " 'WhiteRights',\n",
       " 'Trans_fags',\n",
       " 'SlutJustice',\n",
       " 'TheRedPill',\n",
       " 'KotakuInAction',\n",
       " 'IslamUnveiled',\n",
       " 'GasTheKikes',\n",
       " 'AntiPOZi',\n",
       " 'fatpeoplehate',\n",
       " 'TalesofFatHate',\n",
       " 'hamplanethatredshitniggerssay',\n",
       " 'neofag',\n",
       " 'altright']"
      ]
     },
     "execution_count": 40,
     "metadata": {},
     "output_type": "execute_result"
    }
   ],
   "source": [
    "final_hateful_srs"
   ]
  },
  {
   "cell_type": "code",
   "execution_count": 42,
   "metadata": {
    "collapsed": false
   },
   "outputs": [
    {
     "data": {
      "text/plain": [
       "worldnews          490354\n",
       "fatpeoplehate      311183\n",
       "politics           244927\n",
       "AskMen             138839\n",
       "AskWomen           137889\n",
       "KotakuInAction     128156\n",
       "TwoXChromosomes    105130\n",
       "TheRedPill          59145\n",
       "CoonTown            51979\n",
       "DebateReligion      41015\n",
       "islam               25443\n",
       "history             25242\n",
       "Judaism              9103\n",
       "lgbt                 8253\n",
       "TalesofFatHate       5239\n",
       "AntiPOZi             4740\n",
       "blackladies          4396\n",
       "religion             2623\n",
       "Trans_fags           2362\n",
       "WhiteRights          1352\n",
       "GasTheKikes           919\n",
       "BodyAcceptance        579\n",
       "women                 529\n",
       "TransSpace            472\n",
       "SlutJustice           309\n",
       "IslamUnveiled         110\n",
       "Name: subreddit, dtype: int64"
      ]
     },
     "execution_count": 42,
     "metadata": {},
     "output_type": "execute_result"
    }
   ],
   "source": [
    "df['subreddit'].value_counts()"
   ]
  },
  {
   "cell_type": "code",
   "execution_count": 43,
   "metadata": {
    "collapsed": false
   },
   "outputs": [
    {
     "data": {
      "text/plain": [
       "NotHate    1234794\n",
       "Hate        565494\n",
       "Name: label, dtype: int64"
      ]
     },
     "execution_count": 43,
     "metadata": {},
     "output_type": "execute_result"
    }
   ],
   "source": [
    "df['label'].value_counts()"
   ]
  },
  {
   "cell_type": "code",
   "execution_count": 5,
   "metadata": {
    "collapsed": false
   },
   "outputs": [],
   "source": [
    "dfhate = pd.read_csv(path2)"
   ]
  },
  {
   "cell_type": "code",
   "execution_count": 26,
   "metadata": {
    "collapsed": false
   },
   "outputs": [
    {
     "data": {
      "text/html": [
       "<div>\n",
       "<table border=\"1\" class=\"dataframe\">\n",
       "  <thead>\n",
       "    <tr style=\"text-align: right;\">\n",
       "      <th></th>\n",
       "      <th>_unit_id</th>\n",
       "      <th>_golden</th>\n",
       "      <th>_unit_state</th>\n",
       "      <th>_trusted_judgments</th>\n",
       "      <th>_last_judgment_at</th>\n",
       "      <th>does_this_tweet_contain_hate_speech</th>\n",
       "      <th>does_this_tweet_contain_hate_speech:confidence</th>\n",
       "      <th>_created_at</th>\n",
       "      <th>orig__golden</th>\n",
       "      <th>orig__last_judgment_at</th>\n",
       "      <th>orig__trusted_judgments</th>\n",
       "      <th>orig__unit_id</th>\n",
       "      <th>orig__unit_state</th>\n",
       "      <th>_updated_at</th>\n",
       "      <th>orig_does_this_tweet_contain_hate_speech</th>\n",
       "      <th>does_this_tweet_contain_hate_speech_gold</th>\n",
       "      <th>does_this_tweet_contain_hate_speech_gold_reason</th>\n",
       "      <th>does_this_tweet_contain_hate_speechconfidence</th>\n",
       "      <th>tweet_id</th>\n",
       "      <th>tweet_text</th>\n",
       "    </tr>\n",
       "  </thead>\n",
       "  <tbody>\n",
       "    <tr>\n",
       "      <th>0</th>\n",
       "      <td>853718217</td>\n",
       "      <td>True</td>\n",
       "      <td>golden</td>\n",
       "      <td>86</td>\n",
       "      <td>NaN</td>\n",
       "      <td>The tweet uses offensive language but not hate...</td>\n",
       "      <td>0.6013</td>\n",
       "      <td>NaN</td>\n",
       "      <td>True</td>\n",
       "      <td>NaN</td>\n",
       "      <td>0.0</td>\n",
       "      <td>615561535.0</td>\n",
       "      <td>golden</td>\n",
       "      <td>NaN</td>\n",
       "      <td>The tweet contains hate speech</td>\n",
       "      <td>The tweet contains hate speech\\nThe tweet uses...</td>\n",
       "      <td>NaN</td>\n",
       "      <td>1.0</td>\n",
       "      <td>1.666196e+09</td>\n",
       "      <td>Warning: penny boards will make you a faggot</td>\n",
       "    </tr>\n",
       "    <tr>\n",
       "      <th>1</th>\n",
       "      <td>853718218</td>\n",
       "      <td>True</td>\n",
       "      <td>golden</td>\n",
       "      <td>92</td>\n",
       "      <td>NaN</td>\n",
       "      <td>The tweet contains hate speech</td>\n",
       "      <td>0.7227</td>\n",
       "      <td>NaN</td>\n",
       "      <td>True</td>\n",
       "      <td>NaN</td>\n",
       "      <td>0.0</td>\n",
       "      <td>615561723.0</td>\n",
       "      <td>golden</td>\n",
       "      <td>NaN</td>\n",
       "      <td>The tweet contains hate speech</td>\n",
       "      <td>The tweet contains hate speech\\nThe tweet uses...</td>\n",
       "      <td>NaN</td>\n",
       "      <td>1.0</td>\n",
       "      <td>4.295121e+08</td>\n",
       "      <td>Fuck dykes</td>\n",
       "    </tr>\n",
       "    <tr>\n",
       "      <th>2</th>\n",
       "      <td>853718219</td>\n",
       "      <td>True</td>\n",
       "      <td>golden</td>\n",
       "      <td>86</td>\n",
       "      <td>NaN</td>\n",
       "      <td>The tweet contains hate speech</td>\n",
       "      <td>0.5229</td>\n",
       "      <td>NaN</td>\n",
       "      <td>True</td>\n",
       "      <td>NaN</td>\n",
       "      <td>0.0</td>\n",
       "      <td>615562039.0</td>\n",
       "      <td>golden</td>\n",
       "      <td>NaN</td>\n",
       "      <td>The tweet contains hate speech</td>\n",
       "      <td>The tweet contains hate speech\\nThe tweet uses...</td>\n",
       "      <td>NaN</td>\n",
       "      <td>1.0</td>\n",
       "      <td>3.956238e+08</td>\n",
       "      <td>@sizzurp__ @ILIKECATS74 @yoPapi_chulo @brandon...</td>\n",
       "    </tr>\n",
       "    <tr>\n",
       "      <th>3</th>\n",
       "      <td>853718220</td>\n",
       "      <td>True</td>\n",
       "      <td>golden</td>\n",
       "      <td>98</td>\n",
       "      <td>NaN</td>\n",
       "      <td>The tweet contains hate speech</td>\n",
       "      <td>0.5184</td>\n",
       "      <td>NaN</td>\n",
       "      <td>True</td>\n",
       "      <td>NaN</td>\n",
       "      <td>0.0</td>\n",
       "      <td>615562068.0</td>\n",
       "      <td>golden</td>\n",
       "      <td>NaN</td>\n",
       "      <td>The tweet contains hate speech</td>\n",
       "      <td>The tweet contains hate speech\\nThe tweet uses...</td>\n",
       "      <td>NaN</td>\n",
       "      <td>1.0</td>\n",
       "      <td>4.975147e+08</td>\n",
       "      <td>\"@jayswaggkillah: \"@JacklynAnnn: @jayswaggkill...</td>\n",
       "    </tr>\n",
       "    <tr>\n",
       "      <th>4</th>\n",
       "      <td>853718221</td>\n",
       "      <td>True</td>\n",
       "      <td>golden</td>\n",
       "      <td>88</td>\n",
       "      <td>NaN</td>\n",
       "      <td>The tweet uses offensive language but not hate...</td>\n",
       "      <td>0.5185</td>\n",
       "      <td>NaN</td>\n",
       "      <td>True</td>\n",
       "      <td>NaN</td>\n",
       "      <td>0.0</td>\n",
       "      <td>615562488.0</td>\n",
       "      <td>golden</td>\n",
       "      <td>NaN</td>\n",
       "      <td>The tweet contains hate speech</td>\n",
       "      <td>The tweet contains hate speech\\nThe tweet uses...</td>\n",
       "      <td>NaN</td>\n",
       "      <td>1.0</td>\n",
       "      <td>5.889236e+08</td>\n",
       "      <td>@Zhugstubble You heard me bitch but any way I'...</td>\n",
       "    </tr>\n",
       "  </tbody>\n",
       "</table>\n",
       "</div>"
      ],
      "text/plain": [
       "    _unit_id _golden _unit_state  _trusted_judgments _last_judgment_at  \\\n",
       "0  853718217    True      golden                  86               NaN   \n",
       "1  853718218    True      golden                  92               NaN   \n",
       "2  853718219    True      golden                  86               NaN   \n",
       "3  853718220    True      golden                  98               NaN   \n",
       "4  853718221    True      golden                  88               NaN   \n",
       "\n",
       "                 does_this_tweet_contain_hate_speech  \\\n",
       "0  The tweet uses offensive language but not hate...   \n",
       "1                     The tweet contains hate speech   \n",
       "2                     The tweet contains hate speech   \n",
       "3                     The tweet contains hate speech   \n",
       "4  The tweet uses offensive language but not hate...   \n",
       "\n",
       "   does_this_tweet_contain_hate_speech:confidence  _created_at orig__golden  \\\n",
       "0                                          0.6013          NaN         True   \n",
       "1                                          0.7227          NaN         True   \n",
       "2                                          0.5229          NaN         True   \n",
       "3                                          0.5184          NaN         True   \n",
       "4                                          0.5185          NaN         True   \n",
       "\n",
       "   orig__last_judgment_at  orig__trusted_judgments  orig__unit_id  \\\n",
       "0                     NaN                      0.0    615561535.0   \n",
       "1                     NaN                      0.0    615561723.0   \n",
       "2                     NaN                      0.0    615562039.0   \n",
       "3                     NaN                      0.0    615562068.0   \n",
       "4                     NaN                      0.0    615562488.0   \n",
       "\n",
       "  orig__unit_state  _updated_at orig_does_this_tweet_contain_hate_speech  \\\n",
       "0           golden          NaN           The tweet contains hate speech   \n",
       "1           golden          NaN           The tweet contains hate speech   \n",
       "2           golden          NaN           The tweet contains hate speech   \n",
       "3           golden          NaN           The tweet contains hate speech   \n",
       "4           golden          NaN           The tweet contains hate speech   \n",
       "\n",
       "            does_this_tweet_contain_hate_speech_gold  \\\n",
       "0  The tweet contains hate speech\\nThe tweet uses...   \n",
       "1  The tweet contains hate speech\\nThe tweet uses...   \n",
       "2  The tweet contains hate speech\\nThe tweet uses...   \n",
       "3  The tweet contains hate speech\\nThe tweet uses...   \n",
       "4  The tweet contains hate speech\\nThe tweet uses...   \n",
       "\n",
       "   does_this_tweet_contain_hate_speech_gold_reason  \\\n",
       "0                                              NaN   \n",
       "1                                              NaN   \n",
       "2                                              NaN   \n",
       "3                                              NaN   \n",
       "4                                              NaN   \n",
       "\n",
       "   does_this_tweet_contain_hate_speechconfidence      tweet_id  \\\n",
       "0                                            1.0  1.666196e+09   \n",
       "1                                            1.0  4.295121e+08   \n",
       "2                                            1.0  3.956238e+08   \n",
       "3                                            1.0  4.975147e+08   \n",
       "4                                            1.0  5.889236e+08   \n",
       "\n",
       "                                          tweet_text  \n",
       "0       Warning: penny boards will make you a faggot  \n",
       "1                                         Fuck dykes  \n",
       "2  @sizzurp__ @ILIKECATS74 @yoPapi_chulo @brandon...  \n",
       "3  \"@jayswaggkillah: \"@JacklynAnnn: @jayswaggkill...  \n",
       "4  @Zhugstubble You heard me bitch but any way I'...  "
      ]
     },
     "execution_count": 26,
     "metadata": {},
     "output_type": "execute_result"
    }
   ],
   "source": [
    "dfhate.head()"
   ]
  },
  {
   "cell_type": "code",
   "execution_count": 27,
   "metadata": {
    "collapsed": false
   },
   "outputs": [
    {
     "data": {
      "text/plain": [
       "The tweet contains hate speech\\nThe tweet uses offensive language but not hate speech    25\n",
       "The tweet is not offensive                                                               16\n",
       "The tweet uses offensive language but not hate speech                                    13\n",
       "The tweet uses offensive language but not hate speech\\nThe tweet is not offensive         9\n",
       "The tweet contains hate speech                                                            4\n",
       "Name: does_this_tweet_contain_hate_speech_gold, dtype: int64"
      ]
     },
     "execution_count": 27,
     "metadata": {},
     "output_type": "execute_result"
    }
   ],
   "source": [
    "dfhate['does_this_tweet_contain_hate_speech_gold'].value_counts()"
   ]
  },
  {
   "cell_type": "code",
   "execution_count": 29,
   "metadata": {
    "collapsed": false
   },
   "outputs": [
    {
     "data": {
      "text/plain": [
       "The tweet uses offensive language but not hate speech    24\n",
       "The tweet contains hate speech                           22\n",
       "The tweet is not offensive                               21\n",
       "Name: orig_does_this_tweet_contain_hate_speech, dtype: int64"
      ]
     },
     "execution_count": 29,
     "metadata": {},
     "output_type": "execute_result"
    }
   ],
   "source": [
    "dfhate['orig_does_this_tweet_contain_hate_speech'].value_counts()"
   ]
  },
  {
   "cell_type": "code",
   "execution_count": 30,
   "metadata": {
    "collapsed": true
   },
   "outputs": [],
   "source": [
    "def myfunc(x):\n",
    "    if x in ['The tweet is not offensive']:\n",
    "        return 0\n",
    "    else:\n",
    "        return 1\n",
    "    "
   ]
  },
  {
   "cell_type": "code",
   "execution_count": 31,
   "metadata": {
    "collapsed": true
   },
   "outputs": [],
   "source": [
    "dfhate['label'] = dfhate['does_this_tweet_contain_hate_speech'].map(lambda x: myfunc(x))"
   ]
  },
  {
   "cell_type": "code",
   "execution_count": 32,
   "metadata": {
    "collapsed": false
   },
   "outputs": [
    {
     "data": {
      "text/plain": [
       "0    7274\n",
       "1    7235\n",
       "Name: label, dtype: int64"
      ]
     },
     "execution_count": 32,
     "metadata": {},
     "output_type": "execute_result"
    }
   ],
   "source": [
    "dfhate['label'].value_counts()"
   ]
  },
  {
   "cell_type": "code",
   "execution_count": 37,
   "metadata": {
    "collapsed": false
   },
   "outputs": [
    {
     "name": "stdout",
     "output_type": "stream",
     "text": [
      "2\n",
      "1\n",
      "1\n",
      "2\n"
     ]
    }
   ],
   "source": [
    "pre = np.array([1,1,1,0,0,0])\n",
    "tru = np.array([1,0,1,0,1,1])\n",
    "\n",
    "print sum(pre+tru == 2)\n",
    "print sum(pre+tru == 0)\n",
    "print sum(pre-tru == 1)\n",
    "print sum(pre-tru == -1)"
   ]
  },
  {
   "cell_type": "code",
   "execution_count": 33,
   "metadata": {
    "collapsed": true
   },
   "outputs": [],
   "source": [
    "dfhate.to_csv(path2)"
   ]
  },
  {
   "cell_type": "code",
   "execution_count": 25,
   "metadata": {
    "collapsed": false
   },
   "outputs": [
    {
     "data": {
      "text/plain": [
       "The tweet is not offensive                               7274\n",
       "The tweet uses offensive language but not hate speech    4836\n",
       "The tweet contains hate speech                           2399\n",
       "Name: does_this_tweet_contain_hate_speech, dtype: int64"
      ]
     },
     "execution_count": 25,
     "metadata": {},
     "output_type": "execute_result"
    }
   ],
   "source": [
    "dfhate['does_this_tweet_contain_hate_speech'].value_counts()"
   ]
  },
  {
   "cell_type": "code",
   "execution_count": 6,
   "metadata": {
    "collapsed": false
   },
   "outputs": [],
   "source": [
    "model = gensim.models.Doc2Vec.load('base_model_original_tokenizer.doc2vec')"
   ]
  },
  {
   "cell_type": "code",
   "execution_count": 7,
   "metadata": {
    "collapsed": false
   },
   "outputs": [],
   "source": [
    "docvecs = model.docvecs"
   ]
  },
  {
   "cell_type": "code",
   "execution_count": 71,
   "metadata": {
    "collapsed": false
   },
   "outputs": [
    {
     "data": {
      "text/plain": [
       "array([-0.12589121, -0.72398579, -0.13750482,  0.01074985, -0.07752338,\n",
       "        0.13886024, -0.28057936, -0.11339198, -0.02804809,  0.08569955,\n",
       "       -0.82156771, -0.2160503 ,  0.43471047,  0.19683866, -0.42664996,\n",
       "        0.04931739, -0.33742675, -0.73014867, -0.12762018, -0.106265  ,\n",
       "        0.39234036, -0.39817062, -0.14888453, -0.69462979, -0.30694923,\n",
       "       -0.07339818, -0.18055308, -0.64332151,  0.57735366,  1.02309513,\n",
       "       -0.34679177, -0.11108843, -0.05537489,  0.10253237,  0.31550717,\n",
       "        0.52577186,  0.99049211,  0.05952468, -0.47226873, -0.05540276,\n",
       "       -0.26681474, -0.08775025, -0.92837352, -0.13519953, -0.70518291,\n",
       "       -0.20343725, -0.11048806,  0.15157135, -0.44448465,  0.43652859,\n",
       "       -0.14788841, -0.7766152 , -0.3568432 , -0.55862421, -0.61907762,\n",
       "       -0.49959502, -0.00634548, -0.02462127, -0.35062504, -0.07442575,\n",
       "       -0.06620318, -0.2105757 ,  0.03848599,  0.07465713, -0.01480301,\n",
       "        0.0909562 , -0.48590082, -0.48677263, -0.01644286,  0.53316718,\n",
       "        0.19098762, -0.00537689,  0.60375124,  0.61171699,  0.5195058 ,\n",
       "       -0.81575453, -0.17606765, -0.05278037,  0.50832444,  0.81706733,\n",
       "        0.1719389 , -0.13501805, -0.32697934, -0.19407187,  0.50223619,\n",
       "        0.35213116, -0.22106965, -0.04424353,  0.02781259, -0.06127879,\n",
       "       -0.3261008 ,  0.57645082,  0.05099476, -0.12902723, -0.24004243,\n",
       "       -0.17637867, -0.5424065 , -0.7066685 , -0.51928079, -0.39453816,\n",
       "        0.46386182, -0.30387247, -0.29021129, -0.15439314,  0.04698645,\n",
       "        0.54548693, -0.08751345,  0.15773326, -0.4897477 ,  0.00445471,\n",
       "       -0.22462903,  0.27953592,  0.3809576 ,  0.25621074,  0.02975994,\n",
       "       -0.45700687, -0.08916998, -0.32495815, -0.31760514, -0.38044152,\n",
       "       -0.15788171,  0.2868689 , -0.67996204, -0.04327663,  0.44221863,\n",
       "       -0.20513661, -0.15236355,  0.34446013,  0.26793769,  0.15069135,\n",
       "       -0.22732359, -0.56328028,  0.01038246, -0.01748611, -0.14974129,\n",
       "       -0.26700798,  0.13132939, -0.11334003,  0.52558941,  0.20994405,\n",
       "       -0.11825897, -0.38272485,  0.1874278 , -0.13379002,  0.1304699 ,\n",
       "        0.01476961, -0.61739039, -0.25798291, -0.16011603, -0.39652464,\n",
       "       -0.59220809, -0.30506358,  0.14669114, -0.2763429 , -0.51747042,\n",
       "       -0.16309269,  0.03950921,  0.204364  ,  0.55781382, -0.38286638,\n",
       "       -0.54690766, -0.54346794, -0.02820516,  0.0100578 , -0.28775266,\n",
       "        0.13238353,  0.93503314,  0.37181729,  0.05437614,  0.23740833,\n",
       "        0.39891708,  0.94723952, -0.10406715, -0.18395999, -0.00317672,\n",
       "        0.45014599, -0.29661059, -0.33467513,  0.01850334, -0.11797646,\n",
       "        0.08393001,  0.30656683, -0.39040384, -0.50537956, -1.003093  ,\n",
       "       -0.35080022, -0.04855656, -0.75325412,  0.09916819, -0.03518015,\n",
       "        0.11805237,  0.25506198,  0.10420178,  0.11222638, -0.43056545,\n",
       "       -0.30389291,  0.16090877,  0.51357472,  0.32703143, -0.05134602,\n",
       "        0.53110862,  0.61642408,  0.3364757 , -0.04929738,  0.30545914,\n",
       "        0.45064425, -0.02958472,  0.01003539,  0.25594985, -0.12772371,\n",
       "        0.05378566,  0.15690044, -0.19670148, -0.17284095, -0.02730625,\n",
       "       -0.18926087,  0.19283143, -0.31659678,  0.18789057, -0.14049083,\n",
       "        0.16017769, -0.1022848 ,  0.20286475,  0.53479397, -0.02167618,\n",
       "       -0.11878969, -0.07998863,  0.12697545,  0.90858006,  0.31139112,\n",
       "        0.50222713, -0.24131031,  0.3370797 ,  0.39017102, -0.66540205,\n",
       "       -0.47660181, -0.3390246 ,  0.76906717, -0.02450531, -0.22576049,\n",
       "       -0.34447014, -0.5409779 ,  0.24217558, -0.05197965,  0.0607123 ,\n",
       "        0.25163266, -0.48003322,  0.79306233,  0.51902694,  0.42135218,\n",
       "       -0.21480867, -0.23312834, -0.11083728,  0.24889012,  0.40282148,\n",
       "        0.47559056, -0.02321037, -0.49362049, -0.11209472, -0.33152193,\n",
       "        0.19776765, -0.02687917,  0.10523993, -0.41892961, -0.14945576,\n",
       "        0.43507275, -0.33522612, -0.67242497,  0.16731207,  0.24476747,\n",
       "        0.47927377,  0.17116192,  0.45978621,  0.69689423,  0.49695787,\n",
       "       -0.21593295, -0.44263107,  0.16870342,  0.44734085,  0.0122469 ,\n",
       "        0.21210839, -0.64636171,  0.57238775, -0.72735292, -0.00281904,\n",
       "       -0.25434625, -0.15268794,  0.13881858, -0.60550427, -0.10906816,\n",
       "        0.46427441, -0.43058404,  0.1811271 ,  0.22259298,  0.38453677,\n",
       "        0.53926337,  0.1520562 ,  0.0299741 , -0.19964291, -0.73852772], dtype=float32)"
      ]
     },
     "execution_count": 71,
     "metadata": {},
     "output_type": "execute_result"
    }
   ],
   "source": [
    "docvecs[0]"
   ]
  },
  {
   "cell_type": "code",
   "execution_count": 20,
   "metadata": {
    "collapsed": false
   },
   "outputs": [],
   "source": [
    "doctags = docvecs.doctags"
   ]
  },
  {
   "cell_type": "code",
   "execution_count": 22,
   "metadata": {
    "collapsed": false
   },
   "outputs": [
    {
     "data": {
      "text/plain": [
       "[('SlutJustice', Doctag(offset=3, word_count=27446, doc_count=309)),\n",
       " ('AskWomen', Doctag(offset=25, word_count=6480218, doc_count=137889)),\n",
       " ('KotakuInAction', Doctag(offset=5, word_count=6416371, doc_count=128156)),\n",
       " ('blackladies', Doctag(offset=14, word_count=217549, doc_count=4396)),\n",
       " ('TwoXChromosomes', Doctag(offset=18, word_count=5929809, doc_count=105130)),\n",
       " ('politics', Doctag(offset=11, word_count=12084911, doc_count=244927)),\n",
       " ('AntiPOZi', Doctag(offset=8, word_count=221689, doc_count=4740)),\n",
       " ('islam', Doctag(offset=21, word_count=1520313, doc_count=25443)),\n",
       " ('GasTheKikes', Doctag(offset=7, word_count=47158, doc_count=919)),\n",
       " ('BodyAcceptance', Doctag(offset=23, word_count=39993, doc_count=579)),\n",
       " ('DebateReligion', Doctag(offset=19, word_count=3667567, doc_count=41015)),\n",
       " ('religion', Doctag(offset=20, word_count=197943, doc_count=2623)),\n",
       " ('worldnews', Doctag(offset=12, word_count=19291877, doc_count=490354)),\n",
       " ('fatpeoplehate', Doctag(offset=9, word_count=8193219, doc_count=311183)),\n",
       " ('Trans_fags', Doctag(offset=2, word_count=102110, doc_count=2362)),\n",
       " ('Judaism', Doctag(offset=22, word_count=507969, doc_count=9103)),\n",
       " ('IslamUnveiled', Doctag(offset=6, word_count=7542, doc_count=110)),\n",
       " ('lgbt', Doctag(offset=15, word_count=464559, doc_count=8253)),\n",
       " ('WhiteRights', Doctag(offset=1, word_count=59447, doc_count=1352)),\n",
       " ('AskMen', Doctag(offset=24, word_count=6168171, doc_count=138839)),\n",
       " ('women', Doctag(offset=17, word_count=33116, doc_count=529)),\n",
       " ('CoonTown', Doctag(offset=0, word_count=2033220, doc_count=51979)),\n",
       " ('TransSpace', Doctag(offset=16, word_count=18327, doc_count=472)),\n",
       " ('TheRedPill', Doctag(offset=4, word_count=3728901, doc_count=59145)),\n",
       " ('TalesofFatHate', Doctag(offset=10, word_count=178528, doc_count=5239)),\n",
       " ('history', Doctag(offset=13, word_count=1097160, doc_count=25242))]"
      ]
     },
     "execution_count": 22,
     "metadata": {},
     "output_type": "execute_result"
    }
   ],
   "source": [
    "doctags.items()"
   ]
  },
  {
   "cell_type": "code",
   "execution_count": 23,
   "metadata": {
    "collapsed": false
   },
   "outputs": [
    {
     "data": {
      "text/plain": [
       "Doctag(offset=7, word_count=47158, doc_count=919)"
      ]
     },
     "execution_count": 23,
     "metadata": {},
     "output_type": "execute_result"
    }
   ],
   "source": [
    "doctags['GasTheKikes']"
   ]
  },
  {
   "cell_type": "code",
   "execution_count": 33,
   "metadata": {
    "collapsed": false
   },
   "outputs": [
    {
     "data": {
      "text/plain": [
       "3"
      ]
     },
     "execution_count": 33,
     "metadata": {},
     "output_type": "execute_result"
    }
   ],
   "source": [
    "len(doctags['GasTheKikes'])"
   ]
  },
  {
   "cell_type": "code",
   "execution_count": 34,
   "metadata": {
    "collapsed": false
   },
   "outputs": [
    {
     "data": {
      "text/plain": [
       "7"
      ]
     },
     "execution_count": 34,
     "metadata": {},
     "output_type": "execute_result"
    }
   ],
   "source": [
    "doctags['GasTheKikes'][0]"
   ]
  },
  {
   "cell_type": "code",
   "execution_count": 25,
   "metadata": {
    "collapsed": false
   },
   "outputs": [
    {
     "data": {
      "text/plain": [
       "26"
      ]
     },
     "execution_count": 25,
     "metadata": {},
     "output_type": "execute_result"
    }
   ],
   "source": [
    "docvecs.count"
   ]
  },
  {
   "cell_type": "code",
   "execution_count": 26,
   "metadata": {
    "collapsed": false
   },
   "outputs": [
    {
     "data": {
      "text/plain": [
       "gensim.models.doc2vec.DocvecsArray"
      ]
     },
     "execution_count": 26,
     "metadata": {},
     "output_type": "execute_result"
    }
   ],
   "source": [
    "type(docvecs)"
   ]
  },
  {
   "cell_type": "code",
   "execution_count": 28,
   "metadata": {
    "collapsed": false
   },
   "outputs": [
    {
     "data": {
      "text/plain": [
       "numpy.ndarray"
      ]
     },
     "execution_count": 28,
     "metadata": {},
     "output_type": "execute_result"
    }
   ],
   "source": [
    "type(docvecs[0])"
   ]
  },
  {
   "cell_type": "code",
   "execution_count": 31,
   "metadata": {
    "collapsed": false
   },
   "outputs": [
    {
     "data": {
      "text/plain": [
       "300"
      ]
     },
     "execution_count": 31,
     "metadata": {},
     "output_type": "execute_result"
    }
   ],
   "source": [
    "len(docvecs[0])"
   ]
  },
  {
   "cell_type": "code",
   "execution_count": 29,
   "metadata": {
    "collapsed": false
   },
   "outputs": [
    {
     "data": {
      "text/plain": [
       "26"
      ]
     },
     "execution_count": 29,
     "metadata": {},
     "output_type": "execute_result"
    }
   ],
   "source": [
    "len(docvecs)"
   ]
  },
  {
   "cell_type": "code",
   "execution_count": 30,
   "metadata": {
    "collapsed": false
   },
   "outputs": [
    {
     "data": {
      "text/plain": [
       "'CoonTown'"
      ]
     },
     "execution_count": 30,
     "metadata": {},
     "output_type": "execute_result"
    }
   ],
   "source": [
    "docvecs.index_to_doctag(0)"
   ]
  },
  {
   "cell_type": "code",
   "execution_count": 38,
   "metadata": {
    "collapsed": false
   },
   "outputs": [
    {
     "data": {
      "text/plain": [
       "[('BodyAcceptance', 0.21258679032325745),\n",
       " ('WhiteRights', 0.21146908402442932),\n",
       " ('TransSpace', 0.18464726209640503),\n",
       " ('AskMen', 0.16595458984375),\n",
       " ('islam', 0.1570722907781601),\n",
       " ('Judaism', 0.15705253183841705),\n",
       " ('TheRedPill', 0.15415698289871216),\n",
       " ('politics', 0.14485692977905273),\n",
       " ('KotakuInAction', 0.14440138638019562),\n",
       " ('religion', 0.14105652272701263)]"
      ]
     },
     "execution_count": 38,
     "metadata": {},
     "output_type": "execute_result"
    }
   ],
   "source": [
    "docvecs.most_similar(14)"
   ]
  },
  {
   "cell_type": "code",
   "execution_count": 40,
   "metadata": {
    "collapsed": false
   },
   "outputs": [
    {
     "name": "stdout",
     "output_type": "stream",
     "text": [
      "CoonTown\n",
      "('IslamUnveiled', 0.2738789916038513)\n",
      "\n",
      "WhiteRights\n",
      "('GasTheKikes', 0.38529878854751587)\n",
      "\n",
      "Trans_fags\n",
      "('SlutJustice', 0.41643446683883667)\n",
      "\n",
      "SlutJustice\n",
      "('Trans_fags', 0.41643446683883667)\n",
      "\n",
      "TheRedPill\n",
      "('WhiteRights', 0.22930307686328888)\n",
      "\n",
      "KotakuInAction\n",
      "('SlutJustice', 0.19015194475650787)\n",
      "\n",
      "IslamUnveiled\n",
      "('religion', 0.32894909381866455)\n",
      "\n",
      "GasTheKikes\n",
      "('AntiPOZi', 0.39256757497787476)\n",
      "\n",
      "AntiPOZi\n",
      "('GasTheKikes', 0.39256757497787476)\n",
      "\n",
      "fatpeoplehate\n",
      "('BodyAcceptance', 0.22982779145240784)\n",
      "\n",
      "TalesofFatHate\n",
      "('SlutJustice', 0.3041166663169861)\n",
      "\n",
      "politics\n",
      "('TransSpace', 0.26541823148727417)\n",
      "\n",
      "worldnews\n",
      "('IslamUnveiled', 0.22024142742156982)\n",
      "\n",
      "history\n",
      "('IslamUnveiled', 0.25044021010398865)\n",
      "\n",
      "blackladies\n",
      "('BodyAcceptance', 0.21258679032325745)\n",
      "\n",
      "lgbt\n",
      "('TransSpace', 0.33727318048477173)\n",
      "\n",
      "TransSpace\n",
      "('Trans_fags', 0.3732454180717468)\n",
      "\n",
      "women\n",
      "('IslamUnveiled', 0.3218139111995697)\n",
      "\n",
      "TwoXChromosomes\n",
      "('AskWomen', 0.368299663066864)\n",
      "\n",
      "DebateReligion\n",
      "('politics', 0.2580014169216156)\n",
      "\n",
      "religion\n",
      "('IslamUnveiled', 0.32894909381866455)\n",
      "\n",
      "islam\n",
      "('IslamUnveiled', 0.29662537574768066)\n",
      "\n",
      "Judaism\n",
      "('TransSpace', 0.2351522445678711)\n",
      "\n",
      "BodyAcceptance\n",
      "('lgbt', 0.3149873614311218)\n",
      "\n",
      "AskMen\n",
      "('AskWomen', 0.29158464074134827)\n",
      "\n",
      "AskWomen\n",
      "('TwoXChromosomes', 0.3682996928691864)\n",
      "\n"
     ]
    }
   ],
   "source": [
    "for i in xrange(len(docvecs)):\n",
    "    print docvecs.index_to_doctag(i)\n",
    "    print docvecs.most_similar(i)[0]\n",
    "    print \"\""
   ]
  },
  {
   "cell_type": "code",
   "execution_count": 44,
   "metadata": {
    "collapsed": true
   },
   "outputs": [],
   "source": [
    "vocab = model.vocab"
   ]
  },
  {
   "cell_type": "code",
   "execution_count": 48,
   "metadata": {
    "collapsed": false
   },
   "outputs": [
    {
     "data": {
      "text/plain": [
       "215221"
      ]
     },
     "execution_count": 48,
     "metadata": {},
     "output_type": "execute_result"
    }
   ],
   "source": [
    "len(vocab.keys())"
   ]
  },
  {
   "cell_type": "code",
   "execution_count": 49,
   "metadata": {
    "collapsed": false
   },
   "outputs": [
    {
     "data": {
      "text/plain": [
       "[u\"cake'\",\n",
       " u'Craziness',\n",
       " u'nunnery',\n",
       " u'EXPLAIN',\n",
       " u'transend',\n",
       " u'sowell',\n",
       " u'Panzergroup',\n",
       " u'fleeces',\n",
       " u'woods',\n",
       " u'clotted']"
      ]
     },
     "execution_count": 49,
     "metadata": {},
     "output_type": "execute_result"
    }
   ],
   "source": [
    "vocab.keys()[:10]"
   ]
  },
  {
   "cell_type": "code",
   "execution_count": 50,
   "metadata": {
    "collapsed": false
   },
   "outputs": [
    {
     "data": {
      "text/plain": [
       "<gensim.models.word2vec.Vocab at 0x7f35109b4090>"
      ]
     },
     "execution_count": 50,
     "metadata": {},
     "output_type": "execute_result"
    }
   ],
   "source": [
    "vocab['sowell']"
   ]
  },
  {
   "cell_type": "code",
   "execution_count": 51,
   "metadata": {
    "collapsed": true
   },
   "outputs": [],
   "source": [
    "word = vocab['sowell']"
   ]
  },
  {
   "cell_type": "code",
   "execution_count": 55,
   "metadata": {
    "collapsed": false
   },
   "outputs": [
    {
     "data": {
      "text/plain": [
       "107432"
      ]
     },
     "execution_count": 55,
     "metadata": {},
     "output_type": "execute_result"
    }
   ],
   "source": [
    "word.index"
   ]
  },
  {
   "cell_type": "code",
   "execution_count": 59,
   "metadata": {
    "collapsed": false
   },
   "outputs": [
    {
     "name": "stdout",
     "output_type": "stream",
     "text": [
      "[-0.04111374 -0.02500165  0.00240249 -0.05194312  0.01736004  0.03923237\n",
      " -0.02321895 -0.00029489  0.01171858 -0.00763664 -0.00423318 -0.01935696\n",
      "  0.02693051  0.03966122 -0.0059855   0.01473564 -0.03234283 -0.01823245\n",
      "  0.00217189 -0.00654919 -0.0153838  -0.01858403 -0.01150477  0.02978476\n",
      "  0.0007985  -0.00109669  0.02316413  0.00655458  0.00364505 -0.01039089\n",
      " -0.04070766 -0.00415223  0.00397358 -0.03976255  0.00087709  0.01718757\n",
      "  0.01112527 -0.01105386 -0.01857648  0.03114931  0.0043707   0.01010265\n",
      " -0.00273892 -0.0237     -0.01758535  0.00644217 -0.00706726  0.00386565\n",
      " -0.00940999 -0.01003488  0.00647073 -0.00198868  0.01122584 -0.00729731\n",
      " -0.01108328 -0.00288173 -0.03437344 -0.01104882 -0.00978341  0.00688382\n",
      " -0.02149723  0.02091461  0.01071058 -0.02032779 -0.03376953 -0.01208208\n",
      " -0.00408209 -0.05274599  0.00043536  0.00033211  0.01783239 -0.02652001\n",
      "  0.00933295 -0.00230759  0.01432832  0.00012344 -0.00400857  0.01431063\n",
      "  0.01445851  0.02728147  0.01825923  0.01869242  0.01830155 -0.00825256\n",
      "  0.045708    0.03971025  0.00137035 -0.01573875  0.0172827  -0.01429381\n",
      " -0.0038722   0.01460732  0.0089898  -0.01145308  0.00755344 -0.00210035\n",
      "  0.01141434  0.02177677  0.00615427  0.01965106  0.02330759 -0.03340856\n",
      " -0.04588184  0.00261034  0.03905431  0.005461   -0.0309504  -0.00192739\n",
      " -0.00713987  0.0111334  -0.00216861  0.01159589  0.01985407 -0.02078279\n",
      " -0.02032344 -0.03079031  0.00209977 -0.01274467  0.02649581 -0.00062849\n",
      " -0.01215605 -0.05419955  0.01790452 -0.01735547  0.00837917 -0.00153469\n",
      "  0.03456865 -0.05325317  0.01586758 -0.03847298  0.01485192  0.01143985\n",
      "  0.00046204  0.05696256 -0.01798709 -0.00318238  0.01850352 -0.04155617\n",
      "  0.04122665  0.00567383 -0.0074503  -0.03310946  0.04023556 -0.01783714\n",
      "  0.02726265 -0.0141836   0.02438884  0.01868067  0.02759301 -0.02397838\n",
      "  0.00075403  0.0204922   0.02197541  0.00397953  0.00990431 -0.00941213\n",
      " -0.01188141  0.0141815  -0.00814373  0.0063068  -0.00220684  0.01542826\n",
      " -0.0127088  -0.02779719  0.00744291  0.0013038  -0.01480073  0.006438\n",
      "  0.01416349 -0.00457946 -0.01541557 -0.01298807 -0.01882389 -0.0168133\n",
      "  0.00142719  0.02837362  0.00350059 -0.01504229 -0.00446812  0.01438555\n",
      "  0.02853093 -0.00883114 -0.01737806 -0.0025397  -0.03711834 -0.00841873\n",
      "  0.02722701 -0.0054467   0.00467661  0.01786073 -0.00658744  0.03463225\n",
      "  0.01566959  0.00348195 -0.01589103 -0.0164353   0.00094127 -0.01806031\n",
      " -0.04044517  0.02790125  0.04024201  0.02701897 -0.02881585 -0.00378977\n",
      " -0.00488664  0.01974203  0.00728836 -0.00369063 -0.01337916 -0.01104925\n",
      "  0.00736075  0.00108332  0.00720279 -0.00605611  0.00031024 -0.00624926\n",
      " -0.02142286  0.01413467 -0.00153332 -0.02454466  0.01693262 -0.01152521\n",
      "  0.02843513 -0.00839742  0.00444771 -0.00746116  0.01148958 -0.00943075\n",
      " -0.00844916  0.004551   -0.00449355 -0.0079079   0.01043462 -0.02941891\n",
      " -0.0231054  -0.01493952  0.01705624  0.00976374 -0.02708174  0.00410496\n",
      " -0.00873282  0.01186389 -0.00686416 -0.0059383  -0.00071539  0.01431673\n",
      "  0.00555304 -0.01986418  0.02321977 -0.01541338 -0.02609937 -0.01995953\n",
      " -0.00048183  0.02400667  0.00318615  0.0232248  -0.00973626 -0.02275565\n",
      "  0.0136182   0.01457288 -0.00870228  0.01823884  0.0293435  -0.03017141\n",
      "  0.01055535 -0.00944739 -0.00471609  0.00337423  0.01817558  0.01331917\n",
      " -0.00462779  0.00374128  0.020611    0.01693613  0.01753112 -0.00468499\n",
      "  0.01089525  0.026834    0.01085776 -0.02172902 -0.01086674 -0.02038584\n",
      "  0.0041761  -0.02284047 -0.01594419  0.00255587 -0.00970417  0.04408061\n",
      "  0.01091218 -0.01157123 -0.03443874 -0.03418404 -0.03463555  0.0125404\n",
      "  0.00753943  0.01536337  0.02890608  0.02568626 -0.01141054 -0.00389267]\n"
     ]
    }
   ],
   "source": [
    "comment = 'hello world'.split(\" \")\n",
    "myvect = model.infer_vector(comment)\n",
    "print myvect"
   ]
  },
  {
   "cell_type": "code",
   "execution_count": 62,
   "metadata": {
    "collapsed": false
   },
   "outputs": [
    {
     "name": "stdout",
     "output_type": "stream",
     "text": [
      "[  1.24285102e-03  -1.29657832e-03   5.14305313e-04   1.31310441e-03\n",
      "   3.30964016e-04   8.09322170e-04  -5.70763252e-04  -4.74735134e-04\n",
      "   2.04503740e-04  -1.64516823e-04   1.21135334e-03   1.21228769e-03\n",
      "  -1.41432253e-03  -3.14957608e-04   1.15435303e-03  -2.24736941e-04\n",
      "  -1.38484733e-03  -1.29070238e-03   3.52830946e-04   5.44279872e-04\n",
      "   1.10735476e-03  -1.04843464e-03  -3.41511914e-04   1.30341633e-03\n",
      "  -6.44849555e-04  -1.29601581e-03  -1.07744410e-04   1.10998552e-03\n",
      "   6.85571518e-04  -3.35332734e-04  -4.42845077e-04  -1.35943049e-03\n",
      "  -1.56357617e-03  -1.17807882e-03   1.13402412e-03  -1.34440212e-04\n",
      "  -3.37475707e-04  -1.51634391e-03   1.17436284e-03   6.81731792e-04\n",
      "   5.00002818e-04  -1.15380972e-03   1.15671172e-03  -1.11719721e-03\n",
      "   9.72568931e-04  -3.75860633e-04   3.36922676e-04  -6.96208794e-04\n",
      "   6.73536677e-04   2.27944853e-04   1.40047050e-04  -2.13312713e-04\n",
      "  -5.23253053e-04   3.54013377e-04   1.42755732e-03   1.69788735e-04\n",
      "   8.25587544e-04  -1.22071803e-03  -1.71599633e-04  -4.77056252e-04\n",
      "  -9.93321999e-04   1.30426663e-04  -1.04855886e-03   1.56164030e-03\n",
      "   1.31402141e-03  -5.99207415e-04  -9.61448131e-06  -7.38294184e-05\n",
      "  -1.47946912e-03  -1.19769515e-03  -3.30931129e-04  -1.26279623e-03\n",
      "   1.34205341e-03   8.70183692e-04  -3.78213190e-05   7.94355466e-04\n",
      "   8.70299875e-04  -1.08907861e-03   3.88209621e-04   1.10034214e-03\n",
      "  -1.11678219e-03  -8.24136485e-04   6.01475826e-04   1.36912300e-03\n",
      "   9.96101182e-04  -5.94648664e-05  -9.95314447e-04  -9.50073649e-04\n",
      "  -4.93328029e-04  -5.28351578e-04   6.92845089e-04   5.29156881e-04\n",
      "   8.52441823e-04   1.18986028e-03  -5.54851198e-04  -1.35061692e-03\n",
      "   2.07954763e-05  -4.72145446e-04   7.25438760e-04  -1.18317793e-03\n",
      "   1.55764096e-03  -1.38493336e-03   1.06755167e-03   1.28428568e-03\n",
      "  -5.17147942e-04   1.11647719e-03  -9.62227583e-04  -1.64729625e-03\n",
      "   7.21607474e-04   1.83258817e-05   4.24271653e-04   1.60843704e-03\n",
      "   8.12684069e-04  -1.19957817e-03  -3.60963808e-04  -6.83156977e-05\n",
      "   7.07257190e-04  -4.73036271e-05   1.50513230e-03   2.16111421e-05\n",
      "   6.84346887e-04  -6.68324763e-04   7.96574808e-04  -1.50033343e-03\n",
      "  -1.24968914e-03  -1.66360417e-03  -6.89976616e-04  -1.51505973e-03\n",
      "  -8.24688032e-05   1.41149387e-04  -1.26537855e-03   1.42640504e-03\n",
      "  -2.86668539e-04   6.38869184e-04   1.39660726e-03   1.47814257e-03\n",
      "  -9.46782704e-04   3.02362983e-04  -7.41624855e-04   3.25924135e-04\n",
      "  -6.55866403e-04  -1.48525997e-03   1.66444143e-03   1.61672244e-03\n",
      "  -5.78635954e-04   1.16024923e-03  -6.02324610e-04  -1.63115491e-03\n",
      "  -1.64665107e-04   5.37466491e-04  -1.00073568e-03  -1.43053476e-03\n",
      "  -1.44765410e-03  -1.46549672e-03  -6.71054935e-04  -1.24123471e-03\n",
      "  -5.24255156e-04  -3.92476126e-04   1.79225517e-05   4.86500125e-04\n",
      "   1.77196664e-04   1.32546131e-03   1.06850278e-03  -9.34778829e-04\n",
      "   1.83726414e-04   1.38497574e-03  -2.12250321e-04  -1.10455346e-03\n",
      "   5.05930162e-04   6.14404154e-04   1.62774813e-04  -1.29845680e-03\n",
      "   2.99543521e-04   9.79323173e-04  -5.55292470e-04  -8.33292797e-05\n",
      "  -1.70688843e-04   2.60640110e-04   1.05562608e-03   1.58454452e-04\n",
      "  -1.50604406e-03  -2.53608196e-05  -6.06746064e-04   8.01507558e-05\n",
      "   1.06298132e-03  -1.04816316e-03   8.30344274e-04   8.65144772e-04\n",
      "   9.22594278e-04  -5.42452559e-04   1.08180637e-03   7.23092409e-04\n",
      "  -8.70686199e-04   1.38719415e-03  -1.10167079e-03  -7.12447392e-04\n",
      "   1.55073975e-03   1.66658021e-03  -1.57412561e-03   5.64243353e-04\n",
      "  -8.45753937e-04   1.24583638e-03   1.33532030e-03   1.11449650e-03\n",
      "  -6.49038004e-04  -6.50598842e-04   7.51515792e-04   8.22467628e-05\n",
      "   6.41385035e-04  -5.99347637e-04   1.66343793e-03   1.73441818e-04\n",
      "  -3.69484158e-04  -8.57451058e-04   2.22361676e-04   6.33481774e-04\n",
      "   1.25034444e-03   8.02298542e-04  -1.13411923e-03  -6.59665675e-04\n",
      "  -1.21318270e-03   9.29615111e-04  -7.57992239e-05  -9.80554381e-04\n",
      "  -3.69939720e-04  -1.49466319e-03   8.78220308e-04  -7.76818080e-04\n",
      "   8.95755424e-04   1.64227199e-03  -1.06735170e-05  -1.12913003e-04\n",
      "  -1.54282781e-03  -1.55227914e-04  -1.26978150e-04  -4.68331964e-05\n",
      "  -6.40298298e-04  -5.02409530e-04  -5.40491128e-05   4.74969624e-04\n",
      "   5.93840552e-04  -1.23400800e-03  -1.20597321e-03  -7.10080785e-04\n",
      "   8.24188872e-04  -1.05032593e-03   6.90798159e-04   1.23007951e-04\n",
      "  -8.01436137e-04   2.84738082e-04   1.51505973e-03   1.31770247e-03\n",
      "   1.41019153e-03  -2.45564384e-04   1.48093968e-03  -1.48178835e-03\n",
      "  -1.38716887e-05   5.46180876e-04   1.20621594e-03  -1.58285862e-03\n",
      "   1.39503030e-03  -1.64992199e-03   2.38894994e-04  -1.34671965e-04\n",
      "   2.49832286e-04   4.86037345e-04  -1.36212143e-03  -1.43044235e-04\n",
      "   1.66535517e-03   1.46464934e-03   1.34212803e-03  -1.12829485e-03\n",
      "  -3.35586228e-04   6.69820933e-04  -4.58008813e-04  -1.28884870e-03\n",
      "  -1.17663387e-03  -1.12720788e-03   1.40631699e-03   4.25208738e-04\n",
      "   1.54787826e-03   7.37967435e-04   1.40252023e-03  -1.52976729e-03\n",
      "  -1.52215175e-03  -7.47605576e-04  -1.01363461e-03  -1.33286684e-03\n",
      "  -1.01464230e-03   8.91762495e-04  -9.40994301e-04   2.39472298e-04\n",
      "   5.12518105e-04   4.15431045e-04  -4.70137049e-04   1.02431828e-03\n",
      "  -1.60394666e-05  -4.44189238e-04   1.28376065e-03   3.23429442e-04]\n"
     ]
    }
   ],
   "source": [
    "comment = ':)'.split(\" \")\n",
    "myvect = model.infer_vector(comment)\n",
    "print myvect"
   ]
  },
  {
   "cell_type": "code",
   "execution_count": 8,
   "metadata": {
    "collapsed": false
   },
   "outputs": [],
   "source": [
    "def mostSimilarDoc(model,comment):\n",
    "    '''\n",
    "    Input: doc2vec model, comment is a str\n",
    "    Output: the label of the doc most similar to the comment\n",
    "    '''\n",
    "    \n",
    "    docvecs = model.docvecs\n",
    "    \n",
    "    wordTokens = mytokenizer(comment)\n",
    "#     wordTokens = comment.split(\" \")\n",
    "    commentVec = model.infer_vector(wordTokens)\n",
    "    \n",
    "    \n",
    "    mostSimVec = None\n",
    "    bestSimVal = None\n",
    "    \n",
    "    for vec_ind in xrange(len(docvecs)):\n",
    "        simVal = 1 - cosine(commentVec,docvecs[vec_ind])\n",
    "        \n",
    "        if simVal>bestSimVal:\n",
    "            mostSimVec = vec_ind\n",
    "            bestSimVal = simVal\n",
    "    \n",
    "    \n",
    "    return docvecs.index_to_doctag(mostSimVec), bestSimVal\n",
    "    \n",
    "        \n",
    "        "
   ]
  },
  {
   "cell_type": "code",
   "execution_count": 20,
   "metadata": {
    "collapsed": false
   },
   "outputs": [
    {
     "ename": "ValueError",
     "evalue": "sample larger than population",
     "output_type": "error",
     "traceback": [
      "\u001b[1;31m---------------------------------------------------------------------------\u001b[0m",
      "\u001b[1;31mValueError\u001b[0m                                Traceback (most recent call last)",
      "\u001b[1;32m<ipython-input-20-de476a830e9e>\u001b[0m in \u001b[0;36m<module>\u001b[1;34m()\u001b[0m\n\u001b[1;32m----> 1\u001b[1;33m \u001b[0mrandom\u001b[0m\u001b[1;33m.\u001b[0m\u001b[0msample\u001b[0m\u001b[1;33m(\u001b[0m\u001b[0mxrange\u001b[0m\u001b[1;33m(\u001b[0m\u001b[1;36m10\u001b[0m\u001b[1;33m)\u001b[0m\u001b[1;33m,\u001b[0m \u001b[1;36m11\u001b[0m\u001b[1;33m)\u001b[0m\u001b[1;33m\u001b[0m\u001b[0m\n\u001b[0m",
      "\u001b[1;32m/home/mgupta/anaconda2/lib/python2.7/random.pyc\u001b[0m in \u001b[0;36msample\u001b[1;34m(self, population, k)\u001b[0m\n\u001b[0;32m    321\u001b[0m         \u001b[0mn\u001b[0m \u001b[1;33m=\u001b[0m \u001b[0mlen\u001b[0m\u001b[1;33m(\u001b[0m\u001b[0mpopulation\u001b[0m\u001b[1;33m)\u001b[0m\u001b[1;33m\u001b[0m\u001b[0m\n\u001b[0;32m    322\u001b[0m         \u001b[1;32mif\u001b[0m \u001b[1;32mnot\u001b[0m \u001b[1;36m0\u001b[0m \u001b[1;33m<=\u001b[0m \u001b[0mk\u001b[0m \u001b[1;33m<=\u001b[0m \u001b[0mn\u001b[0m\u001b[1;33m:\u001b[0m\u001b[1;33m\u001b[0m\u001b[0m\n\u001b[1;32m--> 323\u001b[1;33m             \u001b[1;32mraise\u001b[0m \u001b[0mValueError\u001b[0m\u001b[1;33m(\u001b[0m\u001b[1;34m\"sample larger than population\"\u001b[0m\u001b[1;33m)\u001b[0m\u001b[1;33m\u001b[0m\u001b[0m\n\u001b[0m\u001b[0;32m    324\u001b[0m         \u001b[0mrandom\u001b[0m \u001b[1;33m=\u001b[0m \u001b[0mself\u001b[0m\u001b[1;33m.\u001b[0m\u001b[0mrandom\u001b[0m\u001b[1;33m\u001b[0m\u001b[0m\n\u001b[0;32m    325\u001b[0m         \u001b[0m_int\u001b[0m \u001b[1;33m=\u001b[0m \u001b[0mint\u001b[0m\u001b[1;33m\u001b[0m\u001b[0m\n",
      "\u001b[1;31mValueError\u001b[0m: sample larger than population"
     ]
    }
   ],
   "source": [
    "random.sample(xrange(10), 11)"
   ]
  },
  {
   "cell_type": "code",
   "execution_count": 23,
   "metadata": {
    "collapsed": false
   },
   "outputs": [
    {
     "name": "stdout",
     "output_type": "stream",
     "text": [
      "0.187\n"
     ]
    }
   ],
   "source": [
    "numsamps = 1000\n",
    "randrows = random.sample(xrange(len(df.index)), numsamps)\n",
    "comments = df.ix[randrows,'body'].values\n",
    "subreddits = df.ix[randrows,'subreddit'].values\n",
    "count = 0\n",
    "for row,comment in enumerate(comments):\n",
    "    predictedSub, simVal = mostSimilarDoc(model,comment)\n",
    "    if predictedSub == subreddits[row]:\n",
    "        count+=1\n",
    "        \n",
    "print count/float(len(comments))\n"
   ]
  },
  {
   "cell_type": "code",
   "execution_count": 23,
   "metadata": {
    "collapsed": false
   },
   "outputs": [
    {
     "name": "stdout",
     "output_type": "stream",
     "text": [
      "TwoXChromosomes\n",
      "0.119427390737\n"
     ]
    }
   ],
   "source": [
    "predictedSub, simVal = mostSimilarDoc(model,'')\n",
    "print predictedSub\n",
    "print simVal"
   ]
  },
  {
   "cell_type": "code",
   "execution_count": 10,
   "metadata": {
    "collapsed": false
   },
   "outputs": [
    {
     "data": {
      "text/plain": [
       "False"
      ]
     },
     "execution_count": 10,
     "metadata": {},
     "output_type": "execute_result"
    }
   ],
   "source": [
    "wordTokens = \"hi\"\n",
    "\n",
    "commentVec1 = model.infer_vector(wordTokens)\n",
    "commentVec2 = model.infer_vector(wordTokens)\n",
    "\n",
    "np.array_equal(commentVec1, commentVec2)\n",
    "\n",
    "    "
   ]
  },
  {
   "cell_type": "code",
   "execution_count": null,
   "metadata": {
    "collapsed": true
   },
   "outputs": [],
   "source": []
  }
 ],
 "metadata": {
  "kernelspec": {
   "display_name": "Python [Root]",
   "language": "python",
   "name": "Python [Root]"
  },
  "language_info": {
   "codemirror_mode": {
    "name": "ipython",
    "version": 2
   },
   "file_extension": ".py",
   "mimetype": "text/x-python",
   "name": "python",
   "nbconvert_exporter": "python",
   "pygments_lexer": "ipython2",
   "version": "2.7.11"
  }
 },
 "nbformat": 4,
 "nbformat_minor": 0
}
