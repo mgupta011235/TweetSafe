{
 "cells": [
  {
   "cell_type": "code",
   "execution_count": 1,
   "metadata": {
    "collapsed": false
   },
   "outputs": [],
   "source": [
    "import pandas as pd\n",
    "import cPickle as pickle\n",
    "import sqlite3\n",
    "import numpy as np\n",
    "from gensim.models.doc2vec import LabeledSentence\n",
    "import cjson"
   ]
  },
  {
   "cell_type": "code",
   "execution_count": 4,
   "metadata": {
    "collapsed": false
   },
   "outputs": [],
   "source": [
    "df = pd.DataFrame(np.arange(9).reshape(3,3))"
   ]
  },
  {
   "cell_type": "code",
   "execution_count": 5,
   "metadata": {
    "collapsed": false
   },
   "outputs": [
    {
     "name": "stdout",
     "output_type": "stream",
     "text": [
      "9\n",
      "(3, 3)\n"
     ]
    }
   ],
   "source": [
    "print df.size\n",
    "print df.shape"
   ]
  },
  {
   "cell_type": "code",
   "execution_count": 2,
   "metadata": {
    "collapsed": true
   },
   "outputs": [],
   "source": [
    "pathway = '../../data/labeledRedditComments2.p'\n",
    "path2 = '../../data/RedditMay2015Comments.sqlite'"
   ]
  },
  {
   "cell_type": "code",
   "execution_count": 3,
   "metadata": {
    "collapsed": true
   },
   "outputs": [],
   "source": [
    "df = pickle.load(open(pathway, 'rb'))"
   ]
  },
  {
   "cell_type": "code",
   "execution_count": 4,
   "metadata": {
    "collapsed": true
   },
   "outputs": [],
   "source": [
    "def ishateful(subreddit):\n",
    "    '''\n",
    "    Input: str subreddit\n",
    "    Output: int 1 if hateful subreddit, 0 otherwise\n",
    "    '''\n",
    "\n",
    "    # List of not hateful subreddits\n",
    "    final_nothate_srs = ['politics', 'worldnews', 'history', 'blackladies', 'lgbt',\n",
    "                         'TransSpace', 'women', 'TwoXChromosomes', 'DebateReligion',\n",
    "                         'religion', 'islam', 'Judaism', 'BodyAcceptance', 'fatlogic'\n",
    "                         'gaybros','AskMen','AskWomen']\n",
    "    # List of hateful subreddits\n",
    "    final_hateful_srs = ['CoonTown', 'WhiteRights', 'Trans_fags', 'SlutJustice',\n",
    "                         'TheRedPill', 'KotakuInAction', 'IslamUnveiled', 'GasTheKikes',\n",
    "                         'AntiPOZi', 'fatpeoplehate', 'TalesofFatHate','hamplanethatred',\n",
    "                         'shitniggerssay','neofag','altright']\n",
    "\n",
    "    if subreddit in final_hateful_srs:\n",
    "        return 1\n",
    "    else:\n",
    "        return 0"
   ]
  },
  {
   "cell_type": "code",
   "execution_count": 5,
   "metadata": {
    "collapsed": false
   },
   "outputs": [
    {
     "data": {
      "text/plain": [
       "Index([u'subreddit', u'id', u'name', u'body', u'label'], dtype='object')"
      ]
     },
     "execution_count": 5,
     "metadata": {},
     "output_type": "execute_result"
    }
   ],
   "source": [
    "df.columns"
   ]
  },
  {
   "cell_type": "code",
   "execution_count": 6,
   "metadata": {
    "collapsed": false
   },
   "outputs": [
    {
     "data": {
      "text/plain": [
       "0    1234794\n",
       "1     565494\n",
       "Name: label, dtype: int64"
      ]
     },
     "execution_count": 6,
     "metadata": {},
     "output_type": "execute_result"
    }
   ],
   "source": [
    "df.label.value_counts()"
   ]
  },
  {
   "cell_type": "code",
   "execution_count": null,
   "metadata": {
    "collapsed": true
   },
   "outputs": [],
   "source": []
  },
  {
   "cell_type": "code",
   "execution_count": null,
   "metadata": {
    "collapsed": true
   },
   "outputs": [],
   "source": []
  },
  {
   "cell_type": "code",
   "execution_count": null,
   "metadata": {
    "collapsed": true
   },
   "outputs": [],
   "source": []
  },
  {
   "cell_type": "code",
   "execution_count": 4,
   "metadata": {
    "collapsed": false
   },
   "outputs": [
    {
     "data": {
      "text/plain": [
       "Index([u'subreddit', u'id', u'name', u'body', u'label'], dtype='object')"
      ]
     },
     "execution_count": 4,
     "metadata": {},
     "output_type": "execute_result"
    }
   ],
   "source": [
    "df.columns"
   ]
  },
  {
   "cell_type": "code",
   "execution_count": 6,
   "metadata": {
    "collapsed": false
   },
   "outputs": [],
   "source": [
    "numcomments = len(df.index)"
   ]
  },
  {
   "cell_type": "code",
   "execution_count": 10,
   "metadata": {
    "collapsed": false
   },
   "outputs": [
    {
     "data": {
      "text/plain": [
       "worldnews          490354\n",
       "fatpeoplehate      311183\n",
       "politics           244927\n",
       "AskMen             138839\n",
       "AskWomen           137889\n",
       "KotakuInAction     128156\n",
       "TwoXChromosomes    105130\n",
       "TheRedPill          59145\n",
       "CoonTown            51979\n",
       "DebateReligion      41015\n",
       "islam               25443\n",
       "history             25242\n",
       "Judaism              9103\n",
       "lgbt                 8253\n",
       "TalesofFatHate       5239\n",
       "AntiPOZi             4740\n",
       "blackladies          4396\n",
       "religion             2623\n",
       "Trans_fags           2362\n",
       "WhiteRights          1352\n",
       "GasTheKikes           919\n",
       "BodyAcceptance        579\n",
       "women                 529\n",
       "TransSpace            472\n",
       "SlutJustice           309\n",
       "IslamUnveiled         110\n",
       "Name: subreddit, dtype: int64"
      ]
     },
     "execution_count": 10,
     "metadata": {},
     "output_type": "execute_result"
    }
   ],
   "source": [
    "df['subreddit'].value_counts()"
   ]
  },
  {
   "cell_type": "code",
   "execution_count": 11,
   "metadata": {
    "collapsed": false
   },
   "outputs": [
    {
     "data": {
      "text/plain": [
       "NotHate    1234794\n",
       "Hate        565494\n",
       "Name: label, dtype: int64"
      ]
     },
     "execution_count": 11,
     "metadata": {},
     "output_type": "execute_result"
    }
   ],
   "source": [
    "df['label'].value_counts()"
   ]
  },
  {
   "cell_type": "code",
   "execution_count": 12,
   "metadata": {
    "collapsed": false
   },
   "outputs": [
    {
     "data": {
      "text/plain": [
       "0.45796626805766794"
      ]
     },
     "execution_count": 12,
     "metadata": {},
     "output_type": "execute_result"
    }
   ],
   "source": [
    "565494.0/1234794.0"
   ]
  },
  {
   "cell_type": "code",
   "execution_count": 35,
   "metadata": {
    "collapsed": false
   },
   "outputs": [],
   "source": [
    "def reddit_comment_gen(df):\n",
    "''' Input: a pandas df\n",
    "    Output: this is a generator that gives the next row in the df'''  \n",
    "\n",
    "    numrows = df.size\n",
    "    for row in xrange(numrows):\n",
    "\n",
    "\n",
    "        # load a comment\n",
    "        comment = df.iloc[row,:]\n",
    "\n",
    "        # Load the JSON object\n",
    "        body = str(comment['body'])\n",
    "        subreddit = str(comment['subreddit'])\n",
    "\n",
    "        # Clean and tokenize text\n",
    "#             body = text_cleaner(body)\n",
    "\n",
    "        # generate\n",
    "#             yield LabeledSentence(body,labels=[str(json_object['subreddit'])])\n",
    "        yield \"{}: {}\".format(subreddit,body)"
   ]
  },
  {
   "cell_type": "code",
   "execution_count": 36,
   "metadata": {
    "collapsed": false
   },
   "outputs": [],
   "source": [
    "mygen = reddit_comment_gen(df)"
   ]
  },
  {
   "cell_type": "code",
   "execution_count": 41,
   "metadata": {
    "collapsed": false
   },
   "outputs": [
    {
     "data": {
      "text/plain": [
       "'CoonTown: Someone has deeper internal issues they have with themselves. '"
      ]
     },
     "execution_count": 41,
     "metadata": {},
     "output_type": "execute_result"
    }
   ],
   "source": [
    "mygen.next()"
   ]
  },
  {
   "cell_type": "code",
   "execution_count": 46,
   "metadata": {
    "collapsed": false
   },
   "outputs": [
    {
     "data": {
      "text/plain": [
       "<sqlite3.Cursor at 0x7f51712bf6c0>"
      ]
     },
     "execution_count": 46,
     "metadata": {},
     "output_type": "execute_result"
    }
   ],
   "source": [
    "conn = sqlite3.connect(path2)\n",
    "c = conn.cursor()\n",
    "c.execute('SELECT subreddit, body FROM MAY2015 LIMIT 5')"
   ]
  },
  {
   "cell_type": "code",
   "execution_count": 49,
   "metadata": {
    "collapsed": false
   },
   "outputs": [],
   "source": [
    "val = c.next()"
   ]
  },
  {
   "cell_type": "code",
   "execution_count": 53,
   "metadata": {
    "collapsed": false
   },
   "outputs": [
    {
     "data": {
      "text/plain": [
       "u\"gg this one's over. off to watch the NFL draft I guess\""
      ]
     },
     "execution_count": 53,
     "metadata": {},
     "output_type": "execute_result"
    }
   ],
   "source": [
    "val[1]"
   ]
  },
  {
   "cell_type": "code",
   "execution_count": 54,
   "metadata": {
    "collapsed": false
   },
   "outputs": [
    {
     "data": {
      "text/plain": [
       "sqlite3.Cursor"
      ]
     },
     "execution_count": 54,
     "metadata": {},
     "output_type": "execute_result"
    }
   ],
   "source": [
    "type(c)"
   ]
  },
  {
   "cell_type": "code",
   "execution_count": 56,
   "metadata": {
    "collapsed": false
   },
   "outputs": [
    {
     "name": "stdout",
     "output_type": "stream",
     "text": [
      "(u'politics', u\"Are you really implying we return to those times or anywhere near that political environment?  If so, you won't have much luck selling the American people on that governance concept without ushering in American Revolution 2.0.\")\n",
      "(u'AskReddit', u\"No one has a European accent either  because it doesn't exist. There are accents from Europe but not a European accent.\")\n",
      "(u'AskReddit', u'That the kid \"..reminds me of Kevin.\"   so sad :-(')\n"
     ]
    }
   ],
   "source": [
    "for i in c:\n",
    "    print i"
   ]
  },
  {
   "cell_type": "code",
   "execution_count": 84,
   "metadata": {
    "collapsed": false
   },
   "outputs": [],
   "source": [
    "def sql_gen(c):\n",
    "''' Input: sqlite3 cursor to a sqlite3 database\n",
    "    Output: this is a generator that gives the next query result from c'''  \n",
    "\n",
    "    for comment in c:\n",
    "        try:\n",
    "            subreddit = str(comment[0])\n",
    "            body = str(comment[1])\n",
    "            yield \"{}: {}\".format(subreddit,body)\n",
    "        except:\n",
    "            yield None\n",
    "\n",
    "# need except statement because sometimes the body or subreddit can't be converted to a str'\n",
    "#         yield comment"
   ]
  },
  {
   "cell_type": "code",
   "execution_count": 90,
   "metadata": {
    "collapsed": false
   },
   "outputs": [
    {
     "name": "stderr",
     "output_type": "stream",
     "text": [
      "Exception RuntimeError: 'generator ignored GeneratorExit' in <generator object sql_gen at 0x7f514691adc0> ignored\n"
     ]
    }
   ],
   "source": [
    "conn = sqlite3.connect(path2)\n",
    "c = conn.cursor()\n",
    "c.execute('SELECT subreddit, body FROM MAY2015')\n",
    "mygen = sql_gen(c)"
   ]
  },
  {
   "cell_type": "code",
   "execution_count": 93,
   "metadata": {
    "collapsed": false
   },
   "outputs": [
    {
     "name": "stdout",
     "output_type": "stream",
     "text": [
      "politics: Are you really implying we return to those times or anywhere near that political environment?  If so, you won't have much luck selling the American people on that governance concept without ushering in American Revolution 2.0.\n"
     ]
    }
   ],
   "source": [
    "print mygen.next()"
   ]
  },
  {
   "cell_type": "code",
   "execution_count": 95,
   "metadata": {
    "collapsed": false
   },
   "outputs": [
    {
     "name": "stdout",
     "output_type": "stream",
     "text": [
      "gaming: Sweet , great Idea there as well \n",
      "\n",
      "BabyBumps: Thanks for the heads up! Good to know!\n",
      "\n",
      "trees: Bruh\n",
      "\n",
      "IAmA: VERY looking forward to *Pollo Empire* once Better Call Saul finishes it's sixth season!\n",
      "\n",
      "nfl: Can we sticky these main 4 threads? \n",
      "\n",
      "WTF: what does it look like now?\n",
      "\n",
      "Frugal: Right, the tens of thousands of people who installed their own all killed themselves.\n",
      "\n",
      "Electricity is only dangerous if you're stupid and don't follow the electrical code.\n",
      "\n",
      "Its very simple stuff that you can pick up if you're handy and can read.\n",
      "\n",
      "Do have a licensed electrician install the crossover switch as most municipalities require that.\n",
      "\n",
      "\n",
      "CoDCompetitive: Some hands don't physically allow you to claw \n",
      "\n",
      "AskReddit: Go back to Route 21, dude.\n",
      "\n",
      "WTF: I'm trying to eat a fucking fajita here dammit\n",
      "\n",
      "lgbt: Thank you for your advice. I'll try to remember that this all takes time-even though it's frustrating :)\n",
      "\n",
      "trees: Legalize medical marijuana in 2001 too! Just goes to show how forward thinking this guy is.\n",
      "\n",
      "AskReddit: They're oh-so-bravely standing up to the massive circlejerk... only to be showered in upvotes, and probably gold.\n",
      "\n",
      "leagueoflegends: Honestly I don't have as much of a problem paying for Chroma's when they are for the base texture and not for a skin. The \"Blucian\" as I'll call it for now, is one I want to get, and will probably purchase at some point and feel the price is, while above what I would say is worth the value of it, what I will pay for this **one** in particular.\n",
      "\n",
      "However I do think it's worth looking into other ways of obtaining the Chroma's outside of RP purchases.\n",
      "\n",
      "WouldYouFuckMyWife: i love your ass also i can see why he does to\n",
      "\n",
      "circlejerk: [deleted]\n",
      "\n",
      "pcmasterrace: Yeah, but [60% boards,](http://i.imgur.com/gKoR38B.png) and the like, have layouts that are of normal size, just very minimal in all other aspects. What I mean is, all the keys are about the same size, and about the same distance from each other as larger, more regular keyboards; they just have fewer keys and lower profile casings etc.\n",
      "\n",
      "This keyboard looks like all the keys are smaller, and not spaced out to compensate for the size, meaning the whole layout is very compressed. Must be intended for mobile/portable use.\n",
      "\n",
      "EnoughLibertarianSpam: Sounds to me like unprofitable businesses are finding anything to blame but themselves for their failures.  Nah, can't be.  People who run businesses are all brilliant captains of industry incapable of failure, right?\n",
      "\n",
      "AskReddit: I think the whole \"American politics are crazy\" thing came from the fact that they are relatively transparent and that we treat them half seriously and half as entertainment value and then export them to the rest of the world for the same purpose.  If you have a modicum of understanding of how the American system works and who some of the major personalities are, you can enjoy shows like the Daily Show.  I'm sure satirical political programming exists in other countries, but we've mastered the genre.  Plus its like sports-- we can banter about how bad our team's draft picks were and how congress/the president/the democrats/the republicans are taking us to hell in a hand basket over a few beers.\n",
      "\n",
      "because when I read about some of the political sleaze that goes on in other countries that I never hear about, I'm fascinated and amazed.\n",
      "\n",
      "AskReddit: Fuck pound coins... thick and heavy fuckers with almost no use...\n",
      "\n",
      "beerporn: discontinued...for a good reason .   .   .   oops\n",
      "\n",
      "nfl: Woo. 2015 NFL Draft Draft, here we go.\n",
      "\n",
      "FancyFollicles: Rainbow is just too much fun to not do at least once.\n",
      "\n",
      "Koyoteelaughter: We do like them !!!\n",
      "\n",
      "AskReddit: Someone was telling me a long story about an elderly man they knew who had recently gotten remarried after his wife died.  I was barely listening and said something like \"when did she die?\", to which they replied \"2 years ago\", to which I replied.. \"oh that's cute\".  \n",
      "\n",
      "Then realized I meant it was cute he got remarried or something.  Whatev I'm an ass and I don't listen.  \n",
      "\n",
      "Smite: That means each of those teams will play two games back-to-back. This isn't a best of series like they normally do, it's seeing which team can gather the most wins throughout the tournament. At least, that's what I've gathered about it.\n",
      "\n",
      "Fireteams: freelancer i0wa 31 warlock\n",
      "\n",
      "\n",
      "civ: I'm pretty sure that's the peace music.\n",
      "\n",
      "todayilearned: This shouldn't be fucking with me as much as it is\n",
      "\n",
      "xboxone: I'd bet ui gets faster, probably refreshed look (probably nothing major) and new functionality (streaming, app store, background apps, etc)\n",
      "\n",
      "LifeProTips: Good thing you didn't get pulled over by a Cop, who would have taken that cash off your hands.\n",
      "\n",
      "PhotoshopRequest: Thank you kind strangers\n",
      "\n",
      "CircleGrump: priv8\n",
      "\n",
      "OpTicGaming: If he's first to die, he'll act like the round is already over. \n",
      "\n",
      "Reds: Nope. \n",
      "\n",
      "TheRedPill: Because they, in fact, we the British, are cowards who shy away from real, painful issues like Rotherham, and squabble over non-issues like this. \n",
      "\n",
      "GamerGhazi: Yes! He is the most ethical and not racist of all GGers!\n",
      "\n",
      "AskReddit: Yes, that's what's going on.  \"Fatter\" means something different to a starving child than it does to a 300lb adult.\n",
      "\n",
      "KotakuInAction: &gt;a woman's life was torn apart\n",
      "\n",
      "Dude, she has fame, a successful career, a rich boyfriend, and legions of devoted supporters. Her life was torn apart? She's living the American Dream.\n",
      "\n",
      "linuxadmin: You would do mdadm --detail /dev/sda[x], on the partition, not the drive.  List the output from the partitions of each md.  Use pastebin if you need to.\n",
      "\n",
      "List what drives you have, which are the existing ones, and which is the replacement.  List the output of fdisk -l.\n",
      "\n",
      "\n",
      "\n",
      "SquaredCircle: In commenting on the botch, you botched your words. Beautiful.\n",
      "\n",
      "hookah: Why choose to stop glazing all the way through?\n",
      "\n",
      "nfl: THANK YOU!  Everywhere else on that site I tried needed me to login to something and I wasn't having any of it.\n",
      "\n",
      "TotalDramaRoleplay: Not Heather's fault! Dakota fail...\n",
      "\n",
      "trees: [A$AP Rocky - Purple Swag (Jim-E Stack Remix)](https://www.youtube.com/watch?v=RGwbF8rCX6s) \n",
      "\n",
      "Not a top five list, but I really think this one's worth a listen.\n",
      "\n",
      "Minecraft: Here is a better idea of the changes I would like to see made:\n",
      "http://www.docdroid.net/yz50/a-list-of-tweaks.pdf.html\n",
      "\n",
      "\n",
      "Once I have some free time, I'm going to try working these into a mod.\n",
      "\n",
      "AskReddit: [deleted]\n",
      "\n",
      "whatisthisthing: Difficult to tell from the potato but maybe a [silverfish](http://en.wikipedia.org/wiki/Silverfish)\n",
      "\n",
      "hiphopheads: Blue Dream &amp; Lean 2- Juicy J\n",
      "\n",
      "If You're Reading This It's Too Late- Drake\n",
      "\n",
      "Sorry 4 the Wait 2- Lil Wayne\n",
      "\n",
      "AskReddit: \"Japanese slut double penetrated by horny black guys\"......\n",
      "\n",
      "Am I one of the black guys or am I the Asian chick? It could mean the difference between getting my ass rammed by two ginormous dongs and having rough sex with a cute girl.\n",
      "\n",
      "AskReddit: \"That's great and all, but what about my anecdotal evidence?\"\n",
      "\n",
      "\"Same industry\" means nothing. I know a lot of people in my \"industry\" that make way more and way less for no particular reason other than different companies pay different amounts.\n",
      "\n",
      "jakeandamir: I'm not wearing the - oh... dude, what the f- Chill dude!\n",
      "\n",
      "hockey: That's not silence. That's the sound of thousands of clenched assholes. \n",
      "\n",
      "WTF: Idiot, tattoos are permanent. \n",
      "\n",
      "Minecraft: I experience this too, I think it's just a bug you have to get used to.\n",
      "\n",
      "I've tried everything as far as encasing them entirely in obsidian and they still escape. It seems to occur when you leave the area and then return to it or close the game and reload while near it.\n",
      "\n",
      "todayilearned: /r/DickPics4Freedom [NSFW]\n",
      "\n",
      "twitchplayspokemon: You double posted.\n",
      "\n",
      "AskReddit: The implications of that varies between cultures. Don't be racist.\n",
      "\n",
      "WTF: He'd make a great extra in The Walking Dead.\n",
      "\n",
      "IAmA: I think only once actually.\n",
      "\n",
      "electronic_cigarette: How much does a mod this unnecessarily large and gorgeous set you back if you don't mind me asking?\n",
      "\n",
      "AdviceAnimals: I don't know. Where?\n",
      "\n",
      "soccer: Was that close to ozil leaving when he said it? I'm not aware of the situation with ozil's transfer aside from Real Madrid fans being really upset at him leaving but i did not follow the team/la liga itself much at that time.\n",
      "\n",
      "nba: What did the 5 fingers say to the face?\n",
      "\n",
      "#Pau!!!\n",
      "\n",
      "AskReddit: [deleted]\n",
      "\n",
      "CanadianForces: What was the process like for you to join the boarding party?\n",
      "\n",
      "malefashion: Happy to help. Do note that I didn't get to wear it as much as I wanted, so the leather MIGHT get softer after breaking it in more. But I'll have to wait for better weather to bring it out.\n",
      "\n",
      "amiibo: I Don't Really Know Why... But Why Not? :)\n",
      "\n",
      "legaladvice: *I am a bot whose sole purpose is to improve the timeliness and accuracy of responses in this subreddit.*\n",
      "\n",
      "---\r\n",
      "**It appears you forgot to include your location in the title or body of your post.**\n",
      "\n",
      "**Please update the original post to include this information.**\n",
      "\n",
      "---\r\n",
      "[Report Inaccuracies Here](http://www.reddit.com/r/LocationBot/) | [Author](http://reddit.com/u/ianp)\n",
      "\n",
      "\r\n",
      "---\r\n",
      "Original Post:\r\n",
      "\r\n",
      "**Boss required me to sign a document waiving my right take a lunch/breaks. Help /r/legaladvice!**\r\n",
      "\r\n",
      "&gt; I work in the food service industry in Seattle, and have been with my current company for about 5 years. Back in December, every member of our customer service staff (it's a small corporate chain, less than 200 employees) was required to sign [this document](http://imgur.com/iwa6IEQ), or else have all of our shifts cut to 4 hours each in length or less.  I work for minimum wage, and have never been offered or granted a raise by this company when I've asked.  I'm not passionate about my currently line of work, but my personal sense of justice feels violated to the point of needing to put my foot down.\n",
      "&gt; \n",
      "&gt; I know what you're thinking: \"Get a new job!\" And yes, I'm in the process of looking for another job using other skills. A few of my coworkers are like family to me.  While I might be able to leave the situation, they aren't as fortunate, and that frustration bugs me to no end. The management at this company has stepped over the line of reason, and I'm not sure what legal recourse to utilize, or where to start.\n",
      "&gt; \n",
      "&gt; -I know that their encouraging me to sign this document is illegal.\n",
      "&gt; -I also know that I would lose my job if my employer read this post (as such, I've removed the header from the document)\n",
      "&gt; \n",
      "&gt; What do I do /r/legaladvice!?  Halp!\n",
      "\n",
      "None\n",
      "\n",
      "drunk: \"Why don't you just eat it you weirdo?\"\n",
      "-My girlfriend\n",
      "\n",
      "politics: Seems morally questionable to me, but if that's what you support? I would disagree but to each their own.\n",
      "\n",
      "Guildwars2: So it's literally bots buying it?\n",
      "\n",
      "AskReddit: You're just trying to get to the front page.  I see through your facade!!!\n",
      "\n",
      "pokemonconspiracies: Let's face it, we also couldn't imagine small animals beating each other to death with fire, but then it happened when Pokemon released and we see it just fine. \n",
      "\n",
      "DotA2: Would you like more salt on that rant ?\n",
      "\n",
      "TrueDoTA2: 4 defend 1 where the 1 is the weakest hero and not worth ganking. He may offer xp but he will yield such low gold. I think it is a legitimate strat in itself. \n",
      "\n",
      "DebateAnAtheist: Faith is not based on logic or reason, and therefore, logic and reason are of little import to the faithful, and of little use in defeating faith.\n",
      "\n",
      "A theist could answer any and all of these questions with a blithe \"Isn't God amazing?  He can do ANYTHING!!\".\n",
      "\n",
      "None\n",
      "\n",
      "bodybuilding: Just wait till you hop on the juice. Will never feel the same.\n",
      "\n",
      "TrollXSupport: [deleted]\n",
      "\n",
      "Smite: Huh, I never knew about the double space trick.  \n",
      "Thanks!\n",
      "\n",
      "funny: Is this from a show or....?\n",
      "\n",
      "streetwear: Looks like something that could be in vintage versace.\n",
      "\n",
      "rangers:  try to get loud please\n",
      "\n",
      "Tinder: I've got two tickets to taradise!\n",
      "\n",
      "MLPLounge: [](/rocklobster) what would you like in return?\n",
      "\n",
      "LucidDreaming: But if the alarm doesn't wake you up, how would you tap? If you're a deep sleeper, you could just set a loud, long alarm.\n",
      "\n",
      "Planetside: i dont know, things get added into COMING SOON a week in advance anyway, and are in the files long before.\n",
      "\n",
      "^^i ^^just ^^really ^^am ^^lonley ^^without ^^anyone ^^else ^^to ^^be ^^tron ^^magrider ^^with\n",
      "\n",
      "technology: I live in a rural area and have been sold 'high speed' internet before by a representative by phone.  I received all the account information, dsl router, and it was totally legitimate.  Of course, did not have dsl available in my area and I had to return all the equipment they shipped to me in a timely manner.  \n",
      "We really need more people holding these guys accountable for this kind of shit.\n",
      "\n",
      "nfl: In a show of friendship, I'm gonna join the Jets fans in booing their draft pick\n",
      "\n",
      "pics: Try Dominion and Betrayal at House on the Hill (terrible name, I know). They are not difficult in any sense, but great boardgames!\n",
      "\n",
      "PurplePillDebate: Well, I do see where you're coming from, but since the system is impossible, I\"m going to stick with democracy:)\n",
      "\n",
      "civbattleroyale: On an unrelated note, does anyone notice how close Poland resembles the Third Reich at its maximum expansion?\n",
      "\n",
      "nfl: Whatchu doing here Hawkeye?\n",
      "\n",
      "teslore: The Dragonborn has the problem of being a PC, a character which is undefined apart from their destiny (i.e. the Main Quest).\n",
      "\n",
      "What could be said, however, is that the Dragonborn does face their destiny. They are not ignorant or avoiding of their purpose, and are up to the challenge.\n",
      "\n",
      "Tgirls: It looks like anime?\n",
      "\n",
      "pics: It's like the living people are zombies and the dead one is a survivor.\n",
      "\n",
      "chicagobulls: I truly believe with this combination, we only lose to ourselves. No team can compete consistently if we keep this effort up.\n",
      "\n",
      "IAmA: Yeah. People try to make a defending argument, but they always end up sounding like poetic, pretentious bullshit. They jump though hoops to try and find ways to make it true, but it's just not.\n",
      "\n"
     ]
    }
   ],
   "source": [
    "for i in xrange(100):\n",
    "    print mygen.next()\n",
    "    print \"\""
   ]
  },
  {
   "cell_type": "code",
   "execution_count": null,
   "metadata": {
    "collapsed": true
   },
   "outputs": [],
   "source": []
  }
 ],
 "metadata": {
  "kernelspec": {
   "display_name": "Python [Root]",
   "language": "python",
   "name": "Python [Root]"
  },
  "language_info": {
   "codemirror_mode": {
    "name": "ipython",
    "version": 2
   },
   "file_extension": ".py",
   "mimetype": "text/x-python",
   "name": "python",
   "nbconvert_exporter": "python",
   "pygments_lexer": "ipython2",
   "version": "2.7.11"
  }
 },
 "nbformat": 4,
 "nbformat_minor": 0
}
