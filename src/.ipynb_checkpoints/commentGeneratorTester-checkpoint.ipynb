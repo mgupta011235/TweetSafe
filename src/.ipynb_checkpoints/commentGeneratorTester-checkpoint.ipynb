{
 "cells": [
  {
   "cell_type": "code",
   "execution_count": 43,
   "metadata": {
    "collapsed": false
   },
   "outputs": [],
   "source": [
    "import pandas as pd\n",
    "import cPickle as pickle\n",
    "import sqlite3\n",
    "from gensim.models.doc2vec import LabeledSentence\n",
    "import cjson"
   ]
  },
  {
   "cell_type": "code",
   "execution_count": null,
   "metadata": {
    "collapsed": true
   },
   "outputs": [],
   "source": []
  },
  {
   "cell_type": "code",
   "execution_count": 45,
   "metadata": {
    "collapsed": true
   },
   "outputs": [],
   "source": [
    "pathway = '../../data/labeledRedditComments.p'\n",
    "path2 = '../../data/RedditMay2015Comments.sqlite'"
   ]
  },
  {
   "cell_type": "code",
   "execution_count": 15,
   "metadata": {
    "collapsed": true
   },
   "outputs": [],
   "source": [
    "df = pickle.load(open(pathway, 'rb'))"
   ]
  },
  {
   "cell_type": "code",
   "execution_count": 4,
   "metadata": {
    "collapsed": false
   },
   "outputs": [
    {
     "data": {
      "text/plain": [
       "Index([u'subreddit', u'id', u'name', u'body', u'label'], dtype='object')"
      ]
     },
     "execution_count": 4,
     "metadata": {},
     "output_type": "execute_result"
    }
   ],
   "source": [
    "df.columns"
   ]
  },
  {
   "cell_type": "code",
   "execution_count": 6,
   "metadata": {
    "collapsed": false
   },
   "outputs": [],
   "source": [
    "numcomments = df.size"
   ]
  },
  {
   "cell_type": "code",
   "execution_count": 10,
   "metadata": {
    "collapsed": false
   },
   "outputs": [
    {
     "data": {
      "text/plain": [
       "worldnews          490354\n",
       "fatpeoplehate      311183\n",
       "politics           244927\n",
       "AskMen             138839\n",
       "AskWomen           137889\n",
       "KotakuInAction     128156\n",
       "TwoXChromosomes    105130\n",
       "TheRedPill          59145\n",
       "CoonTown            51979\n",
       "DebateReligion      41015\n",
       "islam               25443\n",
       "history             25242\n",
       "Judaism              9103\n",
       "lgbt                 8253\n",
       "TalesofFatHate       5239\n",
       "AntiPOZi             4740\n",
       "blackladies          4396\n",
       "religion             2623\n",
       "Trans_fags           2362\n",
       "WhiteRights          1352\n",
       "GasTheKikes           919\n",
       "BodyAcceptance        579\n",
       "women                 529\n",
       "TransSpace            472\n",
       "SlutJustice           309\n",
       "IslamUnveiled         110\n",
       "Name: subreddit, dtype: int64"
      ]
     },
     "execution_count": 10,
     "metadata": {},
     "output_type": "execute_result"
    }
   ],
   "source": [
    "df['subreddit'].value_counts()"
   ]
  },
  {
   "cell_type": "code",
   "execution_count": 11,
   "metadata": {
    "collapsed": false
   },
   "outputs": [
    {
     "data": {
      "text/plain": [
       "NotHate    1234794\n",
       "Hate        565494\n",
       "Name: label, dtype: int64"
      ]
     },
     "execution_count": 11,
     "metadata": {},
     "output_type": "execute_result"
    }
   ],
   "source": [
    "df['label'].value_counts()"
   ]
  },
  {
   "cell_type": "code",
   "execution_count": 12,
   "metadata": {
    "collapsed": false
   },
   "outputs": [
    {
     "data": {
      "text/plain": [
       "0.45796626805766794"
      ]
     },
     "execution_count": 12,
     "metadata": {},
     "output_type": "execute_result"
    }
   ],
   "source": [
    "565494.0/1234794.0"
   ]
  },
  {
   "cell_type": "code",
   "execution_count": 35,
   "metadata": {
    "collapsed": false
   },
   "outputs": [],
   "source": [
    "def reddit_comment_gen(df):\n",
    "''' Input: a pandas df\n",
    "    Output: this is a generator that gives the next row in the df'''  \n",
    "\n",
    "    numrows = df.size\n",
    "    for row in xrange(numrows):\n",
    "\n",
    "\n",
    "        # load a comment\n",
    "        comment = df.iloc[row,:]\n",
    "\n",
    "        # Load the JSON object\n",
    "        body = str(comment['body'])\n",
    "        subreddit = str(comment['subreddit'])\n",
    "\n",
    "        # Clean and tokenize text\n",
    "#             body = text_cleaner(body)\n",
    "\n",
    "        # generate\n",
    "#             yield LabeledSentence(body,labels=[str(json_object['subreddit'])])\n",
    "        yield \"{}: {}\".format(subreddit,body)"
   ]
  },
  {
   "cell_type": "code",
   "execution_count": 36,
   "metadata": {
    "collapsed": false
   },
   "outputs": [],
   "source": [
    "mygen = reddit_comment_gen(df)"
   ]
  },
  {
   "cell_type": "code",
   "execution_count": 41,
   "metadata": {
    "collapsed": false
   },
   "outputs": [
    {
     "data": {
      "text/plain": [
       "'CoonTown: Someone has deeper internal issues they have with themselves. '"
      ]
     },
     "execution_count": 41,
     "metadata": {},
     "output_type": "execute_result"
    }
   ],
   "source": [
    "mygen.next()"
   ]
  },
  {
   "cell_type": "code",
   "execution_count": 46,
   "metadata": {
    "collapsed": false
   },
   "outputs": [
    {
     "data": {
      "text/plain": [
       "<sqlite3.Cursor at 0x7f51712bf6c0>"
      ]
     },
     "execution_count": 46,
     "metadata": {},
     "output_type": "execute_result"
    }
   ],
   "source": [
    "conn = sqlite3.connect(path2)\n",
    "c = conn.cursor()\n",
    "c.execute('SELECT subreddit, body FROM MAY2015 LIMIT 5')"
   ]
  },
  {
   "cell_type": "code",
   "execution_count": 49,
   "metadata": {
    "collapsed": false
   },
   "outputs": [],
   "source": [
    "val = c.next()"
   ]
  },
  {
   "cell_type": "code",
   "execution_count": 53,
   "metadata": {
    "collapsed": false
   },
   "outputs": [
    {
     "data": {
      "text/plain": [
       "u\"gg this one's over. off to watch the NFL draft I guess\""
      ]
     },
     "execution_count": 53,
     "metadata": {},
     "output_type": "execute_result"
    }
   ],
   "source": [
    "val[1]"
   ]
  },
  {
   "cell_type": "code",
   "execution_count": 54,
   "metadata": {
    "collapsed": false
   },
   "outputs": [
    {
     "data": {
      "text/plain": [
       "sqlite3.Cursor"
      ]
     },
     "execution_count": 54,
     "metadata": {},
     "output_type": "execute_result"
    }
   ],
   "source": [
    "type(c)"
   ]
  },
  {
   "cell_type": "code",
   "execution_count": 56,
   "metadata": {
    "collapsed": false
   },
   "outputs": [
    {
     "name": "stdout",
     "output_type": "stream",
     "text": [
      "(u'politics', u\"Are you really implying we return to those times or anywhere near that political environment?  If so, you won't have much luck selling the American people on that governance concept without ushering in American Revolution 2.0.\")\n",
      "(u'AskReddit', u\"No one has a European accent either  because it doesn't exist. There are accents from Europe but not a European accent.\")\n",
      "(u'AskReddit', u'That the kid \"..reminds me of Kevin.\"   so sad :-(')\n"
     ]
    }
   ],
   "source": [
    "for i in c:\n",
    "    print i"
   ]
  },
  {
   "cell_type": "code",
   "execution_count": 84,
   "metadata": {
    "collapsed": false
   },
   "outputs": [],
   "source": [
    "def sql_gen(c):\n",
    "''' Input: sqlite3 cursor to a sqlite3 database\n",
    "    Output: this is a generator that gives the next query result from c'''  \n",
    "\n",
    "    for comment in c:\n",
    "        try:\n",
    "            subreddit = str(comment[0])\n",
    "            body = str(comment[1])\n",
    "            yield \"{}: {}\".format(subreddit,body)\n",
    "        except:\n",
    "            yield None\n",
    "\n",
    "# need except statement because sometimes the body or subreddit can't be converted to a str'\n",
    "#         yield comment"
   ]
  },
  {
   "cell_type": "code",
   "execution_count": 90,
   "metadata": {
    "collapsed": false
   },
   "outputs": [
    {
     "name": "stderr",
     "output_type": "stream",
     "text": [
      "Exception RuntimeError: 'generator ignored GeneratorExit' in <generator object sql_gen at 0x7f514691adc0> ignored\n"
     ]
    }
   ],
   "source": [
    "conn = sqlite3.connect(path2)\n",
    "c = conn.cursor()\n",
    "c.execute('SELECT subreddit, body FROM MAY2015')\n",
    "mygen = sql_gen(c)"
   ]
  },
  {
   "cell_type": "code",
   "execution_count": 93,
   "metadata": {
    "collapsed": false
   },
   "outputs": [
    {
     "name": "stdout",
     "output_type": "stream",
     "text": [
      "politics: Are you really implying we return to those times or anywhere near that political environment?  If so, you won't have much luck selling the American people on that governance concept without ushering in American Revolution 2.0.\n"
     ]
    }
   ],
   "source": [
    "print mygen.next()"
   ]
  },
  {
   "cell_type": "code",
   "execution_count": 94,
   "metadata": {
    "collapsed": false
   },
   "outputs": [
    {
     "name": "stdout",
     "output_type": "stream",
     "text": [
      "AskReddit: No one has a European accent either  because it doesn't exist. There are accents from Europe but not a European accent.\n",
      "AskReddit: That the kid \"..reminds me of Kevin.\"   so sad :-(\n",
      "bloodborne: Haha, i was getting nauseous from it, if that was your ingame experience that would have given a whole new level of Bloodborne ^^ \n",
      "relationships: After reading this, I wholeheartedly believe you should let her go. \n",
      "\n",
      "You and her simply aren't compatible. She's looking for a committment and you're bent on avoiding it. You should figure out your committment issues before getting into a committed relationship.  \n",
      "Tennesseetitans: Let's do this. See you guys on the other side.\n",
      "cigars: You can buy a mystery sampler from small batch and request them\n",
      "GlobalOffensive: Nihilum and LG are significantly better off in theory. I can't really think of a replacement for Ptr that would leave CLG in a better place than they were before. Cloud9 should be much better, but you never know.\n",
      "eagles: Fuck that what\n",
      "smashbros: Don't diss the Grim Puncher!\n",
      "None\n",
      "GoogleCardboard: Trinus vr is amazing but it'd be cool to be able to just sit anywhere and play without turning the pc on, it seems like a waste not making fully functional games for gc.\n",
      "None\n",
      "nrl: http://www.reddit.com/comments/125gb1/some_of_the_best_comments_from_the_rsoccer_and/\n",
      "elderscrollsonline: and what about all of the players who hit vr 14 after 1.6 but before the removal of them?\n",
      "childfree: I would be tempted to excuse myself to the bathroom every time (so you don't piss him off, because he's your boss), with disgusting details (for negative reinforcement purposes). \n",
      "\n",
      "\"Hold on, sir, I really want to hear more about the mucus plug, but I have to run before I end up with mushy green diarrhea in my pants. Be right back.\"\n",
      "ExNoContact: I can't answer better than Acquittal. \n",
      "\n",
      "I just want you to know that I think you made the right decision. Good luck ! \n",
      "AskReddit: NSFL\n",
      "AusFinance: I'd recommend, if you have the time, to get an account with Citibank and get the Citibank Plus transaction account - they have no fees on currency conversion or transfers and charge no international atm withdrawal fees. Been using them recently for my overseas trips, pretty handy.\n",
      "amiibo: I'm just an ordinary collector like everyone else here. Frankly, I think you and everyone else who do giveaways are awesome. It gives people who never had the chance to get these two, to FINALLY get them. If I win, cool. If I don't, then it's cool that it ended up in the hands of someone here that also wanted WFT and Ike.\n",
      "todayilearned: Get back to your pott harry.\n",
      "amateurradio: 99.99% of the power is filtered on the motherboard before it reaches any core components. hence no crashing, really shitty power supply will cause it to crash if its really bad, I.E. bad caps in the PSU. good grammar and punctuation on the Internets dose not mean you're smart, douche. \n",
      "stevenuniverse: At least we got StevenBomb.\n",
      "thewitcher3: [deleted]\n",
      "pics: Me too. Same hammock fabric, too.\n",
      "amiibo: I would like to use them for training \n",
      "Shaboozey: Dodger's got a video on it on her Dexbonus channel, and Sam has a video of it on his channel, but yeah basically his visa is expiring. They have to go back to long distance for probably a year at least, but I wouldn't worry about them. They seem like they're in it for the long haul.\n",
      "leagueoflegends: well i think new ashe is good at killing tanks but i would just switch up the build i think ie &gt; static/pd is must have on ashe as first items and i would never switch them up then &gt; lw/bc whatever feels/is better &gt;lw/bc/bt/botrk (whatever is over and u feel in need) &gt;runnans/scimitar/botrk/bc/bv\n",
      "\n",
      "never lw last item obv but there can be so many things changed up in ashe builds i hope to test this cuz im super hyped for new ashe :D\n",
      "zen: Oh, i don't find those annoying or obtuse. That's on you friend. \n",
      "SVRiders: Extended wheelies have a tendency to starve one of the cylinders of oil, if that's something you're into. Can't speak from experience but it was always warned of on the forums when I had mine. \n",
      "AskReddit: I'm a guy and I had no idea this was a thing guys did.\n",
      "YouEnterADungeon: The fire escape is there. You hear wood splintering, and look to see that a raptor has managed to break a hole in the top of the door, just above the dresser. Its head pokes through, then disappears. There's another thud, and the dresser moves forward a few inches.\n",
      "AskReddit: Mid twenties male rocking skinny jeans/pants, have a styled hair cut, and generally make a strong effort to look good. Setting off gaydars for nearly 10 years. The kicker is my little brother is actually gay, and he is all rugged macho man. \n",
      "australia: How so?\n",
      "\n",
      "Importing &gt;8kgs of heroin - that is going to be cut (with God knows what) and pumped into the veins of addicted Australians, is bound, statistically, to have caused at least one drug related overdose death.\n",
      "\n",
      "Is that drawing too long a bow?  I think not.\n",
      "\n",
      "...and the crime is treated in a similar way to murder - from a penalty perspective.\n",
      "None\n",
      "Kayaking: Definitely test a few.  I was told as a beginner I would be happy with a 10 ft sit-on. But I have some boating experience,  and ended up with a 12.5 ft sit-in.  I love the weight and the response time.  And I can go a lot further in it.  Splash splash! \n",
      "GlobalOffensiveTrade: thanks for your contribution :3\n",
      "Ill still wait a little for more people helping me\n",
      "photoshopbattles: It would be wise to think carefully about how you treat those of clan Photoshop. \n",
      "americandad: [deleted]\n",
      "thebutton: In other words, never make a decision, and you will remain forever free\n",
      "atheism: He's not claiming a god exists. He's positing a god exists and he's positing that someone created him.\n",
      "AdviceAnimals: That's something you hear a lot from people when discussing huge builds like this, especially with new vehicles.\n",
      "\n",
      "For starters, the interior. Heated leather automatic electronic cooled touch screen activated everything, most guys don't want to do a crazy overhaul on their interior and if you have money to burn (this is a hypothetical dream build after all) why not get the one with the fanciest interior?\n",
      "\n",
      "Then there's the fact that the Rubicon trim level comes with a bunch of required off road kit. Lockers, heavy duty axles, and an electronic disconnecting sway bar to name a few... these are all features that any self respecting modern off roader would have. So, you could buy a Sahara or well equipped Sport for like $35K then spend 20 grand (or better) on axle swaps, gear swaps, skid plates, locking differentials, etc, voiding warranty, or you could just buy a stock Rubicon for $45K that comes with all that gear from the factory. In the long run it's just cheaper to buy the Rubicon if you plan on doing a serious build.\n",
      "\n",
      " \n",
      "beermoney: very interested indeed\n",
      "videos: Because we aren't responsible for the actions of our forebears?\n",
      "\n",
      "We should help these people not because of some race karma but because of love for your common man. \n",
      "\n",
      "And we've tried. We give them advantages by giving them things like affirmative action, diversity quotas and scholarships that white people (even ones as poor or poorer) don't get. They don't want change. \n",
      "\n",
      "The black community has lashed out against a problem for which even they don't have a solution. \n",
      "\n",
      "What do they want from us? To abolish police and law? To remove punishments for black crime and release black criminals? To force white people to not leave a neighborhood when black people start moving in (and as a measurable consequence, an increase in crime)? \n",
      "\n",
      "The cause of their problems lie in two places: \n",
      "\n",
      "The actions of a misguided \"community\" in which individuals use race as an excuse to commit more crime\n",
      "\n",
      "And individual prejudice inside of every day people who collectively make life harder for them. \n",
      "\n",
      "The former of the the two possibly being a consequence of the latter but I digress. The second one won't be fixed with violent riots and crime. It only makes more racists. And the only way you could forcibly change that would be with an Orwellian Thought Police system which is immoral on the deepest level. \n",
      "\n",
      "How do you change the mind of the individual? I'm not completely sure. Nobody really is. If black rioters/criminals started taking responsibility for their actions, made an effort to improve relations with the common man and stopped glorifying thuggish and criminal activity, white people would take notice and shift even further from their subconscious racist tendencies. \n",
      "\n",
      "Because when something is so baked in to your consciousness, being a person isn't enough to earn a chance to not be hated, you need to give people a reason to not be racist towards you. (and I'm not saying this is how it should be, it's just how it is) \n",
      "rupaulsdragrace: The only ones I'm surprised we haven't seen are any Bjork song and Walking On Sunshine by Katrina and The Waves\n",
      "falcons: I'm just glad we're done with mock draft season. \n",
      "KotakuInAction: 'There are no bad tactics, only bad targets' - some dumbass\n",
      "\n",
      "Getting mad ain't the problem, its how that anger is expressed...which happens to be the same damn way every time.  SJW is just a subset of entitled internet asshole.\n",
      "Kappa: It's the pants\n",
      "footballmanagergames: On my Schalke save I'm using the same formation but retain possession short passing and work ball into box. Then against big teams and tough away games I go play narrower and exploit the flanks and against easier teams at home I go play wider. Whipped crosses, Close down More, Get stuck in on both. \n",
      "\n",
      "I have one DLP and BBM in my home tactic and a BWM and a DLP in my away tactic. Meyer I play Attacking Mid so he contributes more to the defensive side of things. One WB on my home tactic and 1 FB and 2 FBs on my away tactic. \n",
      "\n",
      "I had to get another good midfielder so I bought the two Romero's, bought Silva for the LB, luckily their front 4 are all great starters including the back ups so I haven't had to buy much there. \n",
      "nsfw: Scary...\n",
      "malefashionadvice: As the great Alex James said, \"A man with a Barbour jacket and a bottle of champagne is invincible\" - get the Barbour! It compliments your build the best and it's just an awesome jacket\n",
      "ReefTank: Any tips/ suggestions on this so far? \n",
      "movies: [deleted]\n",
      "nba: Well yeah. The first two games Washington won, everyone was still bitching at him for bad plays \n",
      "AskReddit: Fran Drescher laughing\n",
      "AskReddit: I honestly wouldn't have believed it if I didn't live it. She made his life hell and I had a front row seat. I'm just glad I had a front row seat to her confession and firing. :)\n",
      "GrandTheftAutoV_PC: What I suggested ? It's not the point of hitting a car or not. It's the way it's done.....with a reputation system as I proposed you would end up in races with a similar driver i.e clean, or dirty.\n",
      "AskReddit: &lt;/3 \n",
      "Browns: Cleveland checking in!\n",
      "syriancivilwar: There is also many intelligence service players in area. It is easiest to create a large conflict with the false flag terrorist attacks on both sides and encourage the cycle of revenge.\n",
      "ramen: Yep!\n",
      "rule34: http://sfmsnip.tumblr.com/\n",
      "friendsafari: Added. I hope it is not too late. I'd really like a Snubbull.\n",
      "AskReddit: no money, just ID, driver license, credit cards and a subway stampcard\n",
      "nba: **[STREAMLINK](http://intsports.net/str10.html)**\n",
      "Courtesy of /r/nbastreams and /u/djramaa\n",
      "news: 1-She got to be a bigwig at Google by sleeping with the boss\n",
      "2-She is a sociopath\n",
      "\n",
      "Saints: [deleted]\n",
      "anime: I can see how that could easily go. People often rate for enjoyment. When you're at the end of that show you can be like \"Aw it's over? That's how they end it? Oh well, I guess it was good throughout the season. 7... or maybe an 8\" but then you go back and think about it a little \"Hmm why did I give it a 7 again? Yeah I liked the char... wait I didn't like the characters, they were all douchebags. There must have been one... Aoyama? And fuck the whole thing was frustrating. Fuck! Why did I like it again? ... I can't come up with anything. Now that I remember it was a terrible show, fuck! It's not even a 6, the whole thing was so shitty... more like a 4!\"\n",
      "\n",
      "I wouldn't count that as overanalysing. It's just that when the art and the characters are pretty you can forget and forgive a show for many things without realizing. Once this guy remembered the show was bad and there weren't more episodes or cute art to keep him distracted he gave it a more honest personal score.\n",
      "\n",
      "Of course all of this is probably overanalyzing on **my** part but it probably went somewhat like that.\n",
      "movies: Holy shit, I couldn't tell if some of those scenes were sped up or they were actually moving that fast.\n",
      "\n",
      "I need to watch more Martial Arts movies!\n",
      "ApocalypseRising: so fucking inspirational \n",
      "minecraftskins: ErickCachorroZL157\n",
      "deathgrips: i'm pretty sure the line is \"we ain't broke, on tour\" because of the misconception that they had broken up, despite tweeting that they hadn't, in addition to tweeting \"we're going on tour\"\n",
      "fantasybaseball: I'd do it, because, well...fish.\n",
      "razer: Download razer surround. It'll have the option to upgrade it in the program\n",
      "CoonTown: &gt;maybe jews\n",
      "\n",
      "not maybe\n",
      "bloodborne: D'awww thnx :)\n",
      "nfl: Do you get to just make up your nickname on NFLN? Because if that guys is \"Money\" I'm henceforth to be known as the \"Dance Commander\".\n",
      "49ers: I would love it. Him or Byron Jones from Uconn. \n",
      "\n",
      "Our backfield would rush for 2,500+ yards easy between him and Hyde/Bush. \n",
      "\n",
      "Not to mention Kap running the ball. \n",
      "AskReddit: Smoking tobacco. Went from shitty pall-malls to Marlboro to Turkish Silvers to American Spirits to hand-rolled to pipe before I decided I was going to die if I kept going.\n",
      "nfl: https://i.imgur.com/snLplqq.jpg\n",
      "FindAUnit: hmm interesting events, how many attends weekly ops? do you guys use modd?\n",
      "\n",
      "\n",
      "shitpost: Shitpost in r/shitpost.... shitception\n",
      "AskReddit: Bootleg Fireworks\n",
      "tDCS: Very low level, subtle mania.  From my coworkers reactions I'd guess it's just efficient zombie mode.  What I notice more often is that I'm physically tired.  Still alert enough mentally.  Dumb typo mistakes from my mind has moved on but the fingers are left to finish up the words.  Last night I get maybe 3-4 hours sleep.  Waking up kind of sucks, but when I first wake up, the brain fog lifts right away.  The next today (today) I'll go to bed earlier.  That means I'll wake up in the middle of night.  Once awake, wide awake.  But I know to wait and eventually fall asleep again or my sleep schedule is even further off.  Since I got more sleep, I can stay up a long time the next day.  And then on the weekends I'm ending up staying in bed, dozing or sleeping until the afternoon or evening.   \n",
      "\n",
      "Memory consolidation I still wonder about.  Am I not remembering as much if I sleep less?  Is my brain processing everything faster than normal, and it just doesn't need any extra time?  In terms of time having extra hours in the day is nice.  I get more done.  And that's translated into spending more time at work.  $$$  In terms of quality, it's kind of blah.  Blah before, blah now, but I feel less here.\n",
      "gamegrumps: woulda been perfect if he had been like \"it's legitimately in my top 10\"\n",
      "AskReddit: I'm a member of the tea party.\n",
      "gifs: Henchmen beware! Batman does not care if you are taking a shit.\n",
      "PoliticalDiscussion: Don't get me wrong as I'd love to give you a comprehensive, well-written response, but I have much more valuable ways to spend my time than to reply to your straw arguments and vitriol. Things like masturbating, or watching the universe age. \n",
      "youngsocialistunited: A speech class\n",
      "videos: But that isn't what is going on. You keep saying throwing bricks or rocks. That is the least of Baltimore s problem. The violence isn't even against the police.  It is against businesses and people, predominantly white people. That is racism. None of it is justified. Just like the LA riots weren't\n",
      "\n",
      "I am white &amp; I am not a racist. I don't support racism.\n",
      "GameDeals: I can't understand why they are so expensive, especially with the  console versions going for $2.  PC i supposed to be cheaper!\n",
      "fireemblemcasual: Did well on my quiz today, am now eating ice cream. Good day.\n",
      "nrl: M8. C'mon.\n",
      "gaming: All the ghosts are running even though they aren't blue. Everyone knows Blinky would be on that ass. On a serious note, good work OP, love the art style.\n",
      "BF_Hardline: How oh how did you get tier 4 without a hacker or hotwire???\n",
      "photoshopbattles: oh.. Well, sorry for the rage then. Also thank you for clearing it up and being so kind.\n",
      "AskReddit: That's one reason for it, but not the only one.  The other major one is the increased incidence of forced sex / indoctrination between families.\n",
      "DotA2: Ya razor to laser. Checks out\n",
      "ForeverAlone: Well no. It was in the middle of a study hall and I was in school. But still, knowing my paranoid anxiety fits the two things I'd be transfixed on would be either getting her pregnant or catching a disease. \n",
      "CasualConversation: I love malt vinegars.\n",
      "smashbros: Looks-wise yes, play-wise no\n"
     ]
    }
   ],
   "source": [
    "for i in xrange(100):\n",
    "    print mygen.next()"
   ]
  },
  {
   "cell_type": "code",
   "execution_count": null,
   "metadata": {
    "collapsed": true
   },
   "outputs": [],
   "source": []
  }
 ],
 "metadata": {
  "kernelspec": {
   "display_name": "Python [Root]",
   "language": "python",
   "name": "Python [Root]"
  },
  "language_info": {
   "codemirror_mode": {
    "name": "ipython",
    "version": 2
   },
   "file_extension": ".py",
   "mimetype": "text/x-python",
   "name": "python",
   "nbconvert_exporter": "python",
   "pygments_lexer": "ipython2",
   "version": "2.7.11"
  }
 },
 "nbformat": 4,
 "nbformat_minor": 0
}
